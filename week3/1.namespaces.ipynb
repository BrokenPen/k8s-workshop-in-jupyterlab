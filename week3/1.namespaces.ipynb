{
 "cells": [
  {
   "cell_type": "code",
   "execution_count": 62,
   "id": "2ca51179-1cb4-4cda-a453-934cb30f49f7",
   "metadata": {},
   "outputs": [
    {
     "name": "stdout",
     "output_type": "stream",
     "text": [
      "namespace \"kube-node-lease\" deleted\n",
      "Error from server (Forbidden): namespaces \"default\" is forbidden: this namespace may not be deleted\n",
      "Error from server (Forbidden): namespaces \"kube-public\" is forbidden: this namespace may not be deleted\n",
      "Error from server (Forbidden): namespaces \"kube-system\" is forbidden: this namespace may not be deleted\n",
      "pod \"hostname-695cf7968c-rlzrp\" deleted\n",
      "service \"kubernetes\" deleted\n",
      "deployment.apps \"hostname\" deleted\n",
      "replicaset.apps \"hostname-695cf7968c\" deleted\n",
      "Context \"minikube\" modified.\n"
     ]
    }
   ],
   "source": [
    "# 把之前的一些操作刪掉\n",
    "# 刪掉所有Namespaces\n",
    "! kubectl delete namespaces --all\n",
    "# 刪掉所有資源\n",
    "! kubectl delete all --all \n",
    "# 把預設 namespace 恢復回 default\n",
    "! kubectl config set-context --current --namespace=default"
   ]
  },
  {
   "cell_type": "markdown",
   "id": "215ffdc1-88d4-4b58-83fa-998250972167",
   "metadata": {},
   "source": [
    "# Namespaces \n",
    "\n",
    "- Namespaces 提供一個方式把資源隔離\n",
    "- kubectl 的默認 namespaces 是 `default`\n",
    "- 用法：同一個應用使用共同Namespaces\n"
   ]
  },
  {
   "cell_type": "code",
   "execution_count": 157,
   "id": "2bc31144-f6c2-4d50-8dda-94701a12a0a1",
   "metadata": {
    "tags": []
   },
   "outputs": [
    {
     "name": "stdout",
     "output_type": "stream",
     "text": [
      "CURRENT   NAME       CLUSTER    AUTHINFO   NAMESPACE\n",
      "*         minikube   minikube   minikube   development\n"
     ]
    }
   ],
   "source": [
    "# 查看目前使用的預設Namesapce名稱\n",
    "! kubectl config get-contexts "
   ]
  },
  {
   "cell_type": "code",
   "execution_count": 80,
   "id": "3b271ed5-938f-4129-9419-63cb8c5d3bb1",
   "metadata": {
    "tags": []
   },
   "outputs": [
    {
     "name": "stdout",
     "output_type": "stream",
     "text": [
      "NAME              STATUS   AGE\n",
      "default           Active   31s\n",
      "kube-node-lease   Active   33s\n",
      "kube-public       Active   33s\n",
      "kube-system       Active   33s\n"
     ]
    }
   ],
   "source": [
    "# 列出目前有的所有Namespaces \n",
    "! kubectl get namespaces"
   ]
  },
  {
   "cell_type": "markdown",
   "id": "1a556d65-dcbc-4db9-89e8-b18731c904d1",
   "metadata": {
    "tags": []
   },
   "source": [
    "## initial namespaces\n",
    "\n",
    "minikube(kubernetes)有4個內建的Namespaces\n",
    "\n",
    "- `default`: 默認namespaces\n",
    "- `kube-node-lease`: 處理lease租約。# 空的\n",
    "- `kube-public`: 公開namespaces, 爲經認證的節點也可以存取。# 空的\n",
    "- `kube-system`: created by kube-system, 包含維持kubernetes正常運行的deployment"
   ]
  },
  {
   "cell_type": "code",
   "execution_count": 81,
   "id": "03865726-fa1e-4f64-b853-10993a422f88",
   "metadata": {
    "tags": []
   },
   "outputs": [
    {
     "name": "stdout",
     "output_type": "stream",
     "text": [
      "NAME                 TYPE        CLUSTER-IP   EXTERNAL-IP   PORT(S)   AGE\n",
      "service/kubernetes   ClusterIP   10.96.0.1    <none>        443/TCP   35s\n"
     ]
    }
   ],
   "source": [
    "# 列印目前所有資源 (default)\n",
    "# 沒有資源是正常的，因爲你什麼資源都沒建立\n",
    "! kubectl get all"
   ]
  },
  {
   "cell_type": "code",
   "execution_count": 82,
   "id": "19b9970c-1f52-4b89-9ed8-08fdf8827bc0",
   "metadata": {},
   "outputs": [
    {
     "name": "stdout",
     "output_type": "stream",
     "text": [
      "No resources found in kube-node-lease namespace.\n"
     ]
    }
   ],
   "source": [
    "! kubectl get all -n kube-node-lease"
   ]
  },
  {
   "cell_type": "code",
   "execution_count": 83,
   "id": "e9bbb86e-9850-4205-b647-f0786b5f78d9",
   "metadata": {},
   "outputs": [
    {
     "name": "stdout",
     "output_type": "stream",
     "text": [
      "No resources found in kube-public namespace.\n"
     ]
    }
   ],
   "source": [
    "! kubectl get all -n kube-public"
   ]
  },
  {
   "cell_type": "code",
   "execution_count": 85,
   "id": "742994d7-714b-45fd-8b56-f51095e820f2",
   "metadata": {
    "tags": []
   },
   "outputs": [
    {
     "name": "stdout",
     "output_type": "stream",
     "text": [
      "NAME                                   READY   STATUS    RESTARTS      AGE\n",
      "pod/coredns-565d847f94-qw6qd           1/1     Running   0             42s\n",
      "pod/etcd-minikube                      1/1     Running   0             56s\n",
      "pod/kube-apiserver-minikube            1/1     Running   0             54s\n",
      "pod/kube-controller-manager-minikube   1/1     Running   0             54s\n",
      "pod/kube-proxy-2p6b8                   1/1     Running   0             42s\n",
      "pod/kube-scheduler-minikube            1/1     Running   0             54s\n",
      "pod/storage-provisioner                1/1     Running   1 (11s ago)   51s\n",
      "\n",
      "NAME               TYPE        CLUSTER-IP   EXTERNAL-IP   PORT(S)                  AGE\n",
      "service/kube-dns   ClusterIP   10.96.0.10   <none>        53/UDP,53/TCP,9153/TCP   55s\n",
      "\n",
      "NAME                        DESIRED   CURRENT   READY   UP-TO-DATE   AVAILABLE   NODE SELECTOR            AGE\n",
      "daemonset.apps/kube-proxy   1         1         1       1            1           kubernetes.io/os=linux   55s\n",
      "\n",
      "NAME                      READY   UP-TO-DATE   AVAILABLE   AGE\n",
      "deployment.apps/coredns   1/1     1            1           55s\n",
      "\n",
      "NAME                                 DESIRED   CURRENT   READY   AGE\n",
      "replicaset.apps/coredns-565d847f94   1         1         1       42s\n"
     ]
    }
   ],
   "source": [
    "# 列印在 kube-system namespaces 的所有資源\n",
    "! kubectl get all -n kube-system"
   ]
  },
  {
   "cell_type": "code",
   "execution_count": 86,
   "id": "74ecd405-245b-4b83-927a-2ede16400f47",
   "metadata": {},
   "outputs": [
    {
     "name": "stdout",
     "output_type": "stream",
     "text": [
      "deployment.apps/hostname created\n"
     ]
    }
   ],
   "source": [
    "# 建立一個Deploy # 沒有制度Namespace\n",
    "! kubectl create deployment hostname \\\n",
    "  --image=docker.io/brokenpen/hostname:v1"
   ]
  },
  {
   "cell_type": "code",
   "execution_count": 87,
   "id": "6c42f5ec-bdf5-414c-b700-a68b484e784d",
   "metadata": {},
   "outputs": [
    {
     "name": "stdout",
     "output_type": "stream",
     "text": [
      "deployment.apps/hostname labeled\n"
     ]
    }
   ],
   "source": [
    "# 把 deployment.apps/hostname 加上 env=prod 這個標籤\n",
    "! kubectl label \\\n",
    "  --overwrite deployment hostname env=prod"
   ]
  },
  {
   "cell_type": "code",
   "execution_count": 88,
   "id": "f5c8b639-d590-4a39-98cc-68fcf112ab48",
   "metadata": {},
   "outputs": [
    {
     "name": "stdout",
     "output_type": "stream",
     "text": [
      "Kind         Namespace    Name       Labels\n",
      "Deployment   default     hostname   map[app:hostname env:prod]\n"
     ]
    }
   ],
   "source": [
    "# 列印 deployment.apps/hostname的資訊\n",
    "! kubectl get deploy hostname \\\n",
    "  -o custom-columns=\"Kind:.kind,Namespace:.metadata.namespace, Name:.metadata.name, Labels:.metadata.labels\""
   ]
  },
  {
   "cell_type": "code",
   "execution_count": 89,
   "id": "cd3e5c0e-d7aa-4723-9dda-67346145c29e",
   "metadata": {
    "tags": []
   },
   "outputs": [
    {
     "name": "stdout",
     "output_type": "stream",
     "text": [
      "Name:                   hostname\n",
      "Namespace:              default\n",
      "CreationTimestamp:      Wed, 30 Nov 2022 08:11:03 +0000\n",
      "Labels:                 app=hostname\n",
      "                        env=prod\n",
      "Annotations:            deployment.kubernetes.io/revision: 1\n",
      "Selector:               app=hostname\n",
      "Replicas:               1 desired | 1 updated | 1 total | 0 available | 1 unavailable\n",
      "StrategyType:           RollingUpdate\n",
      "MinReadySeconds:        0\n",
      "RollingUpdateStrategy:  25% max unavailable, 25% max surge\n",
      "Pod Template:\n",
      "  Labels:  app=hostname\n",
      "  Containers:\n",
      "   hostname:\n",
      "    Image:        docker.io/brokenpen/hostname:v1\n",
      "    Port:         <none>\n",
      "    Host Port:    <none>\n",
      "    Environment:  <none>\n",
      "    Mounts:       <none>\n",
      "  Volumes:        <none>\n",
      "Conditions:\n",
      "  Type           Status  Reason\n",
      "  ----           ------  ------\n",
      "  Available      False   MinimumReplicasUnavailable\n",
      "  Progressing    True    ReplicaSetUpdated\n",
      "OldReplicaSets:  <none>\n",
      "NewReplicaSet:   hostname-695cf7968c (1/1 replicas created)\n",
      "Events:\n",
      "  Type    Reason             Age   From                   Message\n",
      "  ----    ------             ----  ----                   -------\n",
      "  Normal  ScalingReplicaSet  8s    deployment-controller  Scaled up replica set hostname-695cf7968c to 1\n"
     ]
    }
   ],
   "source": [
    "# 描述 deployment.apps/hostname\n",
    "! kubectl describe deployment hostname "
   ]
  },
  {
   "cell_type": "code",
   "execution_count": null,
   "id": "b11e8161-77c2-4a44-b4b2-f9d61480f794",
   "metadata": {},
   "outputs": [],
   "source": []
  },
  {
   "cell_type": "code",
   "execution_count": 91,
   "id": "c0611974-6e5e-4ea8-9f19-3dd040631b8c",
   "metadata": {},
   "outputs": [
    {
     "name": "stdout",
     "output_type": "stream",
     "text": [
      "error: failed to create deployment: deployments.apps \"hostname\" already exists\n"
     ]
    }
   ],
   "source": [
    "# 建立資源時指定 \n",
    "# namespaces: kube-public\n",
    "! kubectl create deployment hostname \\\n",
    "  --image=docker.io/brokenpen/hostname:v1 \\\n",
    "  --namespace=kube-public"
   ]
  },
  {
   "cell_type": "code",
   "execution_count": 92,
   "id": "00d63e9d-1142-4b97-898d-f946bfeeb188",
   "metadata": {},
   "outputs": [
    {
     "name": "stdout",
     "output_type": "stream",
     "text": [
      "NAMESPACE     NAME       READY   UP-TO-DATE   AVAILABLE   AGE\n",
      "default       hostname   0/1     1            0           46s\n",
      "kube-public   hostname   0/1     1            0           35s\n"
     ]
    }
   ],
   "source": [
    "# 列印目前所有 hostname deployment\n",
    "# 包含所有 namespaces deployment\n",
    "! kubectl get deploy \\\n",
    "  --all-namespaces \\\n",
    "  --selector=app=hostname"
   ]
  },
  {
   "cell_type": "markdown",
   "id": "3badf2e9-3484-418b-ad9f-beeaae3b6aeb",
   "metadata": {
    "tags": []
   },
   "source": [
    "---\n",
    "\n",
    "---\n",
    "\n",
    "\n",
    "#### 目前還只是使用 minikube 的預設 namespace\n",
    "\n",
    "#### 嘗試下自己建立一個新的 namespaces "
   ]
  },
  {
   "cell_type": "code",
   "execution_count": 96,
   "id": "3d1fcbdc-c75a-40cf-8c71-9d4a423e9c34",
   "metadata": {},
   "outputs": [
    {
     "name": "stdout",
     "output_type": "stream",
     "text": [
      "Error from server (AlreadyExists): namespaces \"development\" already exists\n"
     ]
    }
   ],
   "source": [
    "# 建立一個 namesapces 爲 developemnt 的 namespaces \n",
    "! kubectl create namespace development"
   ]
  },
  {
   "cell_type": "code",
   "execution_count": 97,
   "id": "482e699e-9906-4dd4-a9c9-c6b2ec6562d3",
   "metadata": {},
   "outputs": [
    {
     "name": "stdout",
     "output_type": "stream",
     "text": [
      "namespace/development not labeled\n"
     ]
    }
   ],
   "source": [
    "# 幫剛出建立的 namesapces\n",
    "# 增加一個 labels \n",
    "! kubectl label \\\n",
    "  --overwrite namespace development env=dev"
   ]
  },
  {
   "cell_type": "code",
   "execution_count": 98,
   "id": "91ffa11e-9f77-4ef9-b5db-aad3ab14f8f3",
   "metadata": {},
   "outputs": [
    {
     "name": "stdout",
     "output_type": "stream",
     "text": [
      "apiVersion: v1\n",
      "kind: Namespace\n",
      "metadata:\n",
      "  creationTimestamp: \"2022-11-30T08:11:59Z\"\n",
      "  labels:\n",
      "    env: dev\n",
      "    kubernetes.io/metadata.name: development\n",
      "  name: development\n",
      "  resourceVersion: \"498\"\n",
      "  uid: 9082a610-a591-46cc-91c9-a2d2131e4680\n",
      "spec:\n",
      "  finalizers:\n",
      "  - kubernetes\n",
      "status:\n",
      "  phase: Active\n"
     ]
    }
   ],
   "source": [
    "# 取得 namesapce development 的 yaml\n",
    "! kubectl get namespaces development -o yaml"
   ]
  },
  {
   "cell_type": "markdown",
   "id": "558955a6-b738-46a6-aa80-4668283ba706",
   "metadata": {},
   "source": [
    "---\n",
    "- namespace.yaml\n",
    "  - apiVersion: v1\n",
    "  - kind: Namespaces\n",
    "  - metadata:\n",
    "     - name: development\n",
    "---"
   ]
  },
  {
   "cell_type": "code",
   "execution_count": 100,
   "id": "a33dae05-7e1f-4d7b-b2c7-ad2be3ed2463",
   "metadata": {},
   "outputs": [
    {
     "name": "stdout",
     "output_type": "stream",
     "text": [
      "Context \"minikube\" modified.\n"
     ]
    }
   ],
   "source": [
    "# 把 目前 kubectl 的預設namesapce 改爲 development\n",
    "! kubectl config set-context \\\n",
    "  --current --namespace=\"development\""
   ]
  },
  {
   "cell_type": "code",
   "execution_count": 101,
   "id": "9da5bb5e-99f6-4fee-a337-d8f984938985",
   "metadata": {},
   "outputs": [
    {
     "name": "stdout",
     "output_type": "stream",
     "text": [
      "CURRENT   NAME       CLUSTER    AUTHINFO   NAMESPACE\n",
      "*         minikube   minikube   minikube   development\n"
     ]
    }
   ],
   "source": [
    "# 列印目前的 config contexts\n",
    "# 想要知道目前的Namesapces是否已改爲 development\n",
    "! kubectl config get-contexts"
   ]
  },
  {
   "cell_type": "code",
   "execution_count": 102,
   "id": "f5ba5765-782c-48b9-a96c-6f78b3585d06",
   "metadata": {},
   "outputs": [
    {
     "name": "stdout",
     "output_type": "stream",
     "text": [
      "deployment.apps/hostname created\n"
     ]
    }
   ],
   "source": [
    "# 在新的 namespaces 建立 新的 deployment\n",
    "! kubectl create deployment hostname\\\n",
    "  --image=docker.io/brokenpen/hostname:v1"
   ]
  },
  {
   "cell_type": "code",
   "execution_count": 111,
   "id": "b74d1c38-cf64-43a3-99db-129535d45abc",
   "metadata": {},
   "outputs": [
    {
     "name": "stdout",
     "output_type": "stream",
     "text": [
      "deployment.apps/hostname labeled\n"
     ]
    }
   ],
   "source": [
    "# 幫剛出建立的 namesapces\n",
    "# 增加一個 labels \n",
    "! kubectl label \\\n",
    "  --overwrite deployment hostname env=dev"
   ]
  },
  {
   "cell_type": "code",
   "execution_count": 112,
   "id": "272a37b3-cebe-4139-b82d-6b56192b8a6f",
   "metadata": {},
   "outputs": [
    {
     "name": "stdout",
     "output_type": "stream",
     "text": [
      "NAME       READY   UP-TO-DATE   AVAILABLE   AGE    LABELS\n",
      "hostname   1/1     1            1           3m3s   app=hostname,env=dev\n"
     ]
    }
   ],
   "source": [
    "# 列印目前(namesapces)的 deployment\n",
    "! kubectl get deployment --show-labels"
   ]
  },
  {
   "cell_type": "code",
   "execution_count": 113,
   "id": "bbd8d746-f2b7-449f-a501-42aac70cd87d",
   "metadata": {},
   "outputs": [
    {
     "name": "stdout",
     "output_type": "stream",
     "text": [
      "NAME       READY   UP-TO-DATE   AVAILABLE   AGE    LABELS\n",
      "hostname   1/1     1            1           3m6s   app=hostname,env=dev\n"
     ]
    }
   ],
   "source": [
    "# 列印目前 development namesapces的 deployment\n",
    "! kubectl get deployment -n development --show-labels"
   ]
  },
  {
   "cell_type": "markdown",
   "id": "f888db14-3410-4e4a-97b6-804de091cf19",
   "metadata": {},
   "source": [
    "---\n",
    "- 在使用 `kubectl get <reousrce-name>`\n",
    "- 可以加上 `--all-namespaces` 顯示所有 namespaces 的對於 resource 的yaml\n",
    "- `--selector` 是透過label比對進行選擇"
   ]
  },
  {
   "cell_type": "code",
   "execution_count": 129,
   "id": "fb417892-cd5b-4bc0-ace6-e96203245ab3",
   "metadata": {},
   "outputs": [
    {
     "name": "stdout",
     "output_type": "stream",
     "text": [
      "NAMESPACE     NAME       READY   UP-TO-DATE   AVAILABLE   AGE\n",
      "default       hostname   1/1     1            1           18m\n",
      "development   hostname   1/1     1            1           14m\n",
      "kube-public   hostname   1/1     1            1           18m\n"
     ]
    }
   ],
   "source": [
    "# 列印在不同 namespaces 的 hostname deployment\n",
    "! kubectl get deployment \\\n",
    "  --all-namespaces \\\n",
    "  --selector=app=hostname"
   ]
  },
  {
   "cell_type": "code",
   "execution_count": 131,
   "id": "e28198f6-883f-4067-b1fa-d668f5bade76",
   "metadata": {},
   "outputs": [
    {
     "name": "stdout",
     "output_type": "stream",
     "text": [
      "NAMESPCE      NAME       LABELS\n",
      "default       hostname   map[app:hostname env:prod]\n",
      "development   hostname   map[app:hostname env:dev]\n",
      "kube-public   hostname   map[app:hostname]\n"
     ]
    }
   ],
   "source": [
    "# 列印在不同 namespaces 的 hostname deployment\n",
    "# 加上 labels 一同先顯示\n",
    "! kubectl get deployment\\\n",
    "  --all-namespaces\\\n",
    "  --selector=app=hostname\\\n",
    "  -o custom-columns=\"NAMESPCE:.metadata.namespace,NAME:.metadata.name,LABELS:.metadata.labels\""
   ]
  },
  {
   "cell_type": "code",
   "execution_count": null,
   "id": "1e0ed771-0567-4588-842e-ab3dba47e93d",
   "metadata": {},
   "outputs": [],
   "source": []
  },
  {
   "cell_type": "code",
   "execution_count": 132,
   "id": "7333bfc0-6f41-47d6-b030-43736694ca2d",
   "metadata": {},
   "outputs": [
    {
     "name": "stdout",
     "output_type": "stream",
     "text": [
      "NAME       READY   UP-TO-DATE   AVAILABLE   AGE\n",
      "hostname   1/1     1            1           18m\n"
     ]
    }
   ],
   "source": [
    "# 查看default namespaces 的 deployment\n",
    "! kubectl get deployment --namespace=default"
   ]
  },
  {
   "cell_type": "code",
   "execution_count": 128,
   "id": "6b178936-7624-4698-bd84-d775384751fb",
   "metadata": {},
   "outputs": [
    {
     "name": "stdout",
     "output_type": "stream",
     "text": [
      "NAME                        READY   STATUS    RESTARTS   AGE\n",
      "hostname-695cf7968c-f5kdv   1/1     Running   0          9m48s\n"
     ]
    }
   ],
   "source": [
    "# 查看 development namespaces 的 pods\n",
    "! kubectl get pods -n development"
   ]
  },
  {
   "cell_type": "code",
   "execution_count": 140,
   "id": "0831c410-ecdd-442f-9185-f0d77d3c7bd9",
   "metadata": {},
   "outputs": [
    {
     "name": "stdout",
     "output_type": "stream",
     "text": [
      "NAMESPACE     NAME                        READY   STATUS    RESTARTS   AGE\n",
      "default       hostname-695cf7968c-fxb9q   1/1     Running   0          21m\n",
      "development   hostname-695cf7968c-f5kdv   1/1     Running   0          17m\n",
      "kube-public   hostname-695cf7968c-tjq2j   1/1     Running   0          21m\n"
     ]
    }
   ],
   "source": [
    "! kubectl get pods \\\n",
    "  --all-namespaces \\\n",
    "  --selector=app=hostname "
   ]
  },
  {
   "cell_type": "markdown",
   "id": "a802768d-a7bc-40fb-b703-2b0df3c1d1b2",
   "metadata": {},
   "source": [
    "---\n",
    "刪除namespaces會把這個namespaces底下的所有resource object一同刪掉"
   ]
  },
  {
   "cell_type": "code",
   "execution_count": 141,
   "id": "06bbce50-100a-4445-811e-29c91a78fb88",
   "metadata": {},
   "outputs": [
    {
     "name": "stdout",
     "output_type": "stream",
     "text": [
      "namespace \"development\" deleted\n"
     ]
    }
   ],
   "source": [
    "# 刪除 development這個namespace\n",
    "! kubectl delete namespace development"
   ]
  },
  {
   "cell_type": "code",
   "execution_count": 142,
   "id": "f22c8031-a6e7-4670-995c-1a927ba86a1c",
   "metadata": {},
   "outputs": [
    {
     "name": "stdout",
     "output_type": "stream",
     "text": [
      "No resources found in development namespace.\n"
     ]
    }
   ],
   "source": [
    "# 查看在 development namespaces地下的資源\n",
    "! kubectl get all -n development"
   ]
  },
  {
   "cell_type": "code",
   "execution_count": 143,
   "id": "833527f1-cdfb-47d8-9e3b-24c1f983e66e",
   "metadata": {},
   "outputs": [
    {
     "name": "stdout",
     "output_type": "stream",
     "text": [
      "NAMESPACE     NAME       READY   UP-TO-DATE   AVAILABLE   AGE\n",
      "default       hostname   1/1     1            1           25m\n",
      "kube-public   hostname   1/1     1            1           25m\n"
     ]
    }
   ],
   "source": [
    "# 列印在不同 namespaces 的 hostname deployment\n",
    "# 剩下兩個\n",
    "! kubectl get deployment \\\n",
    "  --all-namespaces \\\n",
    "  --selector=app=hostname"
   ]
  },
  {
   "cell_type": "code",
   "execution_count": 144,
   "id": "0d123cc7-d2e8-4f19-b1aa-02fb88dec0e5",
   "metadata": {},
   "outputs": [
    {
     "name": "stdout",
     "output_type": "stream",
     "text": [
      "Error from server (Forbidden): namespaces \"default\" is forbidden: this namespace may not be deleted\n"
     ]
    }
   ],
   "source": [
    "# 刪除 development這個namespace\n",
    "! kubectl delete namespace default"
   ]
  },
  {
   "cell_type": "code",
   "execution_count": 145,
   "id": "65cef332-e072-4401-942a-edccf32a92fe",
   "metadata": {},
   "outputs": [],
   "source": [
    "# default, inital namespaces 不能刪除"
   ]
  },
  {
   "cell_type": "code",
   "execution_count": 155,
   "id": "82d6a87c-e84f-48c1-b2be-0dac6e1ed4ce",
   "metadata": {},
   "outputs": [
    {
     "name": "stdout",
     "output_type": "stream",
     "text": [
      "No resources found\n"
     ]
    }
   ],
   "source": [
    "# 所有你這能刪除 default namespace 底下的 reousrces \n",
    "! kubectl delete all -l app=hostname -n default"
   ]
  },
  {
   "cell_type": "code",
   "execution_count": 161,
   "id": "bcbee787-2135-4037-bd8b-061d0260d7cf",
   "metadata": {},
   "outputs": [
    {
     "name": "stdout",
     "output_type": "stream",
     "text": [
      "Error from server (Forbidden): namespaces \"kube-public\" is forbidden: this namespace may not be deleted\n"
     ]
    }
   ],
   "source": [
    "# 刪除 development這個namespace\n",
    "! kubectl delete namespace kube-public"
   ]
  },
  {
   "cell_type": "code",
   "execution_count": 162,
   "id": "be83d2bd-df6f-46b9-bdf3-50e6b793c4a7",
   "metadata": {},
   "outputs": [],
   "source": [
    "# kube-public, inital namespaces 不能刪除"
   ]
  },
  {
   "cell_type": "code",
   "execution_count": 163,
   "id": "fed87314-cdf3-45bf-8f04-67b27cb72e0a",
   "metadata": {},
   "outputs": [
    {
     "name": "stdout",
     "output_type": "stream",
     "text": [
      "No resources found\n"
     ]
    }
   ],
   "source": [
    "# 所有你只能刪除 kube-public namespace 底下的 reousrces \n",
    "! kubectl delete all -l app=hostname -n kube-public"
   ]
  },
  {
   "cell_type": "code",
   "execution_count": 160,
   "id": "241c89f0-4ee1-4b26-9ff8-e28ef9762f94",
   "metadata": {},
   "outputs": [
    {
     "name": "stdout",
     "output_type": "stream",
     "text": [
      "Context \"minikube\" modified.\n"
     ]
    }
   ],
   "source": [
    "# 把預設 namespace 恢復回 default\n",
    "! kubectl config set-context --current --namespace=default"
   ]
  },
  {
   "cell_type": "code",
   "execution_count": null,
   "id": "ee00cf13-e0bd-4ca8-b034-2da5e36c96c6",
   "metadata": {},
   "outputs": [],
   "source": []
  }
 ],
 "metadata": {
  "kernelspec": {
   "display_name": "Python 3 (ipykernel)",
   "language": "python",
   "name": "python3"
  },
  "language_info": {
   "codemirror_mode": {
    "name": "ipython",
    "version": 3
   },
   "file_extension": ".py",
   "mimetype": "text/x-python",
   "name": "python",
   "nbconvert_exporter": "python",
   "pygments_lexer": "ipython3",
   "version": "3.10.6"
  }
 },
 "nbformat": 4,
 "nbformat_minor": 5
}
