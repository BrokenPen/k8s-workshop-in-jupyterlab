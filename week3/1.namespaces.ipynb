{
 "cells": [
  {
   "cell_type": "code",
   "execution_count": 49,
   "id": "2ca51179-1cb4-4cda-a453-934cb30f49f7",
   "metadata": {},
   "outputs": [
    {
     "name": "stdout",
     "output_type": "stream",
     "text": [
      "namespace \"kube-node-lease\" deleted\n",
      "Error from server (Forbidden): namespaces \"default\" is forbidden: this namespace may not be deleted\n",
      "Error from server (Forbidden): namespaces \"kube-public\" is forbidden: this namespace may not be deleted\n",
      "Error from server (Forbidden): namespaces \"kube-system\" is forbidden: this namespace may not be deleted\n",
      "pod \"hostname-695cf7968c-f9pvp\" deleted\n",
      "service \"kubernetes\" deleted\n",
      "deployment.apps \"hostname\" deleted\n",
      "replicaset.apps \"hostname-695cf7968c\" deleted\n",
      "Context \"minikube\" modified.\n"
     ]
    }
   ],
   "source": [
    "# 把之前的一些操作刪掉\n",
    "# 刪掉所有Namespaces\n",
    "! kubectl delete namespaces --all\n",
    "# 刪掉所有資源\n",
    "! kubectl delete all --all \n",
    "# 把預設 namespace 恢復回 default\n",
    "! kubectl config set-context --current --namespace=default"
   ]
  },
  {
   "cell_type": "markdown",
   "id": "215ffdc1-88d4-4b58-83fa-998250972167",
   "metadata": {},
   "source": [
    "# Namespaces \n",
    "\n",
    "- Namespaces 提供一個方式把資源隔離\n",
    "- kubectl 的默認 namespaces 是 `default`\n",
    "- 用法：同一個應用使用共同Namespaces\n"
   ]
  },
  {
   "cell_type": "code",
   "execution_count": 30,
   "id": "2bc31144-f6c2-4d50-8dda-94701a12a0a1",
   "metadata": {
    "tags": []
   },
   "outputs": [
    {
     "name": "stdout",
     "output_type": "stream",
     "text": [
      "CURRENT   NAME       CLUSTER    AUTHINFO   NAMESPACE\n",
      "*         minikube   minikube   minikube   development\n"
     ]
    }
   ],
   "source": [
    "# 查看目前使用的預設Namesapce名稱\n",
    "! kubectl config get-contexts "
   ]
  },
  {
   "cell_type": "code",
   "execution_count": 31,
   "id": "3b271ed5-938f-4129-9419-63cb8c5d3bb1",
   "metadata": {
    "tags": []
   },
   "outputs": [
    {
     "name": "stdout",
     "output_type": "stream",
     "text": [
      "NAME              STATUS   AGE\n",
      "default           Active   41m\n",
      "kube-node-lease   Active   3m20s\n",
      "kube-public       Active   41m\n",
      "kube-system       Active   41m\n"
     ]
    }
   ],
   "source": [
    "# 列出目前有的所有Namespaces \n",
    "! kubectl get namespaces"
   ]
  },
  {
   "cell_type": "markdown",
   "id": "1a556d65-dcbc-4db9-89e8-b18731c904d1",
   "metadata": {
    "tags": []
   },
   "source": [
    "## initial namespaces\n",
    "\n",
    "minikube(kubernetes)有4個內建的Namespaces\n",
    "\n",
    "- `default`: 默認namespaces\n",
    "- `kube-node-lease`: 處理lease租約。# 空的\n",
    "- `kube-public`: 公開namespaces, 爲經認證的節點也可以存取。# 空的\n",
    "- `kube-system`: created by kube-system, 包含維持kubernetes正常運行的deployment"
   ]
  },
  {
   "cell_type": "code",
   "execution_count": 42,
   "id": "03865726-fa1e-4f64-b853-10993a422f88",
   "metadata": {
    "tags": []
   },
   "outputs": [
    {
     "name": "stdout",
     "output_type": "stream",
     "text": [
      "NAME                            READY   STATUS    RESTARTS   AGE\n",
      "pod/hostname-695cf7968c-f9pvp   1/1     Running   0          51m\n",
      "\n",
      "NAME                 TYPE        CLUSTER-IP   EXTERNAL-IP   PORT(S)   AGE\n",
      "service/kubernetes   ClusterIP   10.96.0.1    <none>        443/TCP   52m\n",
      "\n",
      "NAME                       READY   UP-TO-DATE   AVAILABLE   AGE\n",
      "deployment.apps/hostname   1/1     1            1           51m\n",
      "\n",
      "NAME                                  DESIRED   CURRENT   READY   AGE\n",
      "replicaset.apps/hostname-695cf7968c   1         1         1       51m\n"
     ]
    }
   ],
   "source": [
    "# 列印目前所有資源 (default)\n",
    "# 沒有資源是正常的，因爲你什麼資源都沒建立\n",
    "! kubectl get all"
   ]
  },
  {
   "cell_type": "code",
   "execution_count": 43,
   "id": "19b9970c-1f52-4b89-9ed8-08fdf8827bc0",
   "metadata": {},
   "outputs": [
    {
     "name": "stdout",
     "output_type": "stream",
     "text": [
      "No resources found in kube-node-lease namespace.\n"
     ]
    }
   ],
   "source": [
    "! kubectl get all -n kube-node-lease"
   ]
  },
  {
   "cell_type": "code",
   "execution_count": 44,
   "id": "e9bbb86e-9850-4205-b647-f0786b5f78d9",
   "metadata": {},
   "outputs": [
    {
     "name": "stdout",
     "output_type": "stream",
     "text": [
      "NAME                            READY   STATUS    RESTARTS   AGE\n",
      "pod/hostname-695cf7968c-9t4cs   1/1     Running   0          47m\n",
      "\n",
      "NAME                       READY   UP-TO-DATE   AVAILABLE   AGE\n",
      "deployment.apps/hostname   1/1     1            1           47m\n",
      "\n",
      "NAME                                  DESIRED   CURRENT   READY   AGE\n",
      "replicaset.apps/hostname-695cf7968c   1         1         1       47m\n"
     ]
    }
   ],
   "source": [
    "! kubectl get all -n kube-public"
   ]
  },
  {
   "cell_type": "code",
   "execution_count": 45,
   "id": "742994d7-714b-45fd-8b56-f51095e820f2",
   "metadata": {
    "tags": []
   },
   "outputs": [
    {
     "name": "stdout",
     "output_type": "stream",
     "text": [
      "NAME                                   READY   STATUS    RESTARTS      AGE\n",
      "pod/coredns-565d847f94-9n5hd           1/1     Running   0             51m\n",
      "pod/etcd-minikube                      1/1     Running   0             52m\n",
      "pod/kube-apiserver-minikube            1/1     Running   0             52m\n",
      "pod/kube-controller-manager-minikube   1/1     Running   0             52m\n",
      "pod/kube-proxy-t4pv4                   1/1     Running   0             51m\n",
      "pod/kube-scheduler-minikube            1/1     Running   0             52m\n",
      "pod/storage-provisioner                1/1     Running   1 (51m ago)   52m\n",
      "\n",
      "NAME               TYPE        CLUSTER-IP   EXTERNAL-IP   PORT(S)                  AGE\n",
      "service/kube-dns   ClusterIP   10.96.0.10   <none>        53/UDP,53/TCP,9153/TCP   52m\n",
      "\n",
      "NAME                        DESIRED   CURRENT   READY   UP-TO-DATE   AVAILABLE   NODE SELECTOR            AGE\n",
      "daemonset.apps/kube-proxy   1         1         1       1            1           kubernetes.io/os=linux   52m\n",
      "\n",
      "NAME                      READY   UP-TO-DATE   AVAILABLE   AGE\n",
      "deployment.apps/coredns   1/1     1            1           52m\n",
      "\n",
      "NAME                                 DESIRED   CURRENT   READY   AGE\n",
      "replicaset.apps/coredns-565d847f94   1         1         1       51m\n"
     ]
    }
   ],
   "source": [
    "# 列印在 kube-system namespaces 的所有資源\n",
    "! kubectl get all -n kube-system"
   ]
  },
  {
   "cell_type": "code",
   "execution_count": 46,
   "id": "74ecd405-245b-4b83-927a-2ede16400f47",
   "metadata": {},
   "outputs": [
    {
     "name": "stdout",
     "output_type": "stream",
     "text": [
      "error: failed to create deployment: deployments.apps \"hostname\" already exists\n"
     ]
    }
   ],
   "source": [
    "# 建立一個Deploy # 沒有制度Namespace\n",
    "! kubectl create deployment hostname \\\n",
    "  --image=docker.io/brokenpen/hostname:v1"
   ]
  },
  {
   "cell_type": "code",
   "execution_count": 47,
   "id": "6c42f5ec-bdf5-414c-b700-a68b484e784d",
   "metadata": {},
   "outputs": [
    {
     "name": "stdout",
     "output_type": "stream",
     "text": [
      "deployment.apps/hostname not labeled\n"
     ]
    }
   ],
   "source": [
    "# 把 deployment.apps/hostname 加上 env=prod 這個標籤\n",
    "! kubectl label \\\n",
    "  --overwrite deployment hostname env=prod"
   ]
  },
  {
   "cell_type": "code",
   "execution_count": 48,
   "id": "f5c8b639-d590-4a39-98cc-68fcf112ab48",
   "metadata": {},
   "outputs": [
    {
     "name": "stdout",
     "output_type": "stream",
     "text": [
      "Kind         Namespace    Name       Labels\n",
      "Deployment   default     hostname   map[app:hostname env:prod]\n"
     ]
    }
   ],
   "source": [
    "# 列印 deployment.apps/hostname的資訊\n",
    "! kubectl get deploy hostname \\\n",
    "  -o custom-columns=\"Kind:.kind,Namespace:.metadata.namespace, Name:.metadata.name, Labels:.metadata.labels\""
   ]
  },
  {
   "cell_type": "code",
   "execution_count": 11,
   "id": "cd3e5c0e-d7aa-4723-9dda-67346145c29e",
   "metadata": {
    "tags": []
   },
   "outputs": [
    {
     "name": "stdout",
     "output_type": "stream",
     "text": [
      "Name:                   hostname\n",
      "Namespace:              default\n",
      "CreationTimestamp:      Wed, 30 Nov 2022 06:36:29 +0000\n",
      "Labels:                 app=hostname\n",
      "                        env=prod\n",
      "Annotations:            deployment.kubernetes.io/revision: 1\n",
      "Selector:               app=hostname\n",
      "Replicas:               1 desired | 1 updated | 1 total | 1 available | 0 unavailable\n",
      "StrategyType:           RollingUpdate\n",
      "MinReadySeconds:        0\n",
      "RollingUpdateStrategy:  25% max unavailable, 25% max surge\n",
      "Pod Template:\n",
      "  Labels:  app=hostname\n",
      "  Containers:\n",
      "   hostname:\n",
      "    Image:        docker.io/brokenpen/hostname:v1\n",
      "    Port:         <none>\n",
      "    Host Port:    <none>\n",
      "    Environment:  <none>\n",
      "    Mounts:       <none>\n",
      "  Volumes:        <none>\n",
      "Conditions:\n",
      "  Type           Status  Reason\n",
      "  ----           ------  ------\n",
      "  Available      True    MinimumReplicasAvailable\n",
      "  Progressing    True    NewReplicaSetAvailable\n",
      "OldReplicaSets:  <none>\n",
      "NewReplicaSet:   hostname-695cf7968c (1/1 replicas created)\n",
      "Events:\n",
      "  Type    Reason             Age   From                   Message\n",
      "  ----    ------             ----  ----                   -------\n",
      "  Normal  ScalingReplicaSet  37m   deployment-controller  Scaled up replica set hostname-695cf7968c to 1\n"
     ]
    }
   ],
   "source": [
    "# 描述 deployment.apps/hostname\n",
    "! kubectl describe deployment hostname "
   ]
  },
  {
   "cell_type": "code",
   "execution_count": null,
   "id": "b11e8161-77c2-4a44-b4b2-f9d61480f794",
   "metadata": {},
   "outputs": [],
   "source": []
  },
  {
   "cell_type": "code",
   "execution_count": 12,
   "id": "c0611974-6e5e-4ea8-9f19-3dd040631b8c",
   "metadata": {},
   "outputs": [
    {
     "name": "stdout",
     "output_type": "stream",
     "text": [
      "error: failed to create deployment: deployments.apps \"hostname\" already exists\n"
     ]
    }
   ],
   "source": [
    "# 建立資源時指定 namespaces 爲 kube-public\n",
    "! kubectl create deployment hostname \\\n",
    "  --image=docker.io/brokenpen/hostname:v1 \\\n",
    "  --namespace=kube-public"
   ]
  },
  {
   "cell_type": "code",
   "execution_count": 13,
   "id": "00d63e9d-1142-4b97-898d-f946bfeeb188",
   "metadata": {},
   "outputs": [
    {
     "name": "stdout",
     "output_type": "stream",
     "text": [
      "NAMESPACE     NAME       READY   UP-TO-DATE   AVAILABLE   AGE\n",
      "default       hostname   1/1     1            1           37m\n",
      "kube-public   hostname   1/1     1            1           33m\n"
     ]
    }
   ],
   "source": [
    "# 列印目前所有 hostname deployment\n",
    "# 包含所有 namespaces deployment\n",
    "! kubectl get deploy \\\n",
    "  --all-namespaces \\\n",
    "  --selector=app=hostname"
   ]
  },
  {
   "cell_type": "markdown",
   "id": "3badf2e9-3484-418b-ad9f-beeaae3b6aeb",
   "metadata": {},
   "source": [
    "---\n",
    "\n",
    "---\n",
    "\n",
    "\n",
    "#### 目前還只是使用 minikube 的預設 namespace\n",
    "\n",
    "#### 嘗試下自己建立一個新的 namespaces "
   ]
  },
  {
   "cell_type": "code",
   "execution_count": 14,
   "id": "3d1fcbdc-c75a-40cf-8c71-9d4a423e9c34",
   "metadata": {},
   "outputs": [
    {
     "name": "stdout",
     "output_type": "stream",
     "text": [
      "Error from server (AlreadyExists): object is being deleted: namespaces \"development\" already exists\n"
     ]
    }
   ],
   "source": [
    "# 建立一個 namesapces 爲 developemnt 的 namespaces \n",
    "! kubectl create namespace development"
   ]
  },
  {
   "cell_type": "code",
   "execution_count": 15,
   "id": "482e699e-9906-4dd4-a9c9-c6b2ec6562d3",
   "metadata": {},
   "outputs": [
    {
     "name": "stdout",
     "output_type": "stream",
     "text": [
      "namespace/development not labeled\n"
     ]
    }
   ],
   "source": [
    "# 幫剛出建立的 namesapces\n",
    "# 增加一個 labels \n",
    "! kubectl label \\\n",
    "  --overwrite namespace development env=dev"
   ]
  },
  {
   "cell_type": "code",
   "execution_count": 16,
   "id": "91ffa11e-9f77-4ef9-b5db-aad3ab14f8f3",
   "metadata": {},
   "outputs": [
    {
     "name": "stdout",
     "output_type": "stream",
     "text": [
      "apiVersion: v1\n",
      "kind: Namespace\n",
      "metadata:\n",
      "  creationTimestamp: \"2022-11-30T06:50:12Z\"\n",
      "  deletionTimestamp: \"2022-11-30T07:13:19Z\"\n",
      "  labels:\n",
      "    env: dev\n",
      "    kubernetes.io/metadata.name: development\n",
      "  name: development\n",
      "  resourceVersion: \"2015\"\n",
      "  uid: 26657f71-0081-43eb-82d6-c6d605ea9207\n",
      "spec:\n",
      "  finalizers:\n",
      "  - kubernetes\n",
      "status:\n",
      "  conditions:\n",
      "  - lastTransitionTime: \"2022-11-30T07:13:25Z\"\n",
      "    message: All resources successfully discovered\n",
      "    reason: ResourcesDiscovered\n",
      "    status: \"False\"\n",
      "    type: NamespaceDeletionDiscoveryFailure\n",
      "  - lastTransitionTime: \"2022-11-30T07:13:25Z\"\n",
      "    message: All legacy kube types successfully parsed\n",
      "    reason: ParsedGroupVersions\n",
      "    status: \"False\"\n",
      "    type: NamespaceDeletionGroupVersionParsingFailure\n",
      "  - lastTransitionTime: \"2022-11-30T07:13:25Z\"\n",
      "    message: All content successfully deleted, may be waiting on finalization\n",
      "    reason: ContentDeleted\n",
      "    status: \"False\"\n",
      "    type: NamespaceDeletionContentFailure\n",
      "  - lastTransitionTime: \"2022-11-30T07:13:25Z\"\n",
      "    message: 'Some resources are remaining: pods. has 1 resource instances'\n",
      "    reason: SomeResourcesRemain\n",
      "    status: \"True\"\n",
      "    type: NamespaceContentRemaining\n",
      "  - lastTransitionTime: \"2022-11-30T07:13:25Z\"\n",
      "    message: All content-preserving finalizers finished\n",
      "    reason: ContentHasNoFinalizers\n",
      "    status: \"False\"\n",
      "    type: NamespaceFinalizersRemaining\n",
      "  phase: Terminating\n"
     ]
    }
   ],
   "source": [
    "# 取得 namesapce development 的 yaml\n",
    "! kubectl get namespaces development -o yaml"
   ]
  },
  {
   "cell_type": "markdown",
   "id": "558955a6-b738-46a6-aa80-4668283ba706",
   "metadata": {},
   "source": [
    "---\n",
    "- namespace.yaml\n",
    "  - apiVersion: v1\n",
    "  - kind: Namespaces\n",
    "  - metadata:\n",
    "     - name: development\n",
    "---"
   ]
  },
  {
   "cell_type": "code",
   "execution_count": 17,
   "id": "a33dae05-7e1f-4d7b-b2c7-ad2be3ed2463",
   "metadata": {},
   "outputs": [
    {
     "name": "stdout",
     "output_type": "stream",
     "text": [
      "Context \"minikube\" modified.\n"
     ]
    }
   ],
   "source": [
    "# 把 目前 kubectl 的預設namesapce 改爲 development\n",
    "! kubectl config set-context \\\n",
    "  --current --namespace=\"development\""
   ]
  },
  {
   "cell_type": "code",
   "execution_count": 18,
   "id": "9da5bb5e-99f6-4fee-a337-d8f984938985",
   "metadata": {},
   "outputs": [
    {
     "name": "stdout",
     "output_type": "stream",
     "text": [
      "CURRENT   NAME       CLUSTER    AUTHINFO   NAMESPACE\n",
      "*         minikube   minikube   minikube   development\n"
     ]
    }
   ],
   "source": [
    "# 列印目前的 config contexts\n",
    "# 想要知道目前的Namesapces是否已改爲 development\n",
    "! kubectl config get-contexts"
   ]
  },
  {
   "cell_type": "code",
   "execution_count": 19,
   "id": "f5ba5765-782c-48b9-a96c-6f78b3585d06",
   "metadata": {},
   "outputs": [
    {
     "name": "stdout",
     "output_type": "stream",
     "text": [
      "error: failed to create deployment: deployments.apps \"hostname\" is forbidden: unable to create new content in namespace development because it is being terminated\n"
     ]
    }
   ],
   "source": [
    "# 在新的 namespaces 建立 新的 deployment\n",
    "! kubectl create deployment hostname\\\n",
    "  --image=docker.io/brokenpen/hostname:v1"
   ]
  },
  {
   "cell_type": "code",
   "execution_count": 20,
   "id": "b74d1c38-cf64-43a3-99db-129535d45abc",
   "metadata": {},
   "outputs": [
    {
     "name": "stdout",
     "output_type": "stream",
     "text": [
      "error: failed to create deployment: deployments.apps \"hostname\" is forbidden: unable to create new content in namespace development because it is being terminated\n"
     ]
    }
   ],
   "source": [
    "# 在新的 namespaces 建立 新的 deployment\n",
    "! kubectl create deployment hostname\\\n",
    "  --image=docker.io/brokenpen/hostname:v1"
   ]
  },
  {
   "cell_type": "code",
   "execution_count": 21,
   "id": "272a37b3-cebe-4139-b82d-6b56192b8a6f",
   "metadata": {},
   "outputs": [
    {
     "name": "stdout",
     "output_type": "stream",
     "text": [
      "No resources found in development namespace.\n"
     ]
    }
   ],
   "source": [
    "# 列印目前(namesapces)的 deployment\n",
    "! kubectl get deployment --show-labels"
   ]
  },
  {
   "cell_type": "code",
   "execution_count": 22,
   "id": "50e725d2-f16a-439f-acf7-33e8fcd54801",
   "metadata": {},
   "outputs": [
    {
     "name": "stdout",
     "output_type": "stream",
     "text": [
      "Error from server (NotFound): namespaces \"development\" not found\n"
     ]
    }
   ],
   "source": [
    "# 一樣補一下label (不補也行)...\n",
    "! kubectl label \\\n",
    "  --overwrite deployment hostname env=dev"
   ]
  },
  {
   "cell_type": "code",
   "execution_count": 23,
   "id": "fb417892-cd5b-4bc0-ace6-e96203245ab3",
   "metadata": {},
   "outputs": [
    {
     "name": "stdout",
     "output_type": "stream",
     "text": [
      "NAMESPACE     NAME       READY   UP-TO-DATE   AVAILABLE   AGE\n",
      "default       hostname   1/1     1            1           37m\n",
      "kube-public   hostname   1/1     1            1           33m\n"
     ]
    }
   ],
   "source": [
    "! kubectl get deployment --all-namespaces --selector=app=hostname"
   ]
  },
  {
   "cell_type": "code",
   "execution_count": 24,
   "id": "e28198f6-883f-4067-b1fa-d668f5bade76",
   "metadata": {},
   "outputs": [
    {
     "name": "stdout",
     "output_type": "stream",
     "text": [
      "NAMESPACE     NAME       READY   UP-TO-DATE   AVAILABLE   AGE   LABELS\n",
      "default       hostname   1/1     1            1           37m   app=hostname,env=prod\n",
      "kube-public   hostname   1/1     1            1           33m   app=hostname\n"
     ]
    }
   ],
   "source": [
    "! kubectl get deployment\\\n",
    "  --all-namespaces\\\n",
    "  --show-labels\\\n",
    "  --selector=app=hostname"
   ]
  },
  {
   "cell_type": "code",
   "execution_count": 25,
   "id": "7333bfc0-6f41-47d6-b030-43736694ca2d",
   "metadata": {},
   "outputs": [
    {
     "name": "stdout",
     "output_type": "stream",
     "text": [
      "NAME       READY   UP-TO-DATE   AVAILABLE   AGE\n",
      "hostname   1/1     1            1           37m\n"
     ]
    }
   ],
   "source": [
    "! kubectl get deployment --namespace=default"
   ]
  },
  {
   "cell_type": "code",
   "execution_count": 26,
   "id": "6b178936-7624-4698-bd84-d775384751fb",
   "metadata": {},
   "outputs": [
    {
     "name": "stdout",
     "output_type": "stream",
     "text": [
      "No resources found in hostname namespace.\n"
     ]
    }
   ],
   "source": [
    "! kubectl get pods -n hostname"
   ]
  },
  {
   "cell_type": "code",
   "execution_count": 27,
   "id": "0831c410-ecdd-442f-9185-f0d77d3c7bd9",
   "metadata": {},
   "outputs": [
    {
     "name": "stdout",
     "output_type": "stream",
     "text": [
      "error: no context exists with the name: \"hostname\"\n"
     ]
    }
   ],
   "source": [
    "! kubectl config use-context hostname "
   ]
  },
  {
   "cell_type": "code",
   "execution_count": null,
   "id": "2dd038bb-7dff-480e-896c-dc71b6d723c4",
   "metadata": {},
   "outputs": [],
   "source": []
  }
 ],
 "metadata": {
  "kernelspec": {
   "display_name": "Python 3 (ipykernel)",
   "language": "python",
   "name": "python3"
  },
  "language_info": {
   "codemirror_mode": {
    "name": "ipython",
    "version": 3
   },
   "file_extension": ".py",
   "mimetype": "text/x-python",
   "name": "python",
   "nbconvert_exporter": "python",
   "pygments_lexer": "ipython3",
   "version": "3.10.6"
  }
 },
 "nbformat": 4,
 "nbformat_minor": 5
}
