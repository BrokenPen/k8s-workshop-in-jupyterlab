{
 "cells": [
  {
   "cell_type": "markdown",
   "id": "206a8f4f-b7bb-414a-9ba0-bced3b4572bc",
   "metadata": {},
   "source": [
    "# Docker\n",
    "\n",
    "- 管理容器\n",
    "- 建立容器\n",
    "- 運行容器\n",
    "\n",
    "<img src=\"./img/docker-architecture.png\" style=\"width:480px\"></img>"
   ]
  },
  {
   "cell_type": "code",
   "execution_count": 1,
   "id": "343a8460-3da1-4cc1-bdae-4d05c9f02d90",
   "metadata": {},
   "outputs": [],
   "source": [
    "## 安裝Docker"
   ]
  },
  {
   "cell_type": "code",
   "execution_count": 2,
   "id": "122cb2ec-672a-4621-97db-6ca849b3bd18",
   "metadata": {},
   "outputs": [
    {
     "name": "stdout",
     "output_type": "stream",
     "text": [
      "ubuntu\n"
     ]
    }
   ],
   "source": [
    "! echo $USER"
   ]
  },
  {
   "cell_type": "code",
   "execution_count": 3,
   "id": "494d61da-ae0c-4fd3-bddc-0ad8c63e0c9a",
   "metadata": {},
   "outputs": [
    {
     "name": "stdout",
     "output_type": "stream",
     "text": [
      "Hit:2 http://tw.archive.ubuntu.com/ubuntu jammy InRelease                      \u001b[0m\u001b[33m\n",
      "Hit:3 http://tw.archive.ubuntu.com/ubuntu jammy-updates InRelease    \u001b[0m      \n",
      "Hit:4 http://tw.archive.ubuntu.com/ubuntu jammy-backports InRelease  \u001b[0m\n",
      "Hit:5 http://tw.archive.ubuntu.com/ubuntu jammy-security InRelease             \u001b[0m\n",
      "Hit:1 https://packages.cloud.google.com/apt kubernetes-xenial InRelease0m      \u001b[33m\n",
      "Reading package lists... Done                               \u001b[33m\u001b[33m\u001b[33m\u001b[33m\n",
      "Building dependency tree... Done\n",
      "Reading state information... Done\n",
      "33 packages can be upgraded. Run 'apt list --upgradable' to see them.\n",
      "Reading package lists... Done\n",
      "Building dependency tree... Done\n",
      "Reading state information... Done\n",
      "docker.io is already the newest version (20.10.12-0ubuntu4).\n",
      "0 upgraded, 0 newly installed, 0 to remove and 33 not upgraded.\n",
      "[sudo] password for ubuntu: "
     ]
    }
   ],
   "source": [
    "! echo \"ubuntu\" | sudo -S apt update \n",
    "! echo \"ubuntu\" | sudo -S apt install -y docker.io\n",
    "! echo \"ubuntu\" | sudo -S usermod -aG docker $USER"
   ]
  },
  {
   "cell_type": "code",
   "execution_count": null,
   "id": "b9717818-7234-46fc-8a4f-f9e1e8de85a4",
   "metadata": {},
   "outputs": [],
   "source": []
  }
 ],
 "metadata": {
  "kernelspec": {
   "display_name": "Python 3 (ipykernel)",
   "language": "python",
   "name": "python3"
  },
  "language_info": {
   "codemirror_mode": {
    "name": "ipython",
    "version": 3
   },
   "file_extension": ".py",
   "mimetype": "text/x-python",
   "name": "python",
   "nbconvert_exporter": "python",
   "pygments_lexer": "ipython3",
   "version": "3.10.6"
  }
 },
 "nbformat": 4,
 "nbformat_minor": 5
}
