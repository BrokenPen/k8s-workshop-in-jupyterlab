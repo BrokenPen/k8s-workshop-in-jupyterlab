{
 "cells": [
  {
   "cell_type": "code",
   "execution_count": 51,
   "id": "c9637fd4-f97f-4988-b3cd-161c29d661fb",
   "metadata": {
    "collapsed": true,
    "jupyter": {
     "outputs_hidden": true
    },
    "tags": []
   },
   "outputs": [
    {
     "name": "stdout",
     "output_type": "stream",
     "text": [
      "KIND:     Pod\n",
      "VERSION:  v1\n",
      "\n",
      "DESCRIPTION:\n",
      "     Pod is a collection of containers that can run on a host. This resource is\n",
      "     created by clients and scheduled onto hosts.\n",
      "\n",
      "FIELDS:\n",
      "   apiVersion\t<string>\n",
      "     APIVersion defines the versioned schema of this representation of an\n",
      "     object. Servers should convert recognized schemas to the latest internal\n",
      "     value, and may reject unrecognized values. More info:\n",
      "     https://git.k8s.io/community/contributors/devel/sig-architecture/api-conventions.md#resources\n",
      "\n",
      "   kind\t<string>\n",
      "     Kind is a string value representing the REST resource this object\n",
      "     represents. Servers may infer this from the endpoint the client submits\n",
      "     requests to. Cannot be updated. In CamelCase. More info:\n",
      "     https://git.k8s.io/community/contributors/devel/sig-architecture/api-conventions.md#types-kinds\n",
      "\n",
      "   metadata\t<Object>\n",
      "     Standard object's metadata. More info:\n",
      "     https://git.k8s.io/community/contributors/devel/sig-architecture/api-conventions.md#metadata\n",
      "\n",
      "   spec\t<Object>\n",
      "     Specification of the desired behavior of the pod. More info:\n",
      "     https://git.k8s.io/community/contributors/devel/sig-architecture/api-conventions.md#spec-and-status\n",
      "\n",
      "   status\t<Object>\n",
      "     Most recently observed status of the pod. This data may not be up to date.\n",
      "     Populated by the system. Read-only. More info:\n",
      "     https://git.k8s.io/community/contributors/devel/sig-architecture/api-conventions.md#spec-and-status\n",
      "\n"
     ]
    }
   ],
   "source": [
    "# 什麼是Pod\n",
    "! kubectl explain pod"
   ]
  },
  {
   "cell_type": "code",
   "execution_count": 49,
   "id": "4473e733-711b-40a5-994b-74ba3ff8cee8",
   "metadata": {
    "tags": []
   },
   "outputs": [
    {
     "name": "stdout",
     "output_type": "stream",
     "text": [
      "pod/hostname created\n"
     ]
    }
   ],
   "source": [
    "# 透過kubectl run 建立一個Pod, \n",
    "# Pod 的名稱是 hostname,\n",
    "# image 是用 docker.io/brokenpen/hostname:v1，\n",
    "# labels 有 app=nginx, env=dev\n",
    "! kubectl run hostname \\\n",
    "  --image=docker.io/brokenpen/hostname:v1 \\\n",
    "  --labels=\"app=nginx,env=dev\""
   ]
  },
  {
   "cell_type": "code",
   "execution_count": 41,
   "id": "d5c771e1-d89e-49e8-8fe3-249b81c29ea4",
   "metadata": {},
   "outputs": [
    {
     "name": "stdout",
     "output_type": "stream",
     "text": [
      "NAME       READY   STATUS    RESTARTS   AGE    LABELS\n",
      "hostname   1/1     Running   0          2m4s   app=nginx,env=dev\n",
      "\n",
      "\n",
      "\n",
      "NAME       READY   STATUS    RESTARTS   AGE    IP           NODE       NOMINATED NODE   READINESS GATES\n",
      "hostname   1/1     Running   0          2m9s   172.17.0.6   minikube   <none>           <none>\n",
      "\n",
      "\n"
     ]
    }
   ],
   "source": [
    "# 取得目前 hostname 這個pods 和他的labels\n",
    "! kubectl get pods hostname --show-labels\n",
    "# 等5秒鍾\n",
    "! sleep 5; echo; echo; echo;\n",
    "# 透過 -o wide, 查看這個pods 的 IP 和 是在哪個節點上運行\n",
    "! kubectl get pods hostname -o wide;\n",
    "! echo; echo;"
   ]
  },
  {
   "cell_type": "code",
   "execution_count": 52,
   "id": "ed8e110f-8625-43ec-94c3-7f4a2d9df838",
   "metadata": {},
   "outputs": [
    {
     "name": "stdout",
     "output_type": "stream",
     "text": [
      "172.17.0.6\n",
      "172.17.0.5\n",
      "172.17.0.4\n",
      "172.17.0.3\n"
     ]
    }
   ],
   "source": [
    "# 進階的輸出方式, 不要 header, 欄位只要 :status.podIP\n",
    "! kubectl get pods  \\\n",
    "  --no-headers \\\n",
    "  -o custom-columns=\":status.podIP\""
   ]
  },
  {
   "cell_type": "code",
   "execution_count": 16,
   "id": "2d8c2bf6-ee7c-4568-bb35-ad317a62e644",
   "metadata": {},
   "outputs": [
    {
     "name": "stdout",
     "output_type": "stream",
     "text": [
      "curl: (7) Failed to connect to 172.17.0.9 port 8080 after 3076 ms: No route to host\n"
     ]
    }
   ],
   "source": [
    "# ! curl $(kubectl get pod --no-headers -o custom-columns=\":status.podIP\"):8080"
   ]
  },
  {
   "cell_type": "code",
   "execution_count": 48,
   "id": "7153d93b-5042-42bd-8bb0-c26554a208c1",
   "metadata": {},
   "outputs": [],
   "source": [
    "%%bash --bg --proc bg_proc\n",
    "kubectl port-forward pod/hostname 8000:8080"
   ]
  },
  {
   "cell_type": "code",
   "execution_count": 44,
   "id": "a370964f-146b-4689-a0af-88a1b6ee5b21",
   "metadata": {},
   "outputs": [
    {
     "name": "stdout",
     "output_type": "stream",
     "text": [
      "You've hit hostname\n"
     ]
    }
   ],
   "source": [
    "! curl localhost:8000"
   ]
  },
  {
   "cell_type": "code",
   "execution_count": 45,
   "id": "26dd42d9-d6ab-4932-8d13-b2576d7ea215",
   "metadata": {},
   "outputs": [
    {
     "name": "stdout",
     "output_type": "stream",
     "text": [
      "tcp   LISTEN 0      4096       127.0.0.1:8000       0.0.0.0:*    users:((\"kubectl\",pid=188817,fd=8)) \n",
      "tcp   LISTEN 0      4096           [::1]:8000          [::]:*    users:((\"kubectl\",pid=188817,fd=9)) \n"
     ]
    }
   ],
   "source": [
    "! ss -tulpn | grep :8000"
   ]
  },
  {
   "cell_type": "code",
   "execution_count": 46,
   "id": "bd10cf21-7bd5-46e3-9dee-7a16bdfbcd8d",
   "metadata": {},
   "outputs": [],
   "source": [
    "# 把這個 kubectl port-forward pod/hostname 8080:8080 刪掉\n",
    "# ! ss -tulpn | grep :8000  | awk -F, '{print $2 }' | awk -F= '{system(\"kill -9 \" $2) }'"
   ]
  },
  {
   "cell_type": "code",
   "execution_count": 47,
   "id": "041fccf1-30e4-4655-bce1-cd4fbf70e77a",
   "metadata": {},
   "outputs": [
    {
     "name": "stdout",
     "output_type": "stream",
     "text": [
      "pod \"hostname\" deleted\n",
      "^C\n"
     ]
    }
   ],
   "source": [
    "! kubectl delete pod/hostname"
   ]
  },
  {
   "cell_type": "code",
   "execution_count": 31,
   "id": "18952e42-2b56-4567-951c-c5aa534fb4ba",
   "metadata": {},
   "outputs": [
    {
     "name": "stdout",
     "output_type": "stream",
     "text": [
      "apiVersion: v1\n",
      "kind: Pod\n",
      "metadata:\n",
      "  labels:\n",
      "    app: hostname\n",
      "    env: dev\n",
      "  name: hostname\n",
      "spec:\n",
      "  containers:\n",
      "  - image: docker.io/brokenpen/hostname:v1\n",
      "    name: hostname\n"
     ]
    }
   ],
   "source": [
    "! cat pod.yaml"
   ]
  },
  {
   "cell_type": "raw",
   "id": "18033ec5-fc68-4115-8dd5-1bd883042783",
   "metadata": {},
   "source": [
    "- yaml\n",
    "   - apiVersion # 對於resources的api 版本\n",
    "   - kind       # resources 的類型\n",
    "   - metadata   # metadata， 名稱， namesapces， labels\n",
    "   - spec       # 這個pods的規格， containers spec etc.,"
   ]
  },
  {
   "cell_type": "code",
   "execution_count": 32,
   "id": "6cd51909-2e3a-4921-85d8-141fea88a82b",
   "metadata": {},
   "outputs": [
    {
     "name": "stdout",
     "output_type": "stream",
     "text": [
      "No resources found in default namespace.\n"
     ]
    }
   ],
   "source": [
    "! kubectl get pods "
   ]
  },
  {
   "cell_type": "code",
   "execution_count": 34,
   "id": "93ee29b3-6a60-46c6-9dd7-49d8fca88660",
   "metadata": {},
   "outputs": [
    {
     "name": "stdout",
     "output_type": "stream",
     "text": [
      "pod/hostname unchanged\n",
      "\n",
      "NAME       READY   STATUS    RESTARTS   AGE\n",
      "hostname   1/1     Running   0          32s\n"
     ]
    }
   ],
   "source": [
    "! kubectl apply -f pod.yaml\n",
    "! echo;\n",
    "! kubectl get pod"
   ]
  },
  {
   "cell_type": "code",
   "execution_count": 35,
   "id": "b317949d-6cd4-484f-8715-a8aba741ce53",
   "metadata": {},
   "outputs": [
    {
     "name": "stdout",
     "output_type": "stream",
     "text": [
      "NAME       READY   STATUS    RESTARTS   AGE   LABELS\n",
      "hostname   1/1     Running   0          41s   app=hostname,env=dev\n"
     ]
    }
   ],
   "source": [
    "! kubectl get pod hostname --show-labels"
   ]
  },
  {
   "cell_type": "code",
   "execution_count": 36,
   "id": "f3dcf361-36af-485b-b3c4-a43d0f753573",
   "metadata": {},
   "outputs": [
    {
     "name": "stdout",
     "output_type": "stream",
     "text": [
      "Name:             hostname\n",
      "Namespace:        default\n",
      "Priority:         0\n",
      "Service Account:  default\n",
      "Node:             minikube/192.168.49.2\n",
      "Start Time:       Mon, 28 Nov 2022 08:00:32 +0000\n",
      "Labels:           app=hostname\n",
      "                  env=dev\n",
      "Annotations:      <none>\n",
      "Status:           Running\n",
      "IP:               172.17.0.3\n",
      "IPs:\n",
      "  IP:  172.17.0.3\n",
      "Containers:\n",
      "  hostname:\n",
      "    Container ID:   docker://be4e5288554f6f82aec0b68aa268343b3780cd638609d2278c02159bb17f0bd3\n",
      "    Image:          docker.io/brokenpen/hostname:v1\n",
      "    Image ID:       docker-pullable://brokenpen/hostname@sha256:e964abbaf720ac36ae20beb6330e81413d97160c11273ef582957d33a0608bae\n",
      "    Port:           <none>\n",
      "    Host Port:      <none>\n",
      "    State:          Running\n",
      "      Started:      Mon, 28 Nov 2022 08:00:33 +0000\n",
      "    Ready:          True\n",
      "    Restart Count:  0\n",
      "    Environment:    <none>\n",
      "    Mounts:\n",
      "      /var/run/secrets/kubernetes.io/serviceaccount from kube-api-access-44lkw (ro)\n",
      "Conditions:\n",
      "  Type              Status\n",
      "  Initialized       True \n",
      "  Ready             True \n",
      "  ContainersReady   True \n",
      "  PodScheduled      True \n",
      "Volumes:\n",
      "  kube-api-access-44lkw:\n",
      "    Type:                    Projected (a volume that contains injected data from multiple sources)\n",
      "    TokenExpirationSeconds:  3607\n",
      "    ConfigMapName:           kube-root-ca.crt\n",
      "    ConfigMapOptional:       <nil>\n",
      "    DownwardAPI:             true\n",
      "QoS Class:                   BestEffort\n",
      "Node-Selectors:              <none>\n",
      "Tolerations:                 node.kubernetes.io/not-ready:NoExecute op=Exists for 300s\n",
      "                             node.kubernetes.io/unreachable:NoExecute op=Exists for 300s\n",
      "Events:\n",
      "  Type    Reason     Age   From               Message\n",
      "  ----    ------     ----  ----               -------\n",
      "  Normal  Scheduled  48s   default-scheduler  Successfully assigned default/hostname to minikube\n",
      "  Normal  Pulled     48s   kubelet            Container image \"docker.io/brokenpen/hostname:v1\" already present on machine\n",
      "  Normal  Created    48s   kubelet            Created container hostname\n",
      "  Normal  Started    48s   kubelet            Started container hostname\n"
     ]
    }
   ],
   "source": [
    "! kubectl describe pod hostname"
   ]
  },
  {
   "cell_type": "code",
   "execution_count": null,
   "id": "68d38cc7-bdc7-49c0-b327-fbd76864690d",
   "metadata": {},
   "outputs": [
    {
     "name": "stdout",
     "output_type": "stream",
     "text": [
      "pod \"hostname\" deleted\n"
     ]
    }
   ],
   "source": [
    "! kubectl delete pod --all"
   ]
  },
  {
   "cell_type": "code",
   "execution_count": null,
   "id": "c491dfa9-037b-474e-99ef-b646b5b66721",
   "metadata": {},
   "outputs": [],
   "source": []
  }
 ],
 "metadata": {
  "kernelspec": {
   "display_name": "Python 3 (ipykernel)",
   "language": "python",
   "name": "python3"
  },
  "language_info": {
   "codemirror_mode": {
    "name": "ipython",
    "version": 3
   },
   "file_extension": ".py",
   "mimetype": "text/x-python",
   "name": "python",
   "nbconvert_exporter": "python",
   "pygments_lexer": "ipython3",
   "version": "3.10.6"
  }
 },
 "nbformat": 4,
 "nbformat_minor": 5
}
