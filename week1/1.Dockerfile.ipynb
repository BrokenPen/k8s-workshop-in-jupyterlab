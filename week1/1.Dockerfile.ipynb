{
 "cells": [
  {
   "cell_type": "markdown",
   "id": "c172a7d5-0522-4c7e-899b-c70fc122d757",
   "metadata": {},
   "source": [
    "# Dockerfile\n",
    "\n",
    "Dockerfile 是用來描述 container image 內容該怎麼建立\n",
    "\n",
    "<img src=\"./img/Dockerfile.png\" style=\"width:360px\"></img>\n"
   ]
  },
  {
   "cell_type": "code",
   "execution_count": 1,
   "id": "2090c51f-92d0-4eb5-bb2c-a5ece3f295fc",
   "metadata": {},
   "outputs": [
    {
     "name": "stdout",
     "output_type": "stream",
     "text": [
      "const http = require('http');\n",
      "const os = require('os');\n",
      "\n",
      "console.log(\"Kubia server starting...\");\n",
      "\n",
      "var handler = function(request, response) {\n",
      "  console.log(\"Received request from \" + request.connection.remoteAddress);\n",
      "  response.writeHead(200);\n",
      "  response.end(\"You've hit \" + os.hostname() + \"\\n\");\n",
      "};\n",
      "\n",
      "var www = http.createServer(handler);\n",
      "www.listen(8080);\n"
     ]
    }
   ],
   "source": [
    "# 一個簡單的 nodejs 網頁程式\n",
    "# 當有 http request 時候會列印 os的hostname\n",
    "# listen port 爲 8080\n",
    "! cat hostname/app.js"
   ]
  },
  {
   "cell_type": "code",
   "execution_count": 2,
   "id": "1aec426d-8e85-41c8-9752-572d9d89afb4",
   "metadata": {},
   "outputs": [],
   "source": [
    "%%bash --bg --proc bg_proc\n",
    "# 第一行指令 是要告訴Jupyterlab \n",
    "# 要在背景執行下面的 nodejs 指令 \n",
    "nodejs hostname/app.js"
   ]
  },
  {
   "cell_type": "code",
   "execution_count": 3,
   "id": "f556cd78-8f8d-4c01-835f-3e8735288742",
   "metadata": {},
   "outputs": [
    {
     "name": "stdout",
     "output_type": "stream",
     "text": [
      "You've hit b95a58b02288\n"
     ]
    }
   ],
   "source": [
    "# 利用 curl access localhost:8080\n",
    "! curl localhost:8080"
   ]
  },
  {
   "cell_type": "code",
   "execution_count": 4,
   "id": "f9024789-e627-4fad-8564-5df4193beb6d",
   "metadata": {},
   "outputs": [
    {
     "name": "stdout",
     "output_type": "stream",
     "text": [
      "[sudo] password for ubuntu: "
     ]
    }
   ],
   "source": [
    "# terminal the node application\n",
    "! echo \"ubuntu\" | sudo -S pkill node"
   ]
  },
  {
   "cell_type": "code",
   "execution_count": 5,
   "id": "e916e01b-32c4-4a8d-9d98-698a3434a18b",
   "metadata": {},
   "outputs": [],
   "source": [
    "# 查詢這個 nodejs 的 pid\n",
    "! ps aux | grep 'hostname/app.js' | grep -v 'grep' "
   ]
  },
  {
   "cell_type": "code",
   "execution_count": 6,
   "id": "b77e7451-0a60-431c-a36b-3bb26701cd08",
   "metadata": {
    "tags": []
   },
   "outputs": [],
   "source": [
    "# kill 掉這隻 nodejs 的 pid\n",
    "# ! ps aux | grep 'hostname/app.js' | grep -v 'grep' | awk '{print $2}' | xargs kill"
   ]
  },
  {
   "cell_type": "code",
   "execution_count": 7,
   "id": "2c9c2e8f-4bdd-4ae4-953c-e14329225c98",
   "metadata": {},
   "outputs": [],
   "source": [
    "# 檢查\n",
    "! ps aux | grep 'hostname/app.js' | grep -v 'grep' "
   ]
  },
  {
   "cell_type": "code",
   "execution_count": 8,
   "id": "b15e5492-2169-4adf-9a5c-0964f1013c61",
   "metadata": {},
   "outputs": [
    {
     "name": "stdout",
     "output_type": "stream",
     "text": [
      "FROM node:7\n",
      "ADD app.js /app.js\n",
      "ENTRYPOINT [\"node\", \"app.js\"]\n"
     ]
    }
   ],
   "source": [
    "# Dockerfile是用來描述如何建立docker image\n",
    "! cat hostname/Dockerfile"
   ]
  },
  {
   "cell_type": "markdown",
   "id": "91b2d97c-8f5b-4952-a87c-c59a2ec16732",
   "metadata": {},
   "source": [
    "- `FROM` 指定base image, `node:7`，第7版的nodejs \n",
    "- `ADD` 把檔案加到Docker image裏面, hostname/app.js 複製到 contianer 的 /app.js\n",
    "- `ENTRYPOINT` 是指定 container 初始化時執行的指令"
   ]
  },
  {
   "cell_type": "code",
   "execution_count": 9,
   "id": "077f0c39-a9ae-4f65-bc4e-321cb7e6cc58",
   "metadata": {},
   "outputs": [
    {
     "name": "stdout",
     "output_type": "stream",
     "text": [
      "Authenticating with existing credentials...\n",
      "WARNING! Your password will be stored unencrypted in /home/ubuntu/.docker/config.json.\n",
      "Configure a credential helper to remove this warning. See\n",
      "https://docs.docker.com/engine/reference/commandline/login/#credentials-store\n",
      "\n",
      "Login Succeeded\n"
     ]
    }
   ],
   "source": [
    "# 你需要在terminal輸入 docker login \n",
    "# 登入你docker hub 賬戶\n",
    "# 按左邊的 Filer Browser (Ctrl+Shift+F)\n",
    "# 再按上面的藍色 New Launcher\n",
    "! docker login"
   ]
  },
  {
   "cell_type": "code",
   "execution_count": 10,
   "id": "7f09d340-5492-4195-9cb6-57c420edf40e",
   "metadata": {},
   "outputs": [
    {
     "name": "stdout",
     "output_type": "stream",
     "text": [
      "Sending build context to Docker daemon  3.072kB\n",
      "Step 1/3 : FROM node:7\n",
      " ---> d9aed20b68a4\n",
      "Step 2/3 : ADD app.js /app.js\n",
      " ---> Using cache\n",
      " ---> c940864095a2\n",
      "Step 3/3 : ENTRYPOINT [\"node\", \"app.js\"]\n",
      " ---> Using cache\n",
      " ---> ddd5107763d6\n",
      "Successfully built ddd5107763d6\n",
      "Successfully tagged brokenpen/hostname:v1\n"
     ]
    }
   ],
   "source": [
    "# docker build -t <your-docker-user-name>/image-name:tag Dockerfile-Path\n",
    "# docker build -t <your-docker-user-name>/hostname:v1 hostname\n",
    "! docker build -t brokenpen/hostname:v1 hostname"
   ]
  },
  {
   "cell_type": "code",
   "execution_count": 11,
   "id": "12e90b23-f16c-4572-936d-da3e65e0ebd1",
   "metadata": {},
   "outputs": [
    {
     "name": "stdout",
     "output_type": "stream",
     "text": [
      "app\n",
      "95244f5f9820a0a1648320778b5364d88ec1b2d30691374b508d49c00a3392ec\n"
     ]
    }
   ],
   "source": [
    "# pid=$(docker run -d -p 8080:8080 <your_docker_username>/hostname:v1)\n",
    "! docker rm -f app\n",
    "! docker run -d -p 8080:8080 --name app brokenpen/hostname:v1"
   ]
  },
  {
   "cell_type": "code",
   "execution_count": 12,
   "id": "0e28eafe-b7ae-4858-b7b5-089b2425f472",
   "metadata": {},
   "outputs": [
    {
     "name": "stdout",
     "output_type": "stream",
     "text": [
      "curl: (56) Recv failure: Connection reset by peer\n"
     ]
    }
   ],
   "source": [
    "# http request to localhost:8080\n",
    "! curl localhost:8080"
   ]
  },
  {
   "cell_type": "code",
   "execution_count": 13,
   "id": "aea41de4-679c-41c9-9d73-5d3adff97b57",
   "metadata": {},
   "outputs": [
    {
     "name": "stdout",
     "output_type": "stream",
     "text": [
      "app\n"
     ]
    }
   ],
   "source": [
    "# 強制停止並且移除這個app 的container\n",
    "! docker rm -f app"
   ]
  },
  {
   "cell_type": "code",
   "execution_count": 14,
   "id": "206297a7-43ae-4ca8-8db5-d2da3f93a42d",
   "metadata": {},
   "outputs": [
    {
     "name": "stdout",
     "output_type": "stream",
     "text": [
      "Error response from daemon: No such container: app\n"
     ]
    }
   ],
   "source": [
    "# 或是先停止這給app container\n",
    "! docker stop app"
   ]
  },
  {
   "cell_type": "code",
   "execution_count": 15,
   "id": "83e7a738-e48f-4862-a4b8-512596a07ec0",
   "metadata": {},
   "outputs": [
    {
     "name": "stdout",
     "output_type": "stream",
     "text": [
      "Error: No such container: app\n"
     ]
    }
   ],
   "source": [
    "# 再把這個app container移除\n",
    "! docker rm app"
   ]
  },
  {
   "cell_type": "code",
   "execution_count": null,
   "id": "c9e458f4-fa39-427d-afc0-ab8eb144cefa",
   "metadata": {},
   "outputs": [],
   "source": []
  }
 ],
 "metadata": {
  "kernelspec": {
   "display_name": "Python 3 (ipykernel)",
   "language": "python",
   "name": "python3"
  },
  "language_info": {
   "codemirror_mode": {
    "name": "ipython",
    "version": 3
   },
   "file_extension": ".py",
   "mimetype": "text/x-python",
   "name": "python",
   "nbconvert_exporter": "python",
   "pygments_lexer": "ipython3",
   "version": "3.10.6"
  }
 },
 "nbformat": 4,
 "nbformat_minor": 5
}
