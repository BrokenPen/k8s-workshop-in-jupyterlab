{
 "cells": [
  {
   "cell_type": "code",
   "execution_count": null,
   "id": "58f01b00-b767-4711-8490-9965710334ef",
   "metadata": {},
   "outputs": [],
   "source": []
  },
  {
   "cell_type": "markdown",
   "id": "88ada893-efc4-4750-be94-c6cd46bc6f27",
   "metadata": {},
   "source": [
    "# Deployment\n",
    "\n",
    "A [Deployment](https://kubernetes.io/docs/concepts/workloads/controllers/deployment/) provides declarative updates for Pods and ReplicaSets.\n",
    "\n",
    "[Deployment](https://kubernetes.io/docs/concepts/workloads/controllers/deployment/) 為Pods和ReplicaSets提供聲明式的更新能力\n"
   ]
  },
  {
   "cell_type": "code",
   "execution_count": 59,
   "id": "7bf4103f-7667-4ceb-82d7-aa7d0195f430",
   "metadata": {},
   "outputs": [
    {
     "data": {
      "text/html": [
       "<img src=\"./img/deployment.jpg\" width=\"300\" height=\"300\"/>"
      ],
      "text/plain": [
       "<IPython.core.display.Image object>"
      ]
     },
     "execution_count": 59,
     "metadata": {},
     "output_type": "execute_result"
    }
   ],
   "source": [
    "from IPython.display import Image\n",
    "Image(url=\"./img/deployment.jpg\", width=300, height=300)"
   ]
  },
  {
   "cell_type": "markdown",
   "id": "4ef51549-edfc-413e-b4d7-8dfd96648fd5",
   "metadata": {},
   "source": [
    "## 什麼時候用 Deployment\n",
    "\n",
    "首先，我們一般不會用ReplicaSet，而是直接用Deployment。\n",
    "因為Deployment有更強大的功能，可以管理ReplicaSet和"
   ]
  },
  {
   "cell_type": "markdown",
   "id": "e7ad25d3-fe4d-46a0-a171-17cc344f4989",
   "metadata": {
    "tags": []
   },
   "source": [
    "## 扩容\n",
    "\n",
    "首先可以创建一个 deployment.yaml 的文件。来管理 hostname pod。"
   ]
  },
  {
   "cell_type": "code",
   "execution_count": 60,
   "id": "a20c4a5a-b43e-4db2-86e4-379f90ee0f2a",
   "metadata": {
    "tags": []
   },
   "outputs": [
    {
     "name": "stdout",
     "output_type": "stream",
     "text": [
      "KIND:     Deployment\n",
      "VERSION:  apps/v1\n",
      "\n",
      "DESCRIPTION:\n",
      "     Deployment enables declarative updates for Pods and ReplicaSets.\n",
      "\n",
      "FIELDS:\n",
      "   apiVersion\t<string>\n",
      "     APIVersion defines the versioned schema of this representation of an\n",
      "     object. Servers should convert recognized schemas to the latest internal\n",
      "     value, and may reject unrecognized values. More info:\n",
      "     https://git.k8s.io/community/contributors/devel/sig-architecture/api-conventions.md#resources\n",
      "\n",
      "   kind\t<string>\n",
      "     Kind is a string value representing the REST resource this object\n",
      "     represents. Servers may infer this from the endpoint the client submits\n",
      "     requests to. Cannot be updated. In CamelCase. More info:\n",
      "     https://git.k8s.io/community/contributors/devel/sig-architecture/api-conventions.md#types-kinds\n",
      "\n",
      "   metadata\t<Object>\n",
      "     Standard object's metadata. More info:\n",
      "     https://git.k8s.io/community/contributors/devel/sig-architecture/api-conventions.md#metadata\n",
      "\n",
      "   spec\t<Object>\n",
      "     Specification of the desired behavior of the Deployment.\n",
      "\n",
      "   status\t<Object>\n",
      "     Most recently observed status of the Deployment.\n",
      "\n"
     ]
    }
   ],
   "source": [
    "# ! kubectl explain RESOURCE\n",
    "! kubectl explain deployment"
   ]
  },
  {
   "cell_type": "code",
   "execution_count": 61,
   "id": "3f07e2a0-4189-4a5d-ae68-38a991482783",
   "metadata": {
    "tags": []
   },
   "outputs": [
    {
     "name": "stdout",
     "output_type": "stream",
     "text": [
      "KIND:     Deployment\n",
      "VERSION:  apps/v1\n",
      "\n",
      "FIELD:    replicas <integer>\n",
      "\n",
      "DESCRIPTION:\n",
      "     Number of desired pods. This is a pointer to distinguish between explicit\n",
      "     zero and not specified. Defaults to 1.\n"
     ]
    }
   ],
   "source": [
    "# Get the documentation of a specific field of a resource\n",
    "! kubectl explain deployment.spec.replicas"
   ]
  },
  {
   "cell_type": "code",
   "execution_count": 62,
   "id": "dd597201-27cf-443d-9688-159de4fbddcf",
   "metadata": {
    "tags": []
   },
   "outputs": [
    {
     "name": "stdout",
     "output_type": "stream",
     "text": [
      "KIND:     Deployment\n",
      "VERSION:  apps/v1\n",
      "\n",
      "RESOURCE: selector <Object>\n",
      "\n",
      "DESCRIPTION:\n",
      "     Label selector for pods. Existing ReplicaSets whose pods are selected by\n",
      "     this will be the ones affected by this deployment. It must match the pod\n",
      "     template's labels.\n",
      "\n",
      "     A label selector is a label query over a set of resources. The result of\n",
      "     matchLabels and matchExpressions are ANDed. An empty label selector matches\n",
      "     all objects. A null label selector matches no objects.\n",
      "\n",
      "FIELDS:\n",
      "   matchExpressions\t<[]Object>\n",
      "     matchExpressions is a list of label selector requirements. The requirements\n",
      "     are ANDed.\n",
      "\n",
      "   matchLabels\t<map[string]string>\n",
      "     matchLabels is a map of {key,value} pairs. A single {key,value} in the\n",
      "     matchLabels map is equivalent to an element of matchExpressions, whose key\n",
      "     field is \"key\", the operator is \"In\", and the values array contains only\n",
      "     \"value\". The requirements are ANDed.\n",
      "\n"
     ]
    }
   ],
   "source": [
    "# Get the documentation of a specific field of a resource\n",
    "! kubectl explain deployment.spec.selector"
   ]
  },
  {
   "cell_type": "code",
   "execution_count": 63,
   "id": "931f3c88-9bb9-4692-aa3b-2f4a2bd39eaa",
   "metadata": {},
   "outputs": [
    {
     "name": "stdout",
     "output_type": "stream",
     "text": [
      "NAME       STATUS   ROLES           AGE    VERSION\n",
      "minikube   Ready    control-plane   153m   v1.25.3\n"
     ]
    }
   ],
   "source": [
    "# 確保你的minikube有啟動\n",
    "! [[ -z $(kubectl get nodes) ]] && minikube start \n",
    "# 列印目前k8s節點\n",
    "! kubectl get nodes                    "
   ]
  },
  {
   "cell_type": "code",
   "execution_count": 64,
   "id": "fd4190ad-59ea-4db7-b3b1-504aca83a3a5",
   "metadata": {},
   "outputs": [
    {
     "name": "stdout",
     "output_type": "stream",
     "text": [
      "NAME       READY   UP-TO-DATE   AVAILABLE   AGE\n",
      "hostname   3/3     3            3           37m\n"
     ]
    }
   ],
   "source": [
    "# 列出目前 deloyment\n",
    "! kubectl get deploy"
   ]
  },
  {
   "cell_type": "code",
   "execution_count": 65,
   "id": "94576d7b-cbac-44e9-91ec-cf8381c399e4",
   "metadata": {},
   "outputs": [
    {
     "name": "stdout",
     "output_type": "stream",
     "text": [
      "error: failed to create deployment: deployments.apps \"hostname\" already exists\n",
      "\n",
      "error: failed to create deployment: deployments.apps \"hostname\" already exists\n"
     ]
    }
   ],
   "source": [
    "# 透過指令建立deployment\n",
    "! kubectl create deployment hostname --image=brokenpen/hostname:v1 # --ports 8080 \n",
    "! echo \n",
    "! kubectl create deployment hostname --image=brokenpen/hostname:v1 "
   ]
  },
  {
   "cell_type": "code",
   "execution_count": 66,
   "id": "302b43ef-7015-433b-995d-e1ed49a3aeb0",
   "metadata": {},
   "outputs": [
    {
     "name": "stdout",
     "output_type": "stream",
     "text": [
      "NAME       READY   UP-TO-DATE   AVAILABLE   AGE\n",
      "hostname   3/3     3            3           37m\n"
     ]
    }
   ],
   "source": [
    "# 列出目前 deloyment\n",
    "! kubectl get deploy "
   ]
  },
  {
   "cell_type": "code",
   "execution_count": 67,
   "id": "830e28b0-4e86-4cb3-b634-484454a3da10",
   "metadata": {
    "tags": []
   },
   "outputs": [
    {
     "name": "stdout",
     "output_type": "stream",
     "text": [
      "NAME       READY   UP-TO-DATE   AVAILABLE   AGE   CONTAINERS   IMAGES                  SELECTOR\n",
      "hostname   3/3     3            3           37m   hostname     brokenpen/hostname:v2   app=hostname\n"
     ]
    }
   ],
   "source": [
    "# 列出目前 deloyment\n",
    "! kubectl get deploy -o wide"
   ]
  },
  {
   "cell_type": "code",
   "execution_count": 68,
   "id": "35517adf-6dd5-46cd-8f7e-aebadf9e0544",
   "metadata": {
    "tags": []
   },
   "outputs": [
    {
     "name": "stdout",
     "output_type": "stream",
     "text": [
      "W1130 10:43:24.166849  539227 helpers.go:663] --dry-run is deprecated and can be replaced with --dry-run=client.\n",
      "apiVersion: apps/v1\n",
      "kind: Deployment\n",
      "metadata:\n",
      "  creationTimestamp: null\n",
      "  labels:\n",
      "    app: hostname\n",
      "  name: hostname\n",
      "spec:\n",
      "  replicas: 1\n",
      "  selector:\n",
      "    matchLabels:\n",
      "      app: hostname\n",
      "  strategy: {}\n",
      "  template:\n",
      "    metadata:\n",
      "      creationTimestamp: null\n",
      "      labels:\n",
      "        app: hostname\n",
      "    spec:\n",
      "      containers:\n",
      "      - image: brokenpen/hostname:v1\n",
      "        name: hostname\n",
      "        resources: {}\n",
      "status: {}\n"
     ]
    }
   ],
   "source": [
    "# 透過 dryrun, 來預覽yaml檔案，可是並不會實際建立\n",
    "! kubectl create deployment hostname --image=brokenpen/hostname:v1  --dry-run -o yaml"
   ]
  },
  {
   "cell_type": "code",
   "execution_count": 69,
   "id": "5f83f5c1-0fdb-4ca5-a86a-acc21272b2df",
   "metadata": {},
   "outputs": [
    {
     "name": "stdout",
     "output_type": "stream",
     "text": [
      "apiVersion: apps/v1\n",
      "kind: Deployment\n",
      "metadata:\n",
      "  name: hostname\n",
      "spec:\n",
      "  replicas: 1\n",
      "  selector:\n",
      "    matchLabels:\n",
      "      app: hostname\n",
      "  template:\n",
      "    metadata:\n",
      "      labels:\n",
      "        app: hostname\n",
      "    spec:\n",
      "      containers:\n",
      "        - image: docker.io/brokenpen/hostname:v1\n",
      "          name: hostname\n",
      "          ports:\n",
      "            - name: http\n",
      "              containerPort: 8080\n",
      " "
     ]
    }
   ],
   "source": [
    "# 使用deployment.yaml 範例建立 deployment\n",
    "! cat deployment.yaml"
   ]
  },
  {
   "cell_type": "markdown",
   "id": "5b65fdee-4d0d-401b-9177-0b214680f586",
   "metadata": {},
   "source": [
    "- yaml\n",
    "   - apiVersion\n",
    "   - kind\n",
    "   - metadata\n",
    "   - spec\n",
    "      - replicas\n",
    "      - selector\n",
    "      - template"
   ]
  },
  {
   "cell_type": "code",
   "execution_count": 70,
   "id": "622c9457-487d-4f6a-a4ea-bdf28a8f86a2",
   "metadata": {},
   "outputs": [
    {
     "name": "stdout",
     "output_type": "stream",
     "text": [
      "deployment.apps \"hostname\" deleted\n",
      "\n",
      "deployment.apps/hostname created\n"
     ]
    }
   ],
   "source": [
    "# 透過yaml檔案建立deployment\n",
    "! kubectl delete deployment hostname\n",
    "! echo \n",
    "! kubectl apply -f deployment.yaml"
   ]
  },
  {
   "cell_type": "code",
   "execution_count": 71,
   "id": "ebeda87d-a6df-412b-bc8c-b492b8bff1d3",
   "metadata": {},
   "outputs": [
    {
     "name": "stdout",
     "output_type": "stream",
     "text": [
      "NAME       READY   UP-TO-DATE   AVAILABLE   AGE\n",
      "hostname   0/1     1            0           0s\n"
     ]
    }
   ],
   "source": [
    "# 列出目前 deloyment\n",
    "! kubectl get deploy"
   ]
  },
  {
   "cell_type": "code",
   "execution_count": 72,
   "id": "043469ba-d6ff-424c-a06f-92f810eccedf",
   "metadata": {},
   "outputs": [
    {
     "name": "stdout",
     "output_type": "stream",
     "text": [
      "NAME                        READY   STATUS              RESTARTS   AGE\n",
      "hostname                    1/1     Running             0          13m\n",
      "hostname-4df4s              1/1     Terminating         0          18s\n",
      "hostname-5477bcd76c-bsgqs   1/1     Terminating         0          31m\n",
      "hostname-5477bcd76c-k225l   1/1     Terminating         0          31m\n",
      "hostname-5477bcd76c-mcz9p   1/1     Terminating         0          31m\n",
      "hostname-85d476d6d4-z8rvf   0/1     ContainerCreating   0          0s\n",
      "hostname-d9wkm              1/1     Terminating         0          18s\n",
      "hostname-x8c2k              1/1     Terminating         0          18s\n"
     ]
    }
   ],
   "source": [
    "# 列出目前 pods\n",
    "! kubectl get pods"
   ]
  },
  {
   "cell_type": "code",
   "execution_count": 73,
   "id": "11024b0e-16b5-4bbf-8e3c-283d550d52be",
   "metadata": {},
   "outputs": [
    {
     "name": "stdout",
     "output_type": "stream",
     "text": [
      "NAME                        READY   STATUS              RESTARTS   AGE   LABELS\n",
      "hostname                    1/1     Running             0          13m   app=nginx,env=dev\n",
      "hostname-4df4s              1/1     Terminating         0          19s   tier=frontend\n",
      "hostname-5477bcd76c-bsgqs   1/1     Terminating         0          31m   app=hostname,pod-template-hash=5477bcd76c\n",
      "hostname-5477bcd76c-k225l   1/1     Terminating         0          31m   app=hostname,pod-template-hash=5477bcd76c\n",
      "hostname-5477bcd76c-mcz9p   1/1     Terminating         0          31m   app=hostname,pod-template-hash=5477bcd76c\n",
      "hostname-85d476d6d4-z8rvf   0/1     ContainerCreating   0          1s    app=hostname,pod-template-hash=85d476d6d4\n",
      "hostname-d9wkm              1/1     Terminating         0          19s   tier=frontend\n",
      "hostname-x8c2k              1/1     Terminating         0          19s   tier=frontend\n"
     ]
    }
   ],
   "source": [
    "# 列出目前 pods\n",
    "! kubectl get pods --show-labels"
   ]
  },
  {
   "cell_type": "code",
   "execution_count": 74,
   "id": "b9fd1bb1-4010-46a7-a520-6d8b981997db",
   "metadata": {},
   "outputs": [
    {
     "name": "stdout",
     "output_type": "stream",
     "text": [
      "hostname-5477bcd76c-bsgqs\n",
      "hostname-5477bcd76c-k225l\n",
      "hostname-5477bcd76c-mcz9p\n",
      "hostname-85d476d6d4-z8rvf\n"
     ]
    }
   ],
   "source": [
    "# 直列印pod的名稱\n",
    "! kubectl get pods --selector=app=hostname \\\n",
    "  --no-headers \\\n",
    "  -o custom-columns=\":metadata.name\""
   ]
  },
  {
   "cell_type": "code",
   "execution_count": null,
   "id": "d7bc9144-fd8f-4607-b61b-77dfcce76c2c",
   "metadata": {},
   "outputs": [
    {
     "name": "stdout",
     "output_type": "stream",
     "text": [
      "pod \"hostname-5477bcd76c-bsgqs\" deleted\n",
      "pod \"hostname-5477bcd76c-k225l\" deleted\n",
      "pod \"hostname-5477bcd76c-mcz9p\" deleted\n",
      "pod \"hostname-85d476d6d4-z8rvf\" deleted\n"
     ]
    }
   ],
   "source": [
    "# 嘗試把pod刪掉\n",
    "# 看看deployment會怎麼處理\n",
    "! kubectl delete pods $(kubectl get pods --selector=app=hostname --no-headers -o custom-columns=\":metadata.name\"); \n",
    "! echo;\n",
    "! kubectl get pods --selector=app=hostname\n",
    "! sleep 5 # wait 5 second \n",
    "! echo; echo after 5 seconds; echo;\n",
    "! kubectl get pods --selector=app=hostname"
   ]
  },
  {
   "cell_type": "code",
   "execution_count": null,
   "id": "b250e8d4-05d9-479e-9c19-0fc6ac4595f4",
   "metadata": {},
   "outputs": [],
   "source": [
    "! kubectl scale --replicas=2 deployment hostname\n",
    "! kubectl get deploy hostname\n",
    "! echo;\n",
    "! kubectl get pods --selector=app=hostname"
   ]
  },
  {
   "cell_type": "code",
   "execution_count": null,
   "id": "7d2e2963-4d6a-4102-bd5b-c6498cd478c4",
   "metadata": {},
   "outputs": [],
   "source": [
    "! kubectl scale deploy/hostname --replicas=4; echo;\n",
    "! kubectl get pods --selector=app=hostname"
   ]
  },
  {
   "cell_type": "code",
   "execution_count": null,
   "id": "c82be70c-1843-4bd0-b670-c71ef122037a",
   "metadata": {},
   "outputs": [],
   "source": [
    "! kubectl get pods --selector=app=hostname"
   ]
  },
  {
   "cell_type": "code",
   "execution_count": null,
   "id": "fb1e9570-bd26-42a8-a6c2-4a10f244f49e",
   "metadata": {},
   "outputs": [],
   "source": [
    "! kubectl delete pods --selector=app=hostname; \n",
    "! echo; sleep 1;\n",
    "! kubectl get pods --selector=app=hostname;"
   ]
  },
  {
   "cell_type": "markdown",
   "id": "ba54611d-771f-4f08-bcc8-82b7bb67a2ca",
   "metadata": {},
   "source": [
    "---"
   ]
  },
  {
   "cell_type": "code",
   "execution_count": null,
   "id": "fecd03e7-5cb4-477a-9c08-e67699991c5a",
   "metadata": {},
   "outputs": [],
   "source": [
    "! kubectl delete deployment.apps/hostname"
   ]
  },
  {
   "cell_type": "code",
   "execution_count": null,
   "id": "35145983-5aa5-4c98-956a-911d82d41e97",
   "metadata": {},
   "outputs": [],
   "source": [
    "! kubectl delete deploy hostname"
   ]
  },
  {
   "cell_type": "code",
   "execution_count": null,
   "id": "af63bf01-9842-4765-b2cd-9f5f4629e5b1",
   "metadata": {},
   "outputs": [],
   "source": [
    "! kubectl delete deploy/hostname"
   ]
  },
  {
   "cell_type": "code",
   "execution_count": null,
   "id": "2d05456a-491e-4419-bc9a-c92224d5a438",
   "metadata": {},
   "outputs": [],
   "source": []
  }
 ],
 "metadata": {
  "kernelspec": {
   "display_name": "Python 3 (ipykernel)",
   "language": "python",
   "name": "python3"
  },
  "language_info": {
   "codemirror_mode": {
    "name": "ipython",
    "version": 3
   },
   "file_extension": ".py",
   "mimetype": "text/x-python",
   "name": "python",
   "nbconvert_exporter": "python",
   "pygments_lexer": "ipython3",
   "version": "3.10.6"
  }
 },
 "nbformat": 4,
 "nbformat_minor": 5
}
