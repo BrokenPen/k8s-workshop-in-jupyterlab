{
 "cells": [
  {
   "cell_type": "code",
   "execution_count": null,
   "id": "58f01b00-b767-4711-8490-9965710334ef",
   "metadata": {},
   "outputs": [],
   "source": []
  },
  {
   "cell_type": "markdown",
   "id": "88ada893-efc4-4750-be94-c6cd46bc6f27",
   "metadata": {},
   "source": [
    "# Deployment\n",
    "\n",
    "A [Deployment](https://kubernetes.io/docs/concepts/workloads/controllers/deployment/) provides declarative updates for Pods and ReplicaSets.\n",
    "\n",
    "[Deployment](https://kubernetes.io/docs/concepts/workloads/controllers/deployment/) 為Pods和ReplicaSets提供聲明式的跟新能力\n"
   ]
  },
  {
   "cell_type": "code",
   "execution_count": null,
   "id": "7bf4103f-7667-4ceb-82d7-aa7d0195f430",
   "metadata": {},
   "outputs": [
    {
     "data": {
      "text/html": [
       "<img src=\"./img/deployment.jpg\" width=\"300\" height=\"300\"/>"
      ],
      "text/plain": [
       "<IPython.core.display.Image object>"
      ]
     },
     "execution_count": 1,
     "metadata": {},
     "output_type": "execute_result"
    }
   ],
   "source": [
    "from IPython.display import Image\n",
    "Image(url=\"./img/deployment.jpg\", width=300, height=300)"
   ]
  },
  {
   "cell_type": "code",
   "execution_count": null,
   "id": "9cc75c56-67cb-4911-a55e-73f534afb93f",
   "metadata": {},
   "outputs": [],
   "source": [
    "## When to Use Deployment\n",
    "\n",
    "首先，我們一般不會用ReplicaSet，而是直接用Deployment。\n",
    "因為Deployment有更強大的功能，可以管理ReplicaSet和"
   ]
  },
  {
   "cell_type": "markdown",
   "id": "e7ad25d3-fe4d-46a0-a171-17cc344f4989",
   "metadata": {
    "tags": []
   },
   "source": [
    "## 扩容\n",
    "\n",
    "首先可以创建一个 deployment.yaml 的文件。来管理 hellok8s pod。"
   ]
  },
  {
   "cell_type": "code",
   "execution_count": null,
   "id": "4fd48fad-9330-4c2d-809b-0668c6422d66",
   "metadata": {},
   "outputs": [
    {
     "name": "stdout",
     "output_type": "stream",
     "text": [
      "apiVersion: apps/v1\n",
      "kind: Deployment\n",
      "metadata:\n",
      "  name: hellok8s-deployment\n",
      "spec:\n",
      "  replicas: 1\n",
      "  selector:\n",
      "    matchLabels:\n",
      "      app: hellok8s\n",
      "  template:\n",
      "    metadata:\n",
      "      labels:\n",
      "        app: hellok8s\n",
      "    spec:\n",
      "      containers:\n",
      "        - image: guangzhengli/hellok8s:v1\n",
      "          name: hellok8s-container"
     ]
    }
   ],
   "source": [
    "! cat deployment.yaml"
   ]
  },
  {
   "cell_type": "markdown",
   "id": "5b65fdee-4d0d-401b-9177-0b214680f586",
   "metadata": {},
   "source": [
    "- yaml\n",
    "   - apiVersion\n",
    "   - kind\n",
    "   - metadata\n",
    "   - spec\n",
    "      - replicas\n",
    "      - selector\n",
    "      - template"
   ]
  },
  {
   "cell_type": "raw",
   "id": "13b6a9be-49c2-4a83-8283-34fe4b26367a",
   "metadata": {},
   "source": [
    "# 設定短命令給Jupyter"
   ]
  },
  {
   "cell_type": "code",
   "execution_count": null,
   "id": "4dbc640b-b565-4d4e-9854-cb31a6c3a7fd",
   "metadata": {},
   "outputs": [
    {
     "name": "stdout",
     "output_type": "stream",
     "text": [
      "minikube kubectl --\n",
      "minikube kubectl --\n"
     ]
    }
   ],
   "source": [
    "k='minikube kubectl --' \n",
    "kubectl='minikube kubectl --' \n",
    "\n",
    "! echo $k\n",
    "! echo $kubectl "
   ]
  },
  {
   "cell_type": "raw",
   "id": "d070b87b-4af3-44c5-9956-3efe1450759e",
   "metadata": {},
   "source": [
    "# 在bash底下只要設定好了短指令后，把下面的cell的 ! $ 拿掉，再輸入到bash裏就好\n",
    "# 例如 ! $k get node -->>   k get node"
   ]
  },
  {
   "cell_type": "code",
   "execution_count": null,
   "id": "931f3c88-9bb9-4692-aa3b-2f4a2bd39eaa",
   "metadata": {},
   "outputs": [
    {
     "name": "stdout",
     "output_type": "stream",
     "text": [
      "NAME       STATUS   ROLES           AGE   VERSION\n",
      "minikube   Ready    control-plane   9h    v1.25.3\n"
     ]
    }
   ],
   "source": [
    "# 列出目前 node\n",
    "! kubectl get node"
   ]
  },
  {
   "cell_type": "code",
   "execution_count": null,
   "id": "fd4190ad-59ea-4db7-b3b1-504aca83a3a5",
   "metadata": {},
   "outputs": [
    {
     "name": "stdout",
     "output_type": "stream",
     "text": [
      "NAME                  READY   UP-TO-DATE   AVAILABLE   AGE\n",
      "hellok8s-deployment   1/1     1            1           16s\n"
     ]
    }
   ],
   "source": [
    "# 列出目前 deloyment\n",
    "! kubectl get deploy"
   ]
  },
  {
   "cell_type": "code",
   "execution_count": null,
   "id": "94576d7b-cbac-44e9-91ec-cf8381c399e4",
   "metadata": {},
   "outputs": [
    {
     "name": "stdout",
     "output_type": "stream",
     "text": [
      "error: unknown flag: --ports\n",
      "See 'kubectl create deployment --help' for usage.\n",
      "\n",
      "error: failed to create deployment: deployments.apps \"hostname-deployment\" already exists\n"
     ]
    }
   ],
   "source": [
    "# 透過指令建立deployment\n",
    "! kubectl create deployment hostname-deployment --image=brokenpen/hostname:v1 --ports 8080 # \n",
    "! echo \n",
    "! kubectl create deployment hostname-deployment --image=brokenpen/hostname:v1 "
   ]
  },
  {
   "cell_type": "code",
   "execution_count": null,
   "id": "cde21d25-aa01-48cf-86e6-44a890bae2de",
   "metadata": {},
   "outputs": [
    {
     "name": "stdout",
     "output_type": "stream",
     "text": [
      "apiVersion: apps/v1\n",
      "kind: Deployment\n",
      "metadata:\n",
      "  name: hostname-deployment\n",
      "spec:\n",
      "  replicas: 1\n",
      "  selector:\n",
      "    matchLabels:\n",
      "      app: hostname\n",
      "  template:\n",
      "    metadata:\n",
      "      labels:\n",
      "        app: hostname\n",
      "    spec:\n",
      "      containers:\n",
      "        - image: brokenpen/hostname:v1\n",
      "          name: hostname\n",
      "          ports:\n",
      "            - name: http\n",
      "              containerPort: 8080\n",
      " "
     ]
    }
   ],
   "source": [
    "cat deployment.yaml"
   ]
  },
  {
   "cell_type": "code",
   "execution_count": null,
   "id": "622c9457-487d-4f6a-a4ea-bdf28a8f86a2",
   "metadata": {},
   "outputs": [
    {
     "name": "stdout",
     "output_type": "stream",
     "text": [
      "deployment.apps \"hostname-deployment\" deleted\n",
      "\n",
      "deployment.apps/hostname-deployment created\n"
     ]
    }
   ],
   "source": [
    "# 透過yaml檔案建立deployment\n",
    "! kubectl delete deployment hostname-deployment\n",
    "! echo \n",
    "! kubectl apply -f deployment.yaml\n",
    "# ! kubectl get deploy hostname-deployment -o yaml"
   ]
  },
  {
   "cell_type": "code",
   "execution_count": null,
   "id": "ebeda87d-a6df-412b-bc8c-b492b8bff1d3",
   "metadata": {},
   "outputs": [
    {
     "name": "stdout",
     "output_type": "stream",
     "text": [
      "NAME                  READY   UP-TO-DATE   AVAILABLE   AGE\n",
      "hellok8s-deployment   1/1     1            1           12m\n"
     ]
    }
   ],
   "source": [
    "# 列出目前 deloyment\n",
    "! kubectl get deploy"
   ]
  },
  {
   "cell_type": "code",
   "execution_count": null,
   "id": "043469ba-d6ff-424c-a06f-92f810eccedf",
   "metadata": {},
   "outputs": [
    {
     "name": "stdout",
     "output_type": "stream",
     "text": [
      "NAME                                  READY   STATUS              RESTARTS   AGE\n",
      "hellok8s-deployment-7654bb8bb-8mtdw   0/1     ContainerCreating   0          2s\n"
     ]
    }
   ],
   "source": [
    "# 列出目前 pods\n",
    "! kubectl get pods"
   ]
  },
  {
   "cell_type": "code",
   "execution_count": null,
   "id": "b9fd1bb1-4010-46a7-a520-6d8b981997db",
   "metadata": {},
   "outputs": [
    {
     "name": "stdout",
     "output_type": "stream",
     "text": [
      "hellok8s-deployment-7654bb8bb-lgqqs\n"
     ]
    }
   ],
   "source": [
    "! kubectl get pods --selector=app=hellok8s --no-headers -o custom-columns=\":metadata.name\""
   ]
  },
  {
   "cell_type": "code",
   "execution_count": null,
   "id": "d7bc9144-fd8f-4607-b61b-77dfcce76c2c",
   "metadata": {},
   "outputs": [
    {
     "name": "stdout",
     "output_type": "stream",
     "text": [
      "pod \"hellok8s-deployment-7654bb8bb-lgqqs\" deleted\n",
      "\n",
      "NAME                                  READY   STATUS              RESTARTS      AGE\n",
      "frontend-hcnkc                        1/1     Running             3 (55m ago)   64m\n",
      "frontend-m6nkt                        1/1     Running             3 (54m ago)   64m\n",
      "frontend-rj4k7                        1/1     Running             4 (54m ago)   59m\n",
      "frontend-x96tf                        1/1     Running             4 (54m ago)   59m\n",
      "hellok8s-deployment-7654bb8bb-vpcj8   0/1     ContainerCreating   0             1s\n",
      "\n",
      "after 5 seconds\n",
      "\n",
      "NAME                                  READY   STATUS    RESTARTS      AGE\n",
      "frontend-hcnkc                        1/1     Running   3 (55m ago)   64m\n",
      "frontend-m6nkt                        1/1     Running   3 (54m ago)   64m\n",
      "frontend-rj4k7                        1/1     Running   4 (54m ago)   59m\n",
      "frontend-x96tf                        1/1     Running   4 (54m ago)   59m\n",
      "hellok8s-deployment-7654bb8bb-vpcj8   1/1     Running   0             7s\n"
     ]
    }
   ],
   "source": [
    "! kubectl delete pods $(kubectl get pods --selector=app=hellok8s --no-headers -o custom-columns=\":metadata.name\"); echo;\n",
    "! kubectl get pods --selector=app=hellok8s\n",
    "! sleep 5 # wait 5 second \n",
    "! echo; echo after 5 seconds; echo;\n",
    "! kubectl get pods --selector=app=hellok8s"
   ]
  },
  {
   "cell_type": "code",
   "execution_count": null,
   "id": "b250e8d4-05d9-479e-9c19-0fc6ac4595f4",
   "metadata": {},
   "outputs": [
    {
     "name": "stdout",
     "output_type": "stream",
     "text": [
      "deployment.apps/hostname-deployment scaled\n",
      "NAME                  READY   UP-TO-DATE   AVAILABLE   AGE\n",
      "hostname-deployment   0/2     2            0           62s\n",
      "\n",
      "No resources found in default namespace.\n"
     ]
    }
   ],
   "source": [
    "! kubectl scale --replicas=2 deployment hostname-deployment\n",
    "! kubectl get deploy hostname-deployment\n",
    "! echo;\n",
    "! kubectl get pods --selector=app=hellok8s"
   ]
  },
  {
   "cell_type": "code",
   "execution_count": null,
   "id": "7d2e2963-4d6a-4102-bd5b-c6498cd478c4",
   "metadata": {},
   "outputs": [
    {
     "name": "stdout",
     "output_type": "stream",
     "text": [
      "deployment.apps/hellok8s-deployment scaled\n",
      "\n",
      "NAME                                  READY   STATUS              RESTARTS   AGE\n",
      "hellok8s-deployment-7654bb8bb-hpmmd   0/1     ContainerCreating   0          0s\n",
      "hellok8s-deployment-7654bb8bb-vpcj8   1/1     Running             0          4m4s\n",
      "hellok8s-deployment-7654bb8bb-wmqg4   0/1     ContainerCreating   0          0s\n",
      "hellok8s-deployment-7654bb8bb-wr8t8   1/1     Running             0          2m51s\n"
     ]
    }
   ],
   "source": [
    "! kubectl scale deploy/hellok8s-deployment --replicas=4; echo;\n",
    "! kubectl get pods --selector=app=hellok8s"
   ]
  },
  {
   "cell_type": "code",
   "execution_count": null,
   "id": "c82be70c-1843-4bd0-b670-c71ef122037a",
   "metadata": {},
   "outputs": [
    {
     "name": "stdout",
     "output_type": "stream",
     "text": [
      "NAME                                  READY   STATUS              RESTARTS   AGE\n",
      "hellok8s-deployment-7654bb8bb-j8nrq   1/1     Running             0          9s\n",
      "hellok8s-deployment-7654bb8bb-pc72r   1/1     Running             0          9s\n",
      "hellok8s-deployment-7654bb8bb-x4qdd   0/1     ContainerCreating   0          8s\n",
      "hellok8s-deployment-7654bb8bb-zh6h7   1/1     Running             0          8s\n"
     ]
    }
   ],
   "source": [
    "! kubectl get pods --selector=app=hellok8s"
   ]
  },
  {
   "cell_type": "code",
   "execution_count": null,
   "id": "fb1e9570-bd26-42a8-a6c2-4a10f244f49e",
   "metadata": {},
   "outputs": [
    {
     "name": "stdout",
     "output_type": "stream",
     "text": [
      "pod \"hellok8s-deployment-7654bb8bb-j8nrq\" deleted\n",
      "pod \"hellok8s-deployment-7654bb8bb-pc72r\" deleted\n",
      "pod \"hellok8s-deployment-7654bb8bb-x4qdd\" deleted\n",
      "pod \"hellok8s-deployment-7654bb8bb-zh6h7\" deleted\n",
      "\n",
      "NAME                                  READY   STATUS    RESTARTS   AGE\n",
      "hellok8s-deployment-7654bb8bb-dvtxs   1/1     Running   0          6s\n",
      "hellok8s-deployment-7654bb8bb-g9jxm   1/1     Running   0          6s\n",
      "hellok8s-deployment-7654bb8bb-lg8rq   1/1     Running   0          6s\n",
      "hellok8s-deployment-7654bb8bb-w9zzx   1/1     Running   0          6s\n"
     ]
    }
   ],
   "source": [
    "! kubectl delete pods --selector=app=hellok8s; echo; sleep 1;\n",
    "! kubectl get pods --selector=app=hellok8s;"
   ]
  },
  {
   "cell_type": "markdown",
   "id": "ba54611d-771f-4f08-bcc8-82b7bb67a2ca",
   "metadata": {},
   "source": [
    "---"
   ]
  },
  {
   "cell_type": "code",
   "execution_count": null,
   "id": "fecd03e7-5cb4-477a-9c08-e67699991c5a",
   "metadata": {},
   "outputs": [
    {
     "name": "stdout",
     "output_type": "stream",
     "text": [
      "Error from server (NotFound): deployments.apps \"hellok8s-deployment\" not found\n"
     ]
    }
   ],
   "source": [
    "! kubectl delete deployment.apps/hellok8s-deployment"
   ]
  },
  {
   "cell_type": "code",
   "execution_count": null,
   "id": "35145983-5aa5-4c98-956a-911d82d41e97",
   "metadata": {},
   "outputs": [
    {
     "name": "stdout",
     "output_type": "stream",
     "text": [
      "Error from server (NotFound): deployments.apps \"hellok8s-deployment\" not found\n"
     ]
    }
   ],
   "source": [
    "! kubectl delete deploy hellok8s-deployment"
   ]
  },
  {
   "cell_type": "code",
   "execution_count": null,
   "id": "af63bf01-9842-4765-b2cd-9f5f4629e5b1",
   "metadata": {},
   "outputs": [
    {
     "name": "stdout",
     "output_type": "stream",
     "text": [
      "deployment.apps \"hellok8s-deployment\" deleted\n"
     ]
    }
   ],
   "source": [
    "! kubectl delete deploy/hellok8s-deployment"
   ]
  },
  {
   "cell_type": "code",
   "execution_count": null,
   "id": "2d05456a-491e-4419-bc9a-c92224d5a438",
   "metadata": {},
   "outputs": [],
   "source": []
  }
 ],
 "metadata": {
  "kernelspec": {
   "display_name": "Python 3 (ipykernel)",
   "language": "python",
   "name": "python3"
  },
  "language_info": {
   "codemirror_mode": {
    "name": "ipython",
    "version": 3
   },
   "file_extension": ".py",
   "mimetype": "text/x-python",
   "name": "python",
   "nbconvert_exporter": "python",
   "pygments_lexer": "ipython3",
   "version": "3.10.6"
  }
 },
 "nbformat": 4,
 "nbformat_minor": 5
}
