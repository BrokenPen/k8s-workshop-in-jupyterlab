{
 "cells": [
  {
   "cell_type": "markdown",
   "id": "9ec1c978-56f1-4240-98c0-0adfb21fe487",
   "metadata": {},
   "source": [
    "# Service\n",
    "\n",
    "Service 是將一組Pods的網絡端口公開的方法，\n",
    "\n",
    "Kubernetes為Pod提供提供一個cluster IP,並以Load Balancer方式提供服務。\n",
    "\n",
    "在之前的教學裡，我們使用port forwarding方式access Pods IP，\n",
    "可是Pods IP是會隨Pods的生命週期而銷毀、改變。\n",
    "\n",
    "我們無法知道下一次由ReplicaSet或Deployment建立的新的Pods的IP，\n",
    "所以需要借助Service，幫我們找出對應的endpoints\n"
   ]
  },
  {
   "cell_type": "code",
   "execution_count": null,
   "id": "9a196b74-fba5-431e-a915-44dd87161e58",
   "metadata": {},
   "outputs": [
    {
     "name": "stdout",
     "output_type": "stream",
     "text": [
      "No resources found\n",
      "No resources found\n",
      "service \"kubernetes\" deleted\n",
      "pod \"hostname-82cwq\" deleted\n",
      "pod \"hostname-thpsr\" deleted\n"
     ]
    }
   ],
   "source": [
    "! kubectl delete deployment --all\n",
    "! kubectl delete replicaset --all\n",
    "! kubectl delete service --all\n",
    "! kubectl delete pods --all"
   ]
  },
  {
   "cell_type": "code",
   "execution_count": null,
   "id": "ae04bc2a-0231-4502-bb8e-f00ee4a95782",
   "metadata": {
    "tags": []
   },
   "outputs": [],
   "source": [
    "! cat deployment.yaml"
   ]
  },
  {
   "cell_type": "code",
   "execution_count": null,
   "id": "595e7bf0-dd0c-4aab-a3f3-6e9a27f65342",
   "metadata": {},
   "outputs": [],
   "source": [
    "! kubectl apply -f deployment.yaml"
   ]
  },
  {
   "cell_type": "code",
   "execution_count": null,
   "id": "a5504b40-d60d-4377-9669-37a9b3d2dc9e",
   "metadata": {},
   "outputs": [
    {
     "name": "stdout",
     "output_type": "stream",
     "text": [
      "NAME       READY   UP-TO-DATE   AVAILABLE   AGE   CONTAINERS   IMAGES                            SELECTOR\n",
      "hostname   0/1     1            0           1s    hostname     docker.io/brokenpen/hostname:v1   app=hostname\n"
     ]
    }
   ],
   "source": [
    "! kubectl get deployment -o wide"
   ]
  },
  {
   "cell_type": "code",
   "execution_count": null,
   "id": "c9eb3b3e-5f64-4a93-86f1-6a519109bbc6",
   "metadata": {},
   "outputs": [
    {
     "name": "stdout",
     "output_type": "stream",
     "text": [
      "service/hostname exposed\n"
     ]
    }
   ],
   "source": [
    "! kubectl expose deployment/hostname --type=NodePort"
   ]
  },
  {
   "cell_type": "code",
   "execution_count": null,
   "id": "3735ef86-0db9-45aa-aa6c-e22a7d7931aa",
   "metadata": {},
   "outputs": [],
   "source": []
  },
  {
   "cell_type": "code",
   "execution_count": null,
   "id": "510d3244-06b5-4a25-b132-7853336965e7",
   "metadata": {},
   "outputs": [
    {
     "name": "stdout",
     "output_type": "stream",
     "text": [
      "NAME       TYPE       CLUSTER-IP       EXTERNAL-IP   PORT(S)          AGE   SELECTOR\n",
      "hostname   NodePort   10.110.254.204   <none>        8080:32201/TCP   3s    app=hostname\n"
     ]
    }
   ],
   "source": [
    "! kubectl get service hostname -o wide"
   ]
  },
  {
   "cell_type": "code",
   "execution_count": null,
   "id": "88df847e-37a5-4981-8715-41a6a537524a",
   "metadata": {},
   "outputs": [
    {
     "name": "stdout",
     "output_type": "stream",
     "text": [
      "😿  service default/hostname has no node port\n"
     ]
    }
   ],
   "source": [
    "# 透過 minikube service 嘗試 access url\n",
    "! minikube service hostname --url"
   ]
  },
  {
   "cell_type": "code",
   "execution_count": null,
   "id": "5d645a53-2c60-44ff-81c4-6b95d759b119",
   "metadata": {},
   "outputs": [
    {
     "name": "stdout",
     "output_type": "stream",
     "text": [
      "curl: (6) Could not resolve host: xn--638h\n",
      "curl: (6) Could not resolve host: service\n",
      "curl: (6) Could not resolve host: default\n",
      "curl: (6) Could not resolve host: has\n",
      "curl: (6) Could not resolve host: no\n",
      "curl: (6) Could not resolve host: node\n",
      "curl: (6) Could not resolve host: port\n"
     ]
    }
   ],
   "source": [
    "! curl $(minikube service hostname --url)"
   ]
  },
  {
   "cell_type": "code",
   "execution_count": null,
   "id": "44bafb76-97d1-4424-9ebe-e7a0f4b84d25",
   "metadata": {},
   "outputs": [
    {
     "name": "stdout",
     "output_type": "stream",
     "text": [
      "service \"hostname\" deleted\n",
      "service/hostname exposed\n"
     ]
    }
   ],
   "source": [
    "! kubectl delete service hostname \n",
    "! kubectl expose deployment/hostname --port=8080 --target-port=8080"
   ]
  },
  {
   "cell_type": "code",
   "execution_count": null,
   "id": "dbbd3e90-1fcd-458c-b946-4a4c5520285e",
   "metadata": {},
   "outputs": [
    {
     "name": "stdout",
     "output_type": "stream",
     "text": [
      "NAME       TYPE        CLUSTER-IP      EXTERNAL-IP   PORT(S)    AGE   SELECTOR\n",
      "hostname   ClusterIP   10.98.197.220   <none>        8080/TCP   2s    app=hostname\n"
     ]
    }
   ],
   "source": [
    "! kubectl get service hostname -o wide"
   ]
  },
  {
   "cell_type": "code",
   "execution_count": null,
   "id": "fe94ab98-060a-42b9-8221-0070007f2741",
   "metadata": {},
   "outputs": [
    {
     "name": "stdout",
     "output_type": "stream",
     "text": [
      "10.98.197.220\n"
     ]
    }
   ],
   "source": [
    "! kubectl get service hostname --no-headers -o custom-columns=\":spec.clusterIP\""
   ]
  },
  {
   "cell_type": "code",
   "execution_count": null,
   "id": "6c10d563-c952-4648-be1f-7b5980d93995",
   "metadata": {},
   "outputs": [
    {
     "name": "stdout",
     "output_type": "stream",
     "text": [
      "🤷  The control plane node \"\" does not exist.\n",
      "👉  To start a cluster, run: \"minikube start\"\n"
     ]
    }
   ],
   "source": [
    "! minikube ssh curl 10.98.197.220"
   ]
  },
  {
   "cell_type": "code",
   "execution_count": null,
   "id": "babbeca5-c216-449d-b5b1-8071302b7d0e",
   "metadata": {},
   "outputs": [
    {
     "name": "stdout",
     "output_type": "stream",
     "text": [
      "apiVersion: v1\n",
      "kind: Service\n",
      "metadata:\n",
      "  creationTimestamp: \"2022-11-28T06:46:26Z\"\n",
      "  name: hostname\n",
      "  namespace: default\n",
      "  resourceVersion: \"1120\"\n",
      "  uid: 100a745d-95b8-4435-bc93-0390c5f26d1a\n",
      "spec:\n",
      "  clusterIP: 10.110.254.204\n",
      "  clusterIPs:\n",
      "  - 10.110.254.204\n",
      "  externalTrafficPolicy: Cluster\n",
      "  internalTrafficPolicy: Cluster\n",
      "  ipFamilies:\n",
      "  - IPv4\n",
      "  ipFamilyPolicy: SingleStack\n",
      "  ports:\n",
      "  - nodePort: 32201\n",
      "    port: 8080\n",
      "    protocol: TCP\n",
      "    targetPort: 8080\n",
      "  selector:\n",
      "    app: hostname\n",
      "  sessionAffinity: None\n",
      "  type: NodePort\n",
      "status:\n",
      "  loadBalancer: {}\n"
     ]
    }
   ],
   "source": [
    "! kubectl get service hostname -o yaml"
   ]
  },
  {
   "cell_type": "code",
   "execution_count": null,
   "id": "ca87de3b-996d-440a-a945-296fb795ed9e",
   "metadata": {},
   "outputs": [
    {
     "name": "stdout",
     "output_type": "stream",
     "text": [
      "service \"hostname\" deleted\n"
     ]
    }
   ],
   "source": [
    "! kubectl delete service/hostname"
   ]
  },
  {
   "cell_type": "code",
   "execution_count": null,
   "id": "78549f3f-506e-444d-82b0-5037e64e0cd1",
   "metadata": {},
   "outputs": [
    {
     "name": "stdout",
     "output_type": "stream",
     "text": [
      "Error from server (NotFound): services \"hostname\" not found\n"
     ]
    }
   ],
   "source": [
    "! kubectl get service hostname"
   ]
  },
  {
   "cell_type": "code",
   "execution_count": null,
   "id": "9c14969f-bfaf-44df-9c95-eb883fcc424d",
   "metadata": {
    "tags": []
   },
   "outputs": [
    {
     "name": "stdout",
     "output_type": "stream",
     "text": [
      "apiVersion: v1\n",
      "kind: Service\n",
      "metadata:\n",
      "  name: hostname\n",
      "spec:\n",
      "  ports:\n",
      "  - port: 8080\n",
      "    protocol: TCP\n",
      "    targetPort: 8080\n",
      "  selector:\n",
      "    app: hostname\n"
     ]
    }
   ],
   "source": [
    "! cat service.yaml"
   ]
  },
  {
   "cell_type": "code",
   "execution_count": null,
   "id": "22f32545-c40e-43b5-b70b-d088951d9bb5",
   "metadata": {},
   "outputs": [
    {
     "name": "stdout",
     "output_type": "stream",
     "text": [
      "service/hostname created\n"
     ]
    }
   ],
   "source": [
    "! kubectl apply -f service.yaml"
   ]
  },
  {
   "cell_type": "code",
   "execution_count": null,
   "id": "b69560d7-d355-4a1d-9fa8-08ab83877e6a",
   "metadata": {},
   "outputs": [
    {
     "name": "stdout",
     "output_type": "stream",
     "text": [
      "NAME       TYPE        CLUSTER-IP     EXTERNAL-IP   PORT(S)    AGE   SELECTOR\n",
      "hostname   ClusterIP   10.100.15.19   <none>        8080/TCP   2s    app=hostname\n"
     ]
    }
   ],
   "source": [
    "! kubectl get service hostname -o wide"
   ]
  },
  {
   "cell_type": "code",
   "execution_count": null,
   "id": "6e57841c-2a0a-4c1f-b414-adf11e6e14e8",
   "metadata": {},
   "outputs": [
    {
     "name": "stdout",
     "output_type": "stream",
     "text": [
      "NAME                        READY   STATUS    RESTARTS   AGE    IP           NODE       NOMINATED NODE   READINESS GATES\n",
      "hostname-85d476d6d4-pblrk   1/1     Running   0          119s   172.17.0.6   minikube   <none>           <none>\n"
     ]
    }
   ],
   "source": [
    "! kubectl get po -o wide "
   ]
  },
  {
   "cell_type": "code",
   "execution_count": null,
   "id": "eb7c8f3d-b539-4bf0-acf4-96036190f818",
   "metadata": {},
   "outputs": [
    {
     "name": "stdout",
     "output_type": "stream",
     "text": [
      "172.17.0.6\n"
     ]
    }
   ],
   "source": [
    "! kubectl get po -o=custom-columns='IP:.status.podIP' --no-headers"
   ]
  },
  {
   "cell_type": "code",
   "execution_count": null,
   "id": "1964c280-6053-4ab8-9193-53e20ad72b96",
   "metadata": {},
   "outputs": [
    {
     "name": "stdout",
     "output_type": "stream",
     "text": [
      "curl: (7) Failed to connect to 172.17.0.6 port 8080 after 3050 ms: No route to host\n"
     ]
    }
   ],
   "source": [
    "! curl $(kubectl get po -o=custom-columns='IP:.status.podIP' --no-headers):8080"
   ]
  },
  {
   "cell_type": "code",
   "execution_count": null,
   "id": "a5ee264f-5ce6-427f-9070-a49fa2d1fc1e",
   "metadata": {},
   "outputs": [
    {
     "name": "stdout",
     "output_type": "stream",
     "text": [
      "10.105.4.232\n"
     ]
    }
   ],
   "source": [
    "! kubectl get service hostname -o=custom-columns='IP:.spec.clusterIP' --no-headers"
   ]
  },
  {
   "cell_type": "code",
   "execution_count": null,
   "id": "1512aef5-ee7f-4007-af8d-1f4a8174f361",
   "metadata": {},
   "outputs": [
    {
     "name": "stdout",
     "output_type": "stream",
     "text": [
      "^C\n"
     ]
    }
   ],
   "source": [
    "! curl $(kubectl get service hostname -o=custom-columns='IP:.spec.clusterIP' --no-headers)"
   ]
  },
  {
   "cell_type": "code",
   "execution_count": null,
   "id": "51e93b26-f54a-4579-a0b4-648bbd0be780",
   "metadata": {},
   "outputs": [
    {
     "name": "stdout",
     "output_type": "stream",
     "text": [
      "^C\n"
     ]
    }
   ],
   "source": [
    "! curl 10.105.4.232:8080"
   ]
  },
  {
   "cell_type": "code",
   "execution_count": null,
   "id": "6457c90f-fae8-4325-9c92-f9eedfc7b4e7",
   "metadata": {},
   "outputs": [
    {
     "name": "stdout",
     "output_type": "stream",
     "text": [
      "No resources found\n",
      "No resources found\n",
      "service \"kubernetes\" deleted\n",
      "No resources found\n"
     ]
    }
   ],
   "source": [
    "! kubectl delete deploy --all\n",
    "! kubectl delete replicaset --all\n",
    "! kubectl delete service --all\n",
    "! kubectl delete pod --all"
   ]
  },
  {
   "cell_type": "code",
   "execution_count": null,
   "id": "f42d686c-7b9e-4132-b066-ba73e5c90516",
   "metadata": {},
   "outputs": [
    {
     "name": "stdout",
     "output_type": "stream",
     "text": [
      "NAME       ENDPOINTS         AGE\n",
      "hostname   172.17.0.2:8080   92s\n"
     ]
    }
   ],
   "source": [
    "! kubectl get endpoints hostname"
   ]
  },
  {
   "cell_type": "code",
   "execution_count": null,
   "id": "f0b1cb11-0ba5-4f5f-bdfc-ea83df6aeb1c",
   "metadata": {},
   "outputs": [],
   "source": [
    "! curl 172"
   ]
  },
  {
   "cell_type": "code",
   "execution_count": null,
   "id": "327ec995-467f-439b-908d-9774733d6ff0",
   "metadata": {},
   "outputs": [],
   "source": []
  }
 ],
 "metadata": {
  "kernelspec": {
   "display_name": "Python 3 (ipykernel)",
   "language": "python",
   "name": "python3"
  },
  "language_info": {
   "codemirror_mode": {
    "name": "ipython",
    "version": 3
   },
   "file_extension": ".py",
   "mimetype": "text/x-python",
   "name": "python",
   "nbconvert_exporter": "python",
   "pygments_lexer": "ipython3",
   "version": "3.10.6"
  }
 },
 "nbformat": 4,
 "nbformat_minor": 5
}
