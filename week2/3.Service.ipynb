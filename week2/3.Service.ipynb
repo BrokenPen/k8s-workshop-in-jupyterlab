{
 "cells": [
  {
   "cell_type": "markdown",
   "id": "9ec1c978-56f1-4240-98c0-0adfb21fe487",
   "metadata": {},
   "source": [
    "# Service\n",
    "\n",
    "Service 是將一組Pods的網絡端口公開的方法，\n",
    "\n",
    "Kubernetes為Pod提供提供一個cluster IP,並以Load Balancer方式提供服務。\n",
    "\n",
    "在之前的教學裡，我們使用port forwarding方式access Pods IP，\n",
    "可是Pods IP是會隨Pods的生命週期而銷毀、改變。\n",
    "\n",
    "我們無法知道下一次由ReplicaSet或Deployment建立的新的Pods的IP，\n",
    "所以需要借助Service，幫我們找出對應的endpoints\n"
   ]
  },
  {
   "cell_type": "code",
   "execution_count": 3,
   "id": "9a196b74-fba5-431e-a915-44dd87161e58",
   "metadata": {},
   "outputs": [
    {
     "name": "stdout",
     "output_type": "stream",
     "text": [
      "No resources found\n",
      "No resources found\n",
      "service \"kubernetes\" deleted\n",
      "No resources found\n"
     ]
    }
   ],
   "source": [
    "! kubectl delete deployment --all\n",
    "! kubectl delete replicaset --all\n",
    "! kubectl delete service --all\n",
    "! kubectl delete pods --all"
   ]
  },
  {
   "cell_type": "code",
   "execution_count": 2,
   "id": "753fa107-7910-4e17-85fc-2022e7139ab1",
   "metadata": {
    "tags": []
   },
   "outputs": [
    {
     "name": "stdout",
     "output_type": "stream",
     "text": [
      "KIND:     Service\n",
      "VERSION:  v1\n",
      "\n",
      "DESCRIPTION:\n",
      "     Service is a named abstraction of software service (for example, mysql)\n",
      "     consisting of local port (for example 3306) that the proxy listens on, and\n",
      "     the selector that determines which pods will answer requests sent through\n",
      "     the proxy.\n",
      "\n",
      "FIELDS:\n",
      "   apiVersion\t<string>\n",
      "     APIVersion defines the versioned schema of this representation of an\n",
      "     object. Servers should convert recognized schemas to the latest internal\n",
      "     value, and may reject unrecognized values. More info:\n",
      "     https://git.k8s.io/community/contributors/devel/sig-architecture/api-conventions.md#resources\n",
      "\n",
      "   kind\t<string>\n",
      "     Kind is a string value representing the REST resource this object\n",
      "     represents. Servers may infer this from the endpoint the client submits\n",
      "     requests to. Cannot be updated. In CamelCase. More info:\n",
      "     https://git.k8s.io/community/contributors/devel/sig-architecture/api-conventions.md#types-kinds\n",
      "\n",
      "   metadata\t<Object>\n",
      "     Standard object's metadata. More info:\n",
      "     https://git.k8s.io/community/contributors/devel/sig-architecture/api-conventions.md#metadata\n",
      "\n",
      "   spec\t<Object>\n",
      "     Spec defines the behavior of a service.\n",
      "     https://git.k8s.io/community/contributors/devel/sig-architecture/api-conventions.md#spec-and-status\n",
      "\n",
      "   status\t<Object>\n",
      "     Most recently observed status of the service. Populated by the system.\n",
      "     Read-only. More info:\n",
      "     https://git.k8s.io/community/contributors/devel/sig-architecture/api-conventions.md#spec-and-status\n",
      "\n"
     ]
    }
   ],
   "source": [
    "# ! kubectl explain RESOURCE\n",
    "! kubectl explain service"
   ]
  },
  {
   "cell_type": "code",
   "execution_count": null,
   "id": "ae04bc2a-0231-4502-bb8e-f00ee4a95782",
   "metadata": {
    "jupyter": {
     "source_hidden": true
    },
    "tags": []
   },
   "outputs": [],
   "source": [
    "! cat deployment.yaml"
   ]
  },
  {
   "cell_type": "code",
   "execution_count": 27,
   "id": "595e7bf0-dd0c-4aab-a3f3-6e9a27f65342",
   "metadata": {},
   "outputs": [
    {
     "name": "stdout",
     "output_type": "stream",
     "text": [
      "deployment.apps \"hostname\" deleted\n",
      "deployment.apps/hostname created\n"
     ]
    }
   ],
   "source": [
    "# 透過範例 deployment.yaml 建立一個deployment\n",
    "! kubectl delete -f deployment.yaml\n",
    "! kubectl apply -f deployment.yaml"
   ]
  },
  {
   "cell_type": "code",
   "execution_count": 28,
   "id": "a5504b40-d60d-4377-9669-37a9b3d2dc9e",
   "metadata": {},
   "outputs": [
    {
     "name": "stdout",
     "output_type": "stream",
     "text": [
      "NAME       READY   UP-TO-DATE   AVAILABLE   AGE   CONTAINERS   IMAGES                            SELECTOR\n",
      "hostname   1/1     1            1           7s    hostname     docker.io/brokenpen/hostname:v1   app=hostname\n"
     ]
    }
   ],
   "source": [
    "! kubectl get deployment -o wide"
   ]
  },
  {
   "cell_type": "code",
   "execution_count": 29,
   "id": "c9eb3b3e-5f64-4a93-86f1-6a519109bbc6",
   "metadata": {},
   "outputs": [
    {
     "name": "stdout",
     "output_type": "stream",
     "text": [
      "Error from server (AlreadyExists): services \"hostname\" already exists\n"
     ]
    }
   ],
   "source": [
    "! kubectl expose deployment/hostname --type=NodePort"
   ]
  },
  {
   "cell_type": "code",
   "execution_count": 30,
   "id": "09b9287a-9e4f-49f6-bed5-701aee350047",
   "metadata": {},
   "outputs": [
    {
     "name": "stdout",
     "output_type": "stream",
     "text": [
      "NAME       TYPE       CLUSTER-IP      EXTERNAL-IP   PORT(S)          AGE\n",
      "hostname   NodePort   10.107.81.175   <none>        8080:31066/TCP   5m38s\n"
     ]
    }
   ],
   "source": [
    "! kubectl get service hostname"
   ]
  },
  {
   "cell_type": "code",
   "execution_count": 13,
   "id": "66ca7b0c-dfee-48ca-9e55-8f6889ad0f21",
   "metadata": {},
   "outputs": [
    {
     "name": "stdout",
     "output_type": "stream",
     "text": [
      "NAME       TYPE       CLUSTER-IP      EXTERNAL-IP   PORT(S)          AGE   SELECTOR\n",
      "hostname   NodePort   10.107.81.175   <none>        8080:31066/TCP   36s   app=hostname\n"
     ]
    }
   ],
   "source": [
    "! kubectl get service hostname  -o wide"
   ]
  },
  {
   "cell_type": "code",
   "execution_count": 41,
   "id": "e1a2e91c-a9ca-4b13-abfd-93c9858eb324",
   "metadata": {},
   "outputs": [
    {
     "name": "stdout",
     "output_type": "stream",
     "text": [
      "service/hostname patched (no change)\n"
     ]
    }
   ],
   "source": [
    "# 可以透過 kubectl patch \n",
    "# 設定 externalIP\n",
    "# kubectl patch svc hostname -p '{\"spec\":{\"externalIPs\":[\"this-vm-ip\"]}}'\n",
    "! kubectl patch svc hostname -p '{\"spec\":{\"externalIPs\":[\"1.2.3.4\"]}}'"
   ]
  },
  {
   "cell_type": "code",
   "execution_count": 42,
   "id": "0889f956-2a8e-4c8c-8112-e0c621ecb143",
   "metadata": {},
   "outputs": [
    {
     "name": "stdout",
     "output_type": "stream",
     "text": [
      "NAME       TYPE       CLUSTER-IP      EXTERNAL-IP   PORT(S)          AGE   SELECTOR\n",
      "hostname   NodePort   10.107.81.175   1.2.3.4       8080:31066/TCP   12m   app=hostname\n"
     ]
    }
   ],
   "source": [
    "! kubectl get service hostname  -o wide"
   ]
  },
  {
   "cell_type": "code",
   "execution_count": 51,
   "id": "a1a90efa-2e3c-421b-aa2a-ae2cd1e5dacb",
   "metadata": {},
   "outputs": [
    {
     "name": "stdout",
     "output_type": "stream",
     "text": [
      "NAME                        READY   STATUS    RESTARTS   AGE   LABELS\n",
      "hostname-85d476d6d4-klrvs   1/1     Running   0          10m   app=hostname,pod-template-hash=85d476d6d4\n"
     ]
    }
   ],
   "source": [
    "! kubectl get pods --selector=app=hostname --show-labels"
   ]
  },
  {
   "cell_type": "code",
   "execution_count": 36,
   "id": "79f3ad4d-221f-4dec-91e9-b85e23b84c11",
   "metadata": {},
   "outputs": [],
   "source": [
    "# miinkube ssh\n",
    "# curl cluster-ip:8080\n",
    "# curl localhost:31066 "
   ]
  },
  {
   "cell_type": "code",
   "execution_count": 45,
   "id": "106c22d9-a7d3-4957-a383-2697428a23e1",
   "metadata": {},
   "outputs": [],
   "source": [
    "# kubectl edit service hostname"
   ]
  },
  {
   "cell_type": "code",
   "execution_count": 53,
   "id": "510d3244-06b5-4a25-b132-7853336965e7",
   "metadata": {},
   "outputs": [
    {
     "name": "stdout",
     "output_type": "stream",
     "text": [
      "NAME       ENDPOINTS         AGE\n",
      "hostname   172.17.0.5:8080   15m\n"
     ]
    }
   ],
   "source": [
    "# service 會負責建立endpoints,\n",
    "# endpoints 只有目前readys 的Pod IP\n",
    "! kubectl get endpoints hostname"
   ]
  },
  {
   "cell_type": "code",
   "execution_count": 55,
   "id": "47474409-0a6a-4e71-983f-2ff4054cce59",
   "metadata": {},
   "outputs": [
    {
     "name": "stdout",
     "output_type": "stream",
     "text": [
      "deployment.apps/hostname scaled\n",
      "\n",
      "\n",
      "NAME       ENDPOINTS                         AGE\n",
      "hostname   172.17.0.3:8080,172.17.0.5:8080   16m\n"
     ]
    }
   ],
   "source": [
    "! kubectl scale deploy/hostname --replicas=2; echo;\n",
    "! echo; sleep 5\n",
    "! kubectl get endpoints hostname"
   ]
  },
  {
   "cell_type": "code",
   "execution_count": 57,
   "id": "4711ed53-f2df-48f0-8f1d-b0855e921d79",
   "metadata": {},
   "outputs": [
    {
     "name": "stdout",
     "output_type": "stream",
     "text": [
      "NAME                        READY   STATUS    RESTARTS   AGE   IP           NODE       NOMINATED NODE   READINESS GATES\n",
      "hostname-85d476d6d4-klrvs   1/1     Running   0          10m   172.17.0.5   minikube   <none>           <none>\n",
      "hostname-85d476d6d4-z8kbg   1/1     Running   0          24s   172.17.0.3   minikube   <none>           <none>\n"
     ]
    }
   ],
   "source": [
    "! kubectl get pods --selector=app=hostname -o wide"
   ]
  },
  {
   "cell_type": "code",
   "execution_count": 58,
   "id": "88df847e-37a5-4981-8715-41a6a537524a",
   "metadata": {},
   "outputs": [
    {
     "name": "stdout",
     "output_type": "stream",
     "text": [
      "http://192.168.49.2:31066\n"
     ]
    }
   ],
   "source": [
    "# 透過 minikube service 嘗試 access url\n",
    "! minikube service hostname --url"
   ]
  },
  {
   "cell_type": "code",
   "execution_count": 61,
   "id": "5d645a53-2c60-44ff-81c4-6b95d759b119",
   "metadata": {},
   "outputs": [
    {
     "name": "stdout",
     "output_type": "stream",
     "text": [
      "You've hit hostname-85d476d6d4-z8kbg\n"
     ]
    }
   ],
   "source": [
    "! curl $(minikube service hostname --url)"
   ]
  },
  {
   "cell_type": "code",
   "execution_count": 65,
   "id": "44bafb76-97d1-4424-9ebe-e7a0f4b84d25",
   "metadata": {},
   "outputs": [
    {
     "name": "stdout",
     "output_type": "stream",
     "text": [
      "service \"hostname\" deleted\n",
      "service/hostname exposed\n"
     ]
    }
   ],
   "source": [
    "# 把目前的service刪掉\n",
    "! kubectl delete service hostname \n",
    "# 透過 kubectl 建立 Service， 但不知道 --type\n",
    "! kubectl expose deployment/hostname --port=8080 --target-port=8080"
   ]
  },
  {
   "cell_type": "code",
   "execution_count": 67,
   "id": "dbbd3e90-1fcd-458c-b946-4a4c5520285e",
   "metadata": {},
   "outputs": [
    {
     "name": "stdout",
     "output_type": "stream",
     "text": [
      "NAME       TYPE        CLUSTER-IP     EXTERNAL-IP   PORT(S)    AGE   SELECTOR\n",
      "hostname   ClusterIP   10.106.0.205   <none>        8080/TCP   41s   app=hostname\n"
     ]
    }
   ],
   "source": [
    "# Default type 為 ClusterIP\n",
    "# PORTS(s) 只有 cluster-ip \n",
    "! kubectl get service hostname -o wide"
   ]
  },
  {
   "cell_type": "code",
   "execution_count": 68,
   "id": "fe94ab98-060a-42b9-8221-0070007f2741",
   "metadata": {},
   "outputs": [
    {
     "name": "stdout",
     "output_type": "stream",
     "text": [
      "10.106.0.205\n"
     ]
    }
   ],
   "source": [
    "! kubectl get service hostname --no-headers -o custom-columns=\":spec.clusterIP\""
   ]
  },
  {
   "cell_type": "code",
   "execution_count": null,
   "id": "6c10d563-c952-4648-be1f-7b5980d93995",
   "metadata": {},
   "outputs": [
    {
     "name": "stdout",
     "output_type": "stream",
     "text": [
      "🤷  The control plane node \"\" does not exist.\n",
      "👉  To start a cluster, run: \"minikube start\"\n"
     ]
    }
   ],
   "source": [
    "# minikube ssh \n",
    "# curl cluster-ip"
   ]
  },
  {
   "cell_type": "code",
   "execution_count": 69,
   "id": "babbeca5-c216-449d-b5b1-8071302b7d0e",
   "metadata": {},
   "outputs": [
    {
     "name": "stdout",
     "output_type": "stream",
     "text": [
      "apiVersion: v1\n",
      "kind: Service\n",
      "metadata:\n",
      "  creationTimestamp: \"2022-11-28T18:08:11Z\"\n",
      "  name: hostname\n",
      "  namespace: default\n",
      "  resourceVersion: \"13384\"\n",
      "  uid: c03abc6d-0c13-4ab8-bb20-f0bcc722c5cb\n",
      "spec:\n",
      "  clusterIP: 10.106.0.205\n",
      "  clusterIPs:\n",
      "  - 10.106.0.205\n",
      "  internalTrafficPolicy: Cluster\n",
      "  ipFamilies:\n",
      "  - IPv4\n",
      "  ipFamilyPolicy: SingleStack\n",
      "  ports:\n",
      "  - port: 8080\n",
      "    protocol: TCP\n",
      "    targetPort: 8080\n",
      "  selector:\n",
      "    app: hostname\n",
      "  sessionAffinity: None\n",
      "  type: ClusterIP\n",
      "status:\n",
      "  loadBalancer: {}\n"
     ]
    }
   ],
   "source": [
    "# 取得目前 hostname service 的yaml 輸出\n",
    "! kubectl get service hostname -o yaml"
   ]
  },
  {
   "cell_type": "code",
   "execution_count": 70,
   "id": "ca87de3b-996d-440a-a945-296fb795ed9e",
   "metadata": {},
   "outputs": [
    {
     "name": "stdout",
     "output_type": "stream",
     "text": [
      "service \"hostname\" deleted\n"
     ]
    }
   ],
   "source": [
    "# 把 hostname 的 service 刪掉\n",
    "! kubectl delete service/hostname"
   ]
  },
  {
   "cell_type": "code",
   "execution_count": 73,
   "id": "78549f3f-506e-444d-82b0-5037e64e0cd1",
   "metadata": {},
   "outputs": [
    {
     "name": "stdout",
     "output_type": "stream",
     "text": [
      "Error from server (NotFound): services \"hostname\" not found\n"
     ]
    }
   ],
   "source": [
    "# 列明目前的 hostname service\n",
    "! kubectl get service hostname"
   ]
  },
  {
   "cell_type": "code",
   "execution_count": 75,
   "id": "93d59b33-bdcb-4215-b21b-aa2307a7bee7",
   "metadata": {},
   "outputs": [
    {
     "name": "stdout",
     "output_type": "stream",
     "text": [
      "W1128 18:10:33.101701  287378 helpers.go:663] --dry-run is deprecated and can be replaced with --dry-run=client.\n",
      "apiVersion: v1\n",
      "kind: Service\n",
      "metadata:\n",
      "  creationTimestamp: null\n",
      "  name: hostname\n",
      "spec:\n",
      "  ports:\n",
      "  - port: 8080\n",
      "    protocol: TCP\n",
      "    targetPort: 8080\n",
      "  selector:\n",
      "    app: hostname\n",
      "status:\n",
      "  loadBalancer: {}\n"
     ]
    }
   ],
   "source": [
    "# 透過 dry-run 輸出 yaml\n",
    "! kubectl expose deployment/hostname --port=8080 --target-port=8080 --dry-run -o yaml"
   ]
  },
  {
   "cell_type": "code",
   "execution_count": 72,
   "id": "9c14969f-bfaf-44df-9c95-eb883fcc424d",
   "metadata": {
    "tags": []
   },
   "outputs": [
    {
     "name": "stdout",
     "output_type": "stream",
     "text": [
      "apiVersion: v1\n",
      "kind: Service\n",
      "metadata:\n",
      "  name: hostname\n",
      "spec:\n",
      "  ports:\n",
      "  - port: 8080\n",
      "    protocol: TCP\n",
      "    targetPort: 8080\n",
      "  selector:\n",
      "    app: hostname\n"
     ]
    }
   ],
   "source": [
    "# 透過 service.yaml 範例建立 service\n",
    "! cat service.yaml"
   ]
  },
  {
   "cell_type": "code",
   "execution_count": 77,
   "id": "22f32545-c40e-43b5-b70b-d088951d9bb5",
   "metadata": {},
   "outputs": [
    {
     "name": "stdout",
     "output_type": "stream",
     "text": [
      "service/hostname created\n"
     ]
    }
   ],
   "source": [
    "! kubectl apply -f service.yaml"
   ]
  },
  {
   "cell_type": "code",
   "execution_count": 78,
   "id": "b69560d7-d355-4a1d-9fa8-08ab83877e6a",
   "metadata": {},
   "outputs": [
    {
     "name": "stdout",
     "output_type": "stream",
     "text": [
      "NAME       TYPE        CLUSTER-IP      EXTERNAL-IP   PORT(S)    AGE   SELECTOR\n",
      "hostname   ClusterIP   10.106.93.211   <none>        8080/TCP   1s    app=hostname\n"
     ]
    }
   ],
   "source": [
    "! kubectl get service hostname -o wide"
   ]
  },
  {
   "cell_type": "code",
   "execution_count": 79,
   "id": "6e57841c-2a0a-4c1f-b414-adf11e6e14e8",
   "metadata": {},
   "outputs": [
    {
     "name": "stdout",
     "output_type": "stream",
     "text": [
      "NAME                        READY   STATUS    RESTARTS   AGE     IP           NODE       NOMINATED NODE   READINESS GATES\n",
      "hostname-85d476d6d4-klrvs   1/1     Running   0          16m     172.17.0.5   minikube   <none>           <none>\n",
      "hostname-85d476d6d4-z8kbg   1/1     Running   0          6m27s   172.17.0.3   minikube   <none>           <none>\n"
     ]
    }
   ],
   "source": [
    "! kubectl get po -o wide "
   ]
  },
  {
   "cell_type": "code",
   "execution_count": 80,
   "id": "eb7c8f3d-b539-4bf0-acf4-96036190f818",
   "metadata": {},
   "outputs": [
    {
     "name": "stdout",
     "output_type": "stream",
     "text": [
      "172.17.0.5\n",
      "172.17.0.3\n"
     ]
    }
   ],
   "source": [
    "! kubectl get po -o=custom-columns='IP:.status.podIP' --no-headers"
   ]
  },
  {
   "cell_type": "code",
   "execution_count": 81,
   "id": "1964c280-6053-4ab8-9193-53e20ad72b96",
   "metadata": {},
   "outputs": [
    {
     "name": "stdout",
     "output_type": "stream",
     "text": [
      "curl: (7) Failed to connect to 172.17.0.5 port 80 after 3071 ms: No route to host\n",
      "curl: (7) Failed to connect to 172.17.0.3 port 8080 after 3075 ms: No route to host\n"
     ]
    }
   ],
   "source": [
    "# minikube ssh\n",
    "# curl 172.17.0.5\n",
    "# curl 172.17.0.3"
   ]
  },
  {
   "cell_type": "code",
   "execution_count": 87,
   "id": "a5ee264f-5ce6-427f-9070-a49fa2d1fc1e",
   "metadata": {},
   "outputs": [
    {
     "name": "stdout",
     "output_type": "stream",
     "text": [
      "CLUSTER-IP: 10.106.93.211\n"
     ]
    }
   ],
   "source": [
    "! echo CLUSTER-IP: $(kubectl get service hostname -o=custom-columns='IP:.spec.clusterIP' --no-headers)"
   ]
  },
  {
   "cell_type": "code",
   "execution_count": 83,
   "id": "1512aef5-ee7f-4007-af8d-1f4a8174f361",
   "metadata": {},
   "outputs": [
    {
     "name": "stdout",
     "output_type": "stream",
     "text": [
      "^C\n"
     ]
    }
   ],
   "source": [
    "# minikube ssh \n",
    "# curl cluster-ip:8080"
   ]
  },
  {
   "cell_type": "code",
   "execution_count": 88,
   "id": "6457c90f-fae8-4325-9c92-f9eedfc7b4e7",
   "metadata": {},
   "outputs": [
    {
     "name": "stdout",
     "output_type": "stream",
     "text": [
      "deployment.apps \"hostname\" deleted\n",
      "No resources found\n",
      "service \"hostname\" deleted\n",
      "service \"kubernetes\" deleted\n",
      "pod \"hostname-85d476d6d4-klrvs\" deleted\n",
      "pod \"hostname-85d476d6d4-z8kbg\" deleted\n"
     ]
    }
   ],
   "source": [
    "! kubectl delete deploy --all\n",
    "! kubectl delete replicaset --all\n",
    "! kubectl delete service --all\n",
    "! kubectl delete pod --all"
   ]
  }
 ],
 "metadata": {
  "kernelspec": {
   "display_name": "Python 3 (ipykernel)",
   "language": "python",
   "name": "python3"
  },
  "language_info": {
   "codemirror_mode": {
    "name": "ipython",
    "version": 3
   },
   "file_extension": ".py",
   "mimetype": "text/x-python",
   "name": "python",
   "nbconvert_exporter": "python",
   "pygments_lexer": "ipython3",
   "version": "3.10.6"
  }
 },
 "nbformat": 4,
 "nbformat_minor": 5
}
