{
 "cells": [
  {
   "cell_type": "markdown",
   "id": "9df1354e-94f6-467d-993a-d592d8d1ad71",
   "metadata": {
    "tags": []
   },
   "source": [
    "# Replica Set\n",
    "\n",
    "A [ReplicaSet](https://kubernetes.io/docs/concepts/workloads/controllers/replicaset/)'s purpose is to maintain a stable set of replica Pods running at any given time.\n",
    "\n",
    "ReplicaSet的目的是讓Pods副本在任何時間都能維持同一狀態\n",
    "\n",
    "> 在minikube的環境下，access Cluster IP或是 access Pod IP的時候要用 minikube ssh, nodeIP 着不需要 minikubessh"
   ]
  },
  {
   "cell_type": "code",
   "execution_count": null,
   "id": "d2a85539-c9ba-4665-9462-169685087fdd",
   "metadata": {},
   "outputs": [
    {
     "data": {
      "text/html": [
       "<img src=\"./img/replicaset.jpg\" width=\"300\" height=\"300\"/>"
      ],
      "text/plain": [
       "<IPython.core.display.Image object>"
      ]
     },
     "execution_count": 42,
     "metadata": {},
     "output_type": "execute_result"
    }
   ],
   "source": [
    "from IPython.display import Image\n",
    "Image(url=\"./img/replicaset.jpg\", width=300, height=300)"
   ]
  },
  {
   "cell_type": "markdown",
   "id": "55711693-ad62-46f8-a1a6-558ca3f3bd15",
   "metadata": {
    "tags": []
   },
   "source": [
    "## 什麼時候用ReplicaSet\n",
    "\n",
    "A ReplicaSet ensures that a sepecified nubmer of pod replicas are running at any given time, it is suitable for Stateless application.\n",
    "\n",
    "ReplicaSet可以保持指定數量的Pods副本在任何時間繼續運行.\n",
    "\n",
    "## 什麼是無狀態應用 Stateless\n",
    "\n",
    "Stateless 是指這個應用服務或功能，不因任何狀態而改變回傳的資料。\n",
    "- eg: 沒有資料庫的static web\n",
    "\n",
    "## 什麼是有狀態應用  StateFul\n",
    "\n",
    "Stateful 則與 Stateless 相反，會因狀態而改變回傳的資料，像是Request的次數。\n",
    "- eg: 有資料庫的 wordpress\n",
    "\n",
    "## Replica Set\n",
    "\n",
    "而ReplicaSet 正適合與建立stateless服務，因爲Pod在消滅後再建立的話，是不保存之前的狀態的。\n",
    "\n",
    "ReplicaSet:\n",
    "- 管理一群Pods\n",
    "- 透過 Selector 選擇那些Pod 需要進行管理\n",
    "- 每個 ReplicaSet 可以根據需求建立或刪除Pod使得副本達到期望值\n",
    "- 利用template建立Container\n"
   ]
  },
  {
   "cell_type": "code",
   "execution_count": 101,
   "id": "412a5206-e6e3-426b-ad17-d692a10f0eb6",
   "metadata": {},
   "outputs": [
    {
     "name": "stdout",
     "output_type": "stream",
     "text": [
      "NAME       STATUS   ROLES           AGE   VERSION\n",
      "minikube   Ready    control-plane   53m   v1.25.3\n"
     ]
    }
   ],
   "source": [
    "# 確保你的minikube有啟動\n",
    "! [[ -z $(kubectl get nodes) ]] && minikube start \n",
    "# 列印目前k8s節點\n",
    "! kubectl get nodes                    "
   ]
  },
  {
   "cell_type": "code",
   "execution_count": 102,
   "id": "a79c2db9-2248-4c19-a9b8-135f8fde3a46",
   "metadata": {},
   "outputs": [
    {
     "name": "stdout",
     "output_type": "stream",
     "text": [
      "apiVersion: apps/v1\n",
      "kind: ReplicaSet\n",
      "metadata:\n",
      "  name: hostname\n",
      "  labels:\n",
      "    app: hostname\n",
      "spec:\n",
      "  # modify replicas according to your case\n",
      "  replicas: 3\n",
      "  selector:\n",
      "    matchLabels:\n",
      "      tier: frontend\n",
      "  template:\n",
      "    metadata:\n",
      "      labels:\n",
      "        tier: frontend\n",
      "    spec:\n",
      "      containers:\n",
      "      - name: hostname\n",
      "        image: docker.io/brokenpen/hostname:v1"
     ]
    }
   ],
   "source": [
    "! cat replicaset.yaml             "
   ]
  },
  {
   "cell_type": "markdown",
   "id": "21faefd1-022c-465b-8a04-288d5f34e514",
   "metadata": {},
   "source": [
    "- yaml\n",
    "  - apiVersion\n",
    "  - kind\n",
    "  - metadata\n",
    "  - spec\n",
    "     - replicas # 指定要維持多少分replica\n",
    "     - selector # \n",
    "     - template # container template"
   ]
  },
  {
   "cell_type": "code",
   "execution_count": 103,
   "id": "f62d30b9-a450-4174-942a-3ed5ecac64e5",
   "metadata": {},
   "outputs": [
    {
     "name": "stdout",
     "output_type": "stream",
     "text": [
      "replicaset.apps/hostname unchanged\n"
     ]
    }
   ],
   "source": [
    "# 透過yaml 建立 replicaSet\n",
    "! kubectl apply -f replicaset.yaml            # k apply -f replicaset.yaml"
   ]
  },
  {
   "cell_type": "code",
   "execution_count": 107,
   "id": "0a8ea92c-67a0-41fd-815c-8be1452fd1ab",
   "metadata": {},
   "outputs": [
    {
     "name": "stdout",
     "output_type": "stream",
     "text": [
      "NAME       DESIRED   CURRENT   READY   AGE\n",
      "hostname   3         3         3       15m\n"
     ]
    }
   ],
   "source": [
    "# 列印目前 replicaset \n",
    "! kubectl get replicaset"
   ]
  },
  {
   "cell_type": "markdown",
   "id": "9f29ecd1-abfd-4f1e-b71f-582e61239245",
   "metadata": {},
   "source": [
    "` kubectl get replicaset `\n",
    "- `NAME` ReplicaSet 的名稱\n",
    "- `DESIRED` 目標 Replica 數量\n",
    "- `CURRENT` 目前 Replica 數量\n",
    "- `READY` 當前 Ready的 Replica 數量\n",
    "---\n"
   ]
  },
  {
   "cell_type": "code",
   "execution_count": 110,
   "id": "e03728cd-5174-42f6-8556-eb8bdcc64242",
   "metadata": {},
   "outputs": [
    {
     "name": "stdout",
     "output_type": "stream",
     "text": [
      "NAME       DESIRED   CURRENT   READY   AGE   LABELS\n",
      "hostname   3         3         3       16m   app=hostname\n"
     ]
    }
   ],
   "source": [
    "# 列印目前 rs(replicaset) 並且顯示 Labels\n",
    "! kubectl get rs --show-labels"
   ]
  },
  {
   "cell_type": "code",
   "execution_count": 111,
   "id": "b6e2479b-cdc7-4bd5-885d-024ac9123c9c",
   "metadata": {},
   "outputs": [
    {
     "name": "stdout",
     "output_type": "stream",
     "text": [
      "NAME             READY   STATUS    RESTARTS   AGE   IP           NODE       NOMINATED NODE   READINESS GATES   LABELS\n",
      "hostname-5wdst   1/1     Running   0          16m   172.17.0.3   minikube   <none>           <none>            tier=frontend\n",
      "hostname-74c7b   1/1     Running   0          16m   172.17.0.5   minikube   <none>           <none>            tier=frontend\n",
      "hostname-dp5xn   1/1     Running   0          16m   172.17.0.4   minikube   <none>           <none>            tier=frontend\n"
     ]
    }
   ],
   "source": [
    "# 列印目前 labels 有標註 tier:frontend 的 Pods\n",
    "! kubectl get pods --selector=tier=frontend --show-labels -o wide"
   ]
  },
  {
   "cell_type": "code",
   "execution_count": 113,
   "id": "f7e1695b-9656-40d3-9ef0-51dd51da62c7",
   "metadata": {},
   "outputs": [
    {
     "name": "stdout",
     "output_type": "stream",
     "text": [
      "172.17.0.3\n",
      "172.17.0.5\n",
      "172.17.0.4\n"
     ]
    }
   ],
   "source": [
    "! kubectl get pods \\\n",
    "  --selector=tier=frontend \\\n",
    "  --no-headers \\\n",
    "  -o custom-columns=\":status.podIP\""
   ]
  },
  {
   "cell_type": "code",
   "execution_count": null,
   "id": "3e31c6a6-c7a4-4d96-b72b-a8084abe3149",
   "metadata": {},
   "outputs": [
    {
     "name": "stdout",
     "output_type": "stream",
     "text": [
      "curl: (7) Failed to connect to 172.17.0.3 port 8080 after 3062 ms: No route to host\n"
     ]
    }
   ],
   "source": [
    "# Ctrl+Shift+L\n",
    "# minikube ssh\n",
    "# ! curl 172.17.0.3:8080"
   ]
  },
  {
   "cell_type": "code",
   "execution_count": null,
   "id": "62eaea87-f7e9-4aee-8dab-c8943082e27e",
   "metadata": {},
   "outputs": [
    {
     "name": "stdout",
     "output_type": "stream",
     "text": [
      "NAME             READY   STATUS    RESTARTS   AGE    LABELS\n",
      "hostname-tfndl   1/1     Running   0          3m4s   tier=frontend\n",
      "hostname-x6bx8   1/1     Running   0          3m4s   tier=frontend\n",
      "hostname-z57gd   1/1     Running   0          3m4s   tier=frontend\n"
     ]
    }
   ],
   "source": [
    "# 列印目前 Pods 和其Labels\n",
    "! kubectl get pods --show-labels"
   ]
  },
  {
   "cell_type": "code",
   "execution_count": null,
   "id": "d8c7cb95-a690-4f1b-b577-ae70662ecb85",
   "metadata": {},
   "outputs": [
    {
     "name": "stdout",
     "output_type": "stream",
     "text": [
      "hostname-tfndl\n",
      "hostname-x6bx8\n",
      "hostname-z57gd\n"
     ]
    }
   ],
   "source": [
    "! kubectl get pods \\\n",
    "  --selector=tier=frontend \\\n",
    "  --no-headers \\\n",
    "  -o custom-columns=\":metadata.name\""
   ]
  },
  {
   "cell_type": "code",
   "execution_count": null,
   "id": "4b9c3920-72a0-4bd1-9723-72de64c2d2ee",
   "metadata": {},
   "outputs": [
    {
     "name": "stdout",
     "output_type": "stream",
     "text": [
      "pod \"hostname-tfndl\" deleted\n",
      "pod \"hostname-x6bx8\" deleted\n",
      "pod \"hostname-z57gd\" deleted\n",
      "^C\n",
      "\n",
      "NAME             READY   STATUS        RESTARTS   AGE\n",
      "hostname-82cwq   1/1     Running       0          11s\n",
      "hostname-dffcp   1/1     Running       0          11s\n",
      "hostname-tfndl   1/1     Terminating   0          3m22s\n",
      "hostname-thpsr   1/1     Running       0          11s\n",
      "hostname-x6bx8   1/1     Terminating   0          3m22s\n",
      "hostname-z57gd   1/1     Terminating   0          3m22s\n"
     ]
    }
   ],
   "source": [
    "! kubectl delete pods --selector=tier=frontend \n",
    "! echo \n",
    "! kubectl get pods --selector=tier=frontend "
   ]
  },
  {
   "cell_type": "code",
   "execution_count": null,
   "id": "845c3803-8931-4ece-a866-8f1ab1d160ef",
   "metadata": {},
   "outputs": [
    {
     "name": "stdout",
     "output_type": "stream",
     "text": [
      "NAME             READY   STATUS        RESTARTS   AGE\n",
      "hostname-82cwq   1/1     Running       0          11s\n",
      "hostname-dffcp   1/1     Running       0          11s\n",
      "hostname-tfndl   1/1     Terminating   0          3m22s\n",
      "hostname-thpsr   1/1     Running       0          11s\n",
      "hostname-x6bx8   1/1     Terminating   0          3m22s\n",
      "hostname-z57gd   1/1     Terminating   0          3m22s\n"
     ]
    }
   ],
   "source": [
    "! kubectl get pods --selector=tier=frontend "
   ]
  },
  {
   "cell_type": "code",
   "execution_count": null,
   "id": "6c230968-9a25-462b-ac93-f3c947e404b8",
   "metadata": {
    "tags": []
   },
   "outputs": [
    {
     "name": "stdout",
     "output_type": "stream",
     "text": [
      "Set a new size for a deployment, replica set, replication controller, or\n",
      "stateful set.\n",
      "\n",
      " Scale also allows users to specify one or more preconditions for the scale\n",
      "action.\n",
      "\n",
      " If --current-replicas or --resource-version is specified, it is validated\n",
      "before the scale is attempted, and it is guaranteed that the precondition holds\n",
      "true when the scale is sent to the server.\n",
      "\n",
      "Examples:\n",
      "  # Scale a replica set named 'foo' to 3\n",
      "  kubectl scale --replicas=3 rs/foo\n",
      "  \n",
      "  # Scale a resource identified by type and name specified in \"foo.yaml\" to 3\n",
      "  kubectl scale --replicas=3 -f foo.yaml\n",
      "  \n",
      "  # If the deployment named mysql's current size is 2, scale mysql to 3\n",
      "  kubectl scale --current-replicas=2 --replicas=3 deployment/mysql\n",
      "  \n",
      "  # Scale multiple replication controllers\n",
      "  kubectl scale --replicas=5 rc/foo rc/bar rc/baz\n",
      "  \n",
      "  # Scale stateful set named 'web' to 3\n",
      "  kubectl scale --replicas=3 statefulset/web\n",
      "\n",
      "Options:\n",
      "    --all=false:\n",
      "\tSelect all resources in the namespace of the specified resource types\n",
      "\n",
      "    --allow-missing-template-keys=true:\n",
      "\tIf true, ignore any errors in templates when a field or map key is\n",
      "\tmissing in the template. Only applies to golang and jsonpath output\n",
      "\tformats.\n",
      "\n",
      "    --current-replicas=-1:\n",
      "\tPrecondition for current size. Requires that the current size of the\n",
      "\tresource match this value in order to scale. -1 (default) for no\n",
      "\tcondition.\n",
      "\n",
      "    --dry-run='none':\n",
      "\tMust be \"none\", \"server\", or \"client\". If client strategy, only print\n",
      "\tthe object that would be sent, without sending it. If server strategy,\n",
      "\tsubmit server-side request without persisting the resource.\n",
      "\n",
      "    -f, --filename=[]:\n",
      "\tFilename, directory, or URL to files identifying the resource to set a\n",
      "\tnew size\n",
      "\n",
      "    -k, --kustomize='':\n",
      "\tProcess the kustomization directory. This flag can't be used together\n",
      "\twith -f or -R.\n",
      "\n",
      "    -o, --output='':\n",
      "\tOutput format. One of: (json, yaml, name, go-template,\n",
      "\tgo-template-file, template, templatefile, jsonpath, jsonpath-as-json,\n",
      "\tjsonpath-file).\n",
      "\n",
      "    -R, --recursive=false:\n",
      "\tProcess the directory used in -f, --filename recursively. Useful when\n",
      "\tyou want to manage related manifests organized within the same\n",
      "\tdirectory.\n",
      "\n",
      "    --replicas=0:\n",
      "\tThe new desired number of replicas. Required.\n",
      "\n",
      "    --resource-version='':\n",
      "\tPrecondition for resource version. Requires that the current resource\n",
      "\tversion match this value in order to scale.\n",
      "\n",
      "    -l, --selector='':\n",
      "\tSelector (label query) to filter on, supports '=', '==', and\n",
      "\t'!='.(e.g. -l key1=value1,key2=value2). Matching objects must satisfy\n",
      "\tall of the specified label constraints.\n",
      "\n",
      "    --show-managed-fields=false:\n",
      "\tIf true, keep the managedFields when printing objects in JSON or YAML\n",
      "\tformat.\n",
      "\n",
      "    --template='':\n",
      "\tTemplate string or path to template file to use when -o=go-template,\n",
      "\t-o=go-template-file. The template format is golang templates\n",
      "\t[http://golang.org/pkg/text/template/#pkg-overview].\n",
      "\n",
      "    --timeout=0s:\n",
      "\tThe length of time to wait before giving up on a scale operation, zero\n",
      "\tmeans don't wait. Any other values should contain a corresponding time\n",
      "\tunit (e.g. 1s, 2m, 3h).\n",
      "\n",
      "Usage:\n",
      "  kubectl scale [--resource-version=version] [--current-replicas=count]\n",
      "--replicas=COUNT (-f FILENAME | TYPE NAME) [options]\n",
      "\n",
      "Use \"kubectl options\" for a list of global command-line options (applies to all\n",
      "commands).\n"
     ]
    }
   ],
   "source": [
    "! kubectl scale --help"
   ]
  },
  {
   "cell_type": "code",
   "execution_count": null,
   "id": "391165cf-3f70-4f7b-80cb-f5d8c180f705",
   "metadata": {},
   "outputs": [
    {
     "name": "stdout",
     "output_type": "stream",
     "text": [
      "replicaset.apps/hostname scaled\n"
     ]
    }
   ],
   "source": [
    "! kubectl scale --replicas=5 replicaset hostname"
   ]
  },
  {
   "cell_type": "code",
   "execution_count": null,
   "id": "55623895-610e-45cc-ba2c-9b115c9157da",
   "metadata": {},
   "outputs": [
    {
     "name": "stdout",
     "output_type": "stream",
     "text": [
      "NAME             READY   STATUS              RESTARTS   AGE\n",
      "hostname-4fj9q   0/1     ContainerCreating   0          2s\n",
      "hostname-6lf94   0/1     ContainerCreating   0          2s\n",
      "hostname-82cwq   1/1     Running             0          2m43s\n",
      "hostname-dffcp   1/1     Running             0          2m43s\n",
      "hostname-thpsr   1/1     Running             0          2m43s\n"
     ]
    }
   ],
   "source": [
    "! kubectl get pods --selector=tier=frontend "
   ]
  },
  {
   "cell_type": "code",
   "execution_count": null,
   "id": "1b32cad5-3312-4873-8775-b2af6c867f21",
   "metadata": {},
   "outputs": [
    {
     "name": "stdout",
     "output_type": "stream",
     "text": [
      "replicaset.apps/hostname scaled\n",
      "NAME             READY   STATUS        RESTARTS   AGE\n",
      "hostname-4fj9q   1/1     Terminating   0          8s\n",
      "hostname-6lf94   1/1     Running       0          8s\n",
      "hostname-82cwq   1/1     Running       0          2m49s\n",
      "hostname-dffcp   1/1     Running       0          2m49s\n",
      "hostname-thpsr   1/1     Running       0          2m49s\n"
     ]
    }
   ],
   "source": [
    "! kubectl scale --replicas=4 replicaset hostname\n",
    "! kubectl get pods --selector=tier=frontend "
   ]
  },
  {
   "cell_type": "code",
   "execution_count": null,
   "id": "132d7334-5b46-49b8-8821-a6f7f66ad1b5",
   "metadata": {},
   "outputs": [
    {
     "name": "stdout",
     "output_type": "stream",
     "text": [
      "replicaset.apps/hostname scaled\n",
      "NAME             READY   STATUS        RESTARTS   AGE\n",
      "hostname-4fj9q   1/1     Terminating   0          25s\n",
      "hostname-6lf94   1/1     Terminating   0          25s\n",
      "hostname-82cwq   1/1     Running       0          3m6s\n",
      "hostname-dffcp   1/1     Terminating   0          3m6s\n",
      "hostname-thpsr   1/1     Running       0          3m6s\n"
     ]
    }
   ],
   "source": [
    "! kubectl scale --replicas=2 replicaset hostname\n",
    "! kubectl get pods --selector=tier=frontend "
   ]
  },
  {
   "cell_type": "code",
   "execution_count": null,
   "id": "9dae6a1b-ea6e-4651-9631-04a3ed457cf7",
   "metadata": {},
   "outputs": [
    {
     "name": "stdout",
     "output_type": "stream",
     "text": [
      "horizontalpodautoscaler.autoscaling/hostname autoscaled\n"
     ]
    }
   ],
   "source": [
    "! kubectl autoscale rs hostname --max=10 --min=2 --cpu-percent=50"
   ]
  },
  {
   "cell_type": "code",
   "execution_count": null,
   "id": "a168a266-9e41-48f1-aefd-af01d60dc742",
   "metadata": {},
   "outputs": [
    {
     "name": "stdout",
     "output_type": "stream",
     "text": [
      "NAME             READY   STATUS        RESTARTS   AGE\n",
      "hostname-4fj9q   1/1     Terminating   0          38s\n",
      "hostname-6lf94   1/1     Terminating   0          38s\n",
      "hostname-82cwq   1/1     Running       0          3m19s\n",
      "hostname-dffcp   1/1     Terminating   0          3m19s\n",
      "hostname-thpsr   1/1     Running       0          3m19s\n"
     ]
    }
   ],
   "source": [
    "! kubectl get pods --selector=tier=frontend "
   ]
  },
  {
   "cell_type": "code",
   "execution_count": null,
   "id": "ff60ba7d-9579-41ad-9e5c-750b6ad14cd1",
   "metadata": {},
   "outputs": [
    {
     "name": "stdout",
     "output_type": "stream",
     "text": [
      "replicaset.apps \"frontend\" deleted\n",
      "replicaset.apps \"hostname\" deleted\n",
      "replicaset.apps \"hostname-deployment-6c545dc44c\" deleted\n"
     ]
    }
   ],
   "source": [
    "# 刪除所有 replicaset \n",
    "! kubectl delete replicaset --all"
   ]
  },
  {
   "cell_type": "code",
   "execution_count": null,
   "id": "6ebc2f6f-93f8-49d8-bd04-821a386d684a",
   "metadata": {},
   "outputs": [],
   "source": []
  },
  {
   "cell_type": "code",
   "execution_count": null,
   "id": "c2c99dd9-78ae-4d09-9507-42f5fd2aaf64",
   "metadata": {},
   "outputs": [],
   "source": []
  }
 ],
 "metadata": {
  "kernelspec": {
   "display_name": "Python 3 (ipykernel)",
   "language": "python",
   "name": "python3"
  },
  "language_info": {
   "codemirror_mode": {
    "name": "ipython",
    "version": 3
   },
   "file_extension": ".py",
   "mimetype": "text/x-python",
   "name": "python",
   "nbconvert_exporter": "python",
   "pygments_lexer": "ipython3",
   "version": "3.10.6"
  }
 },
 "nbformat": 4,
 "nbformat_minor": 5
}
