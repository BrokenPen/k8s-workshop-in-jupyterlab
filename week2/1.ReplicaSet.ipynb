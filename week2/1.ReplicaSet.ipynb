{
 "cells": [
  {
   "cell_type": "markdown",
   "id": "9df1354e-94f6-467d-993a-d592d8d1ad71",
   "metadata": {
    "tags": []
   },
   "source": [
    "# Replica Set\n",
    "\n",
    "A [ReplicaSet](https://kubernetes.io/docs/concepts/workloads/controllers/replicaset/)'s purpose is to maintain a stable set of replica Pods running at any given time.\n",
    "\n",
    "ReplicaSet的目的是讓Pods副本在任何時間都能維持同一狀態\n",
    "\n",
    "> 在minikube的環境下，access Cluster IP或是 access Pod IP的時候要用 minikube ssh, nodeIP 着不需要 minikubessh"
   ]
  },
  {
   "cell_type": "code",
   "execution_count": null,
   "id": "d2a85539-c9ba-4665-9462-169685087fdd",
   "metadata": {},
   "outputs": [
    {
     "data": {
      "text/html": [
       "<img src=\"./img/replicaset.jpg\" width=\"300\" height=\"300\"/>"
      ],
      "text/plain": [
       "<IPython.core.display.Image object>"
      ]
     },
     "execution_count": 42,
     "metadata": {},
     "output_type": "execute_result"
    }
   ],
   "source": [
    "from IPython.display import Image\n",
    "Image(url=\"./img/replicaset.jpg\", width=300, height=300)"
   ]
  },
  {
   "cell_type": "markdown",
   "id": "55711693-ad62-46f8-a1a6-558ca3f3bd15",
   "metadata": {
    "tags": []
   },
   "source": [
    "## 什麼時候用ReplicaSet\n",
    "\n",
    "A ReplicaSet ensures that a sepecified nubmer of pod replicas are running at any given time, it is suitable for Stateless application.\n",
    "\n",
    "ReplicaSet可以保持指定數量的Pods副本在任何時間繼續運行.\n",
    "\n",
    "## 什麼是無狀態應用 Stateless\n",
    "\n",
    "Stateless 是指這個應用服務或功能，不因任何狀態而改變回傳的資料。\n",
    "- eg: 沒有資料庫的static web\n",
    "\n",
    "## 什麼是有狀態應用  StateFul\n",
    "\n",
    "Stateful 則與 Stateless 相反，會因狀態而改變回傳的資料，像是Request的次數。\n",
    "- eg: 有資料庫的 wordpress\n",
    "\n",
    "## Replica Set\n",
    "\n",
    "而ReplicaSet 正適合與建立stateless服務，因爲Pod在消滅後再建立的話，是不保存之前的狀態的。\n",
    "\n",
    "ReplicaSet:\n",
    "- 管理一群Pods\n",
    "- 透過 Selector 選擇那些Pod 需要進行管理\n",
    "- 每個 ReplicaSet 可以根據需求建立或刪除Pod使得副本達到期望值\n",
    "- 利用template建立Container\n"
   ]
  },
  {
   "cell_type": "code",
   "execution_count": 116,
   "id": "412a5206-e6e3-426b-ad17-d692a10f0eb6",
   "metadata": {},
   "outputs": [
    {
     "name": "stdout",
     "output_type": "stream",
     "text": [
      "NAME       STATUS   ROLES           AGE   VERSION\n",
      "minikube   Ready    control-plane   8h    v1.25.3\n"
     ]
    }
   ],
   "source": [
    "# 確保你的minikube有啟動\n",
    "! [[ -z $(kubectl get nodes) ]] && minikube start \n",
    "# 列印目前k8s節點\n",
    "! kubectl get nodes                    "
   ]
  },
  {
   "cell_type": "code",
   "execution_count": 134,
   "id": "4737bae4-3342-4afa-b6f7-da9e3f01c6a1",
   "metadata": {
    "collapsed": true,
    "jupyter": {
     "outputs_hidden": true
    },
    "tags": []
   },
   "outputs": [
    {
     "name": "stdout",
     "output_type": "stream",
     "text": [
      "KIND:     ReplicaSet\n",
      "VERSION:  apps/v1\n",
      "\n",
      "DESCRIPTION:\n",
      "     ReplicaSet ensures that a specified number of pod replicas are running at\n",
      "     any given time.\n",
      "\n",
      "FIELDS:\n",
      "   apiVersion\t<string>\n",
      "     APIVersion defines the versioned schema of this representation of an\n",
      "     object. Servers should convert recognized schemas to the latest internal\n",
      "     value, and may reject unrecognized values. More info:\n",
      "     https://git.k8s.io/community/contributors/devel/sig-architecture/api-conventions.md#resources\n",
      "\n",
      "   kind\t<string>\n",
      "     Kind is a string value representing the REST resource this object\n",
      "     represents. Servers may infer this from the endpoint the client submits\n",
      "     requests to. Cannot be updated. In CamelCase. More info:\n",
      "     https://git.k8s.io/community/contributors/devel/sig-architecture/api-conventions.md#types-kinds\n",
      "\n",
      "   metadata\t<Object>\n",
      "     If the Labels of a ReplicaSet are empty, they are defaulted to be the same\n",
      "     as the Pod(s) that the ReplicaSet manages. Standard object's metadata. More\n",
      "     info:\n",
      "     https://git.k8s.io/community/contributors/devel/sig-architecture/api-conventions.md#metadata\n",
      "\n",
      "   spec\t<Object>\n",
      "     Spec defines the specification of the desired behavior of the ReplicaSet.\n",
      "     More info:\n",
      "     https://git.k8s.io/community/contributors/devel/sig-architecture/api-conventions.md#spec-and-status\n",
      "\n",
      "   status\t<Object>\n",
      "     Status is the most recently observed status of the ReplicaSet. This data\n",
      "     may be out of date by some window of time. Populated by the system.\n",
      "     Read-only. More info:\n",
      "     https://git.k8s.io/community/contributors/devel/sig-architecture/api-conventions.md#spec-and-status\n",
      "\n"
     ]
    }
   ],
   "source": [
    "# Get the documentation of the resource and its fields\n",
    "! kubectl explain replicaset"
   ]
  },
  {
   "cell_type": "code",
   "execution_count": 136,
   "id": "f2bde633-05b8-47a1-b5fd-08fade58413b",
   "metadata": {
    "collapsed": true,
    "jupyter": {
     "outputs_hidden": true
    },
    "tags": []
   },
   "outputs": [
    {
     "name": "stdout",
     "output_type": "stream",
     "text": [
      "KIND:     ReplicaSet\n",
      "VERSION:  apps/v1\n",
      "\n",
      "FIELD:    replicas <integer>\n",
      "\n",
      "DESCRIPTION:\n",
      "     Replicas is the number of desired replicas. This is a pointer to\n",
      "     distinguish between explicit zero and unspecified. Defaults to 1. More\n",
      "     info:\n",
      "     https://kubernetes.io/docs/concepts/workloads/controllers/replicationcontroller/#what-is-a-replicationcontroller\n"
     ]
    }
   ],
   "source": [
    "# Get the documentation of a specific field of a resource\n",
    "! kubectl explain replicaset.spec.replicas"
   ]
  },
  {
   "cell_type": "code",
   "execution_count": 137,
   "id": "967b9cc8-cbaa-423c-bbc1-cdd09be77060",
   "metadata": {
    "collapsed": true,
    "jupyter": {
     "outputs_hidden": true
    },
    "tags": []
   },
   "outputs": [
    {
     "name": "stdout",
     "output_type": "stream",
     "text": [
      "KIND:     ReplicaSet\n",
      "VERSION:  apps/v1\n",
      "\n",
      "RESOURCE: selector <Object>\n",
      "\n",
      "DESCRIPTION:\n",
      "     Selector is a label query over pods that should match the replica count.\n",
      "     Label keys and values that must match in order to be controlled by this\n",
      "     replica set. It must match the pod template's labels. More info:\n",
      "     https://kubernetes.io/docs/concepts/overview/working-with-objects/labels/#label-selectors\n",
      "\n",
      "     A label selector is a label query over a set of resources. The result of\n",
      "     matchLabels and matchExpressions are ANDed. An empty label selector matches\n",
      "     all objects. A null label selector matches no objects.\n",
      "\n",
      "FIELDS:\n",
      "   matchExpressions\t<[]Object>\n",
      "     matchExpressions is a list of label selector requirements. The requirements\n",
      "     are ANDed.\n",
      "\n",
      "   matchLabels\t<map[string]string>\n",
      "     matchLabels is a map of {key,value} pairs. A single {key,value} in the\n",
      "     matchLabels map is equivalent to an element of matchExpressions, whose key\n",
      "     field is \"key\", the operator is \"In\", and the values array contains only\n",
      "     \"value\". The requirements are ANDed.\n",
      "\n"
     ]
    }
   ],
   "source": [
    "# Get the documentation of a specific field of a resource\n",
    "! kubectl explain replicaset.spec.selector"
   ]
  },
  {
   "cell_type": "code",
   "execution_count": 135,
   "id": "a7e2626f-27fa-498f-b33f-6a5d23a2cf96",
   "metadata": {
    "collapsed": true,
    "jupyter": {
     "outputs_hidden": true
    },
    "tags": []
   },
   "outputs": [
    {
     "name": "stdout",
     "output_type": "stream",
     "text": [
      "KIND:     ReplicaSet\n",
      "VERSION:  apps/v1\n",
      "\n",
      "RESOURCE: template <Object>\n",
      "\n",
      "DESCRIPTION:\n",
      "     Template is the object that describes the pod that will be created if\n",
      "     insufficient replicas are detected. More info:\n",
      "     https://kubernetes.io/docs/concepts/workloads/controllers/replicationcontroller#pod-template\n",
      "\n",
      "     PodTemplateSpec describes the data a pod should have when created from a\n",
      "     template\n",
      "\n",
      "FIELDS:\n",
      "   metadata\t<Object>\n",
      "     Standard object's metadata. More info:\n",
      "     https://git.k8s.io/community/contributors/devel/sig-architecture/api-conventions.md#metadata\n",
      "\n",
      "   spec\t<Object>\n",
      "     Specification of the desired behavior of the pod. More info:\n",
      "     https://git.k8s.io/community/contributors/devel/sig-architecture/api-conventions.md#spec-and-status\n",
      "\n"
     ]
    }
   ],
   "source": [
    "# Get the documentation of a specific field of a resource\n",
    "! kubectl explain replicaset.spec.template"
   ]
  },
  {
   "cell_type": "code",
   "execution_count": 140,
   "id": "5951f5aa-30d0-44da-8ad0-afb285ebeeb4",
   "metadata": {
    "collapsed": true,
    "jupyter": {
     "outputs_hidden": true
    },
    "tags": []
   },
   "outputs": [
    {
     "name": "stdout",
     "output_type": "stream",
     "text": [
      "KIND:     ReplicaSet\n",
      "VERSION:  apps/v1\n",
      "\n",
      "RESOURCE: containers <[]Object>\n",
      "\n",
      "DESCRIPTION:\n",
      "     List of containers belonging to the pod. Containers cannot currently be\n",
      "     added or removed. There must be at least one container in a Pod. Cannot be\n",
      "     updated.\n",
      "\n",
      "     A single application container that you want to run within a pod.\n",
      "\n",
      "FIELDS:\n",
      "   args\t<[]string>\n",
      "     Arguments to the entrypoint. The container image's CMD is used if this is\n",
      "     not provided. Variable references $(VAR_NAME) are expanded using the\n",
      "     container's environment. If a variable cannot be resolved, the reference in\n",
      "     the input string will be unchanged. Double $$ are reduced to a single $,\n",
      "     which allows for escaping the $(VAR_NAME) syntax: i.e. \"$$(VAR_NAME)\" will\n",
      "     produce the string literal \"$(VAR_NAME)\". Escaped references will never be\n",
      "     expanded, regardless of whether the variable exists or not. Cannot be\n",
      "     updated. More info:\n",
      "     https://kubernetes.io/docs/tasks/inject-data-application/define-command-argument-container/#running-a-command-in-a-shell\n",
      "\n",
      "   command\t<[]string>\n",
      "     Entrypoint array. Not executed within a shell. The container image's\n",
      "     ENTRYPOINT is used if this is not provided. Variable references $(VAR_NAME)\n",
      "     are expanded using the container's environment. If a variable cannot be\n",
      "     resolved, the reference in the input string will be unchanged. Double $$\n",
      "     are reduced to a single $, which allows for escaping the $(VAR_NAME)\n",
      "     syntax: i.e. \"$$(VAR_NAME)\" will produce the string literal \"$(VAR_NAME)\".\n",
      "     Escaped references will never be expanded, regardless of whether the\n",
      "     variable exists or not. Cannot be updated. More info:\n",
      "     https://kubernetes.io/docs/tasks/inject-data-application/define-command-argument-container/#running-a-command-in-a-shell\n",
      "\n",
      "   env\t<[]Object>\n",
      "     List of environment variables to set in the container. Cannot be updated.\n",
      "\n",
      "   envFrom\t<[]Object>\n",
      "     List of sources to populate environment variables in the container. The\n",
      "     keys defined within a source must be a C_IDENTIFIER. All invalid keys will\n",
      "     be reported as an event when the container is starting. When a key exists\n",
      "     in multiple sources, the value associated with the last source will take\n",
      "     precedence. Values defined by an Env with a duplicate key will take\n",
      "     precedence. Cannot be updated.\n",
      "\n",
      "   image\t<string>\n",
      "     Container image name. More info:\n",
      "     https://kubernetes.io/docs/concepts/containers/images This field is\n",
      "     optional to allow higher level config management to default or override\n",
      "     container images in workload controllers like Deployments and StatefulSets.\n",
      "\n",
      "   imagePullPolicy\t<string>\n",
      "     Image pull policy. One of Always, Never, IfNotPresent. Defaults to Always\n",
      "     if :latest tag is specified, or IfNotPresent otherwise. Cannot be updated.\n",
      "     More info:\n",
      "     https://kubernetes.io/docs/concepts/containers/images#updating-images\n",
      "\n",
      "     Possible enum values:\n",
      "     - `\"Always\"` means that kubelet always attempts to pull the latest image.\n",
      "     Container will fail If the pull fails.\n",
      "     - `\"IfNotPresent\"` means that kubelet pulls if the image isn't present on\n",
      "     disk. Container will fail if the image isn't present and the pull fails.\n",
      "     - `\"Never\"` means that kubelet never pulls an image, but only uses a local\n",
      "     image. Container will fail if the image isn't present\n",
      "\n",
      "   lifecycle\t<Object>\n",
      "     Actions that the management system should take in response to container\n",
      "     lifecycle events. Cannot be updated.\n",
      "\n",
      "   livenessProbe\t<Object>\n",
      "     Periodic probe of container liveness. Container will be restarted if the\n",
      "     probe fails. Cannot be updated. More info:\n",
      "     https://kubernetes.io/docs/concepts/workloads/pods/pod-lifecycle#container-probes\n",
      "\n",
      "   name\t<string> -required-\n",
      "     Name of the container specified as a DNS_LABEL. Each container in a pod\n",
      "     must have a unique name (DNS_LABEL). Cannot be updated.\n",
      "\n",
      "   ports\t<[]Object>\n",
      "     List of ports to expose from the container. Not specifying a port here DOES\n",
      "     NOT prevent that port from being exposed. Any port which is listening on\n",
      "     the default \"0.0.0.0\" address inside a container will be accessible from\n",
      "     the network. Modifying this array with strategic merge patch may corrupt\n",
      "     the data. For more information See\n",
      "     https://github.com/kubernetes/kubernetes/issues/108255. Cannot be updated.\n",
      "\n",
      "   readinessProbe\t<Object>\n",
      "     Periodic probe of container service readiness. Container will be removed\n",
      "     from service endpoints if the probe fails. Cannot be updated. More info:\n",
      "     https://kubernetes.io/docs/concepts/workloads/pods/pod-lifecycle#container-probes\n",
      "\n",
      "   resources\t<Object>\n",
      "     Compute Resources required by this container. Cannot be updated. More info:\n",
      "     https://kubernetes.io/docs/concepts/configuration/manage-resources-containers/\n",
      "\n",
      "   securityContext\t<Object>\n",
      "     SecurityContext defines the security options the container should be run\n",
      "     with. If set, the fields of SecurityContext override the equivalent fields\n",
      "     of PodSecurityContext. More info:\n",
      "     https://kubernetes.io/docs/tasks/configure-pod-container/security-context/\n",
      "\n",
      "   startupProbe\t<Object>\n",
      "     StartupProbe indicates that the Pod has successfully initialized. If\n",
      "     specified, no other probes are executed until this completes successfully.\n",
      "     If this probe fails, the Pod will be restarted, just as if the\n",
      "     livenessProbe failed. This can be used to provide different probe\n",
      "     parameters at the beginning of a Pod's lifecycle, when it might take a long\n",
      "     time to load data or warm a cache, than during steady-state operation. This\n",
      "     cannot be updated. More info:\n",
      "     https://kubernetes.io/docs/concepts/workloads/pods/pod-lifecycle#container-probes\n",
      "\n",
      "   stdin\t<boolean>\n",
      "     Whether this container should allocate a buffer for stdin in the container\n",
      "     runtime. If this is not set, reads from stdin in the container will always\n",
      "     result in EOF. Default is false.\n",
      "\n",
      "   stdinOnce\t<boolean>\n",
      "     Whether the container runtime should close the stdin channel after it has\n",
      "     been opened by a single attach. When stdin is true the stdin stream will\n",
      "     remain open across multiple attach sessions. If stdinOnce is set to true,\n",
      "     stdin is opened on container start, is empty until the first client\n",
      "     attaches to stdin, and then remains open and accepts data until the client\n",
      "     disconnects, at which time stdin is closed and remains closed until the\n",
      "     container is restarted. If this flag is false, a container processes that\n",
      "     reads from stdin will never receive an EOF. Default is false\n",
      "\n",
      "   terminationMessagePath\t<string>\n",
      "     Optional: Path at which the file to which the container's termination\n",
      "     message will be written is mounted into the container's filesystem. Message\n",
      "     written is intended to be brief final status, such as an assertion failure\n",
      "     message. Will be truncated by the node if greater than 4096 bytes. The\n",
      "     total message length across all containers will be limited to 12kb.\n",
      "     Defaults to /dev/termination-log. Cannot be updated.\n",
      "\n",
      "   terminationMessagePolicy\t<string>\n",
      "     Indicate how the termination message should be populated. File will use the\n",
      "     contents of terminationMessagePath to populate the container status message\n",
      "     on both success and failure. FallbackToLogsOnError will use the last chunk\n",
      "     of container log output if the termination message file is empty and the\n",
      "     container exited with an error. The log output is limited to 2048 bytes or\n",
      "     80 lines, whichever is smaller. Defaults to File. Cannot be updated.\n",
      "\n",
      "     Possible enum values:\n",
      "     - `\"FallbackToLogsOnError\"` will read the most recent contents of the\n",
      "     container logs for the container status message when the container exits\n",
      "     with an error and the terminationMessagePath has no contents.\n",
      "     - `\"File\"` is the default behavior and will set the container status\n",
      "     message to the contents of the container's terminationMessagePath when the\n",
      "     container exits.\n",
      "\n",
      "   tty\t<boolean>\n",
      "     Whether this container should allocate a TTY for itself, also requires\n",
      "     'stdin' to be true. Default is false.\n",
      "\n",
      "   volumeDevices\t<[]Object>\n",
      "     volumeDevices is the list of block devices to be used by the container.\n",
      "\n",
      "   volumeMounts\t<[]Object>\n",
      "     Pod volumes to mount into the container's filesystem. Cannot be updated.\n",
      "\n",
      "   workingDir\t<string>\n",
      "     Container's working directory. If not specified, the container runtime's\n",
      "     default will be used, which might be configured in the container image.\n",
      "     Cannot be updated.\n",
      "\n"
     ]
    }
   ],
   "source": [
    "# Get the documentation of a specific field of a resource\n",
    "! kubectl explain replicaset.spec.template.spec.containers"
   ]
  },
  {
   "cell_type": "code",
   "execution_count": 115,
   "id": "a79c2db9-2248-4c19-a9b8-135f8fde3a46",
   "metadata": {
    "collapsed": true,
    "jupyter": {
     "outputs_hidden": true
    },
    "tags": []
   },
   "outputs": [
    {
     "name": "stdout",
     "output_type": "stream",
     "text": [
      "apiVersion: apps/v1\n",
      "kind: ReplicaSet\n",
      "metadata:\n",
      "  name: hostname\n",
      "  labels:\n",
      "    app: hostname\n",
      "spec:\n",
      "  # modify replicas according to your case\n",
      "  replicas: 3\n",
      "  selector:\n",
      "    matchLabels:\n",
      "      tier: frontend\n",
      "  template:\n",
      "    metadata:\n",
      "      labels:\n",
      "        tier: frontend\n",
      "    spec:\n",
      "      containers:\n",
      "      - name: hostname\n",
      "        image: docker.io/brokenpen/hostname:v1"
     ]
    }
   ],
   "source": [
    "# 所使用的範例replicaset.yaml\n",
    "! cat replicaset.yaml             "
   ]
  },
  {
   "cell_type": "markdown",
   "id": "21faefd1-022c-465b-8a04-288d5f34e514",
   "metadata": {
    "jupyter": {
     "source_hidden": true
    },
    "tags": []
   },
   "source": [
    "- yaml\n",
    "  - apiVersion\n",
    "  - kind\n",
    "  - metadata\n",
    "  - spec\n",
    "     - replicas # 指定要維持多少分replica\n",
    "     - selector # 選擇器，根據 Pod 的 Labels\n",
    "     - template # container template"
   ]
  },
  {
   "cell_type": "code",
   "execution_count": 117,
   "id": "f62d30b9-a450-4174-942a-3ed5ecac64e5",
   "metadata": {},
   "outputs": [
    {
     "name": "stdout",
     "output_type": "stream",
     "text": [
      "replicaset.apps/hostname unchanged\n"
     ]
    }
   ],
   "source": [
    "# 透過yaml 建立 replicaSet\n",
    "! kubectl apply -f replicaset.yaml            # k apply -f replicaset.yaml"
   ]
  },
  {
   "cell_type": "code",
   "execution_count": 118,
   "id": "0a8ea92c-67a0-41fd-815c-8be1452fd1ab",
   "metadata": {},
   "outputs": [
    {
     "name": "stdout",
     "output_type": "stream",
     "text": [
      "NAME       DESIRED   CURRENT   READY   AGE\n",
      "hostname   3         3         3       8h\n"
     ]
    }
   ],
   "source": [
    "# 列印目前 replicaset \n",
    "! kubectl get replicaset"
   ]
  },
  {
   "cell_type": "markdown",
   "id": "9f29ecd1-abfd-4f1e-b71f-582e61239245",
   "metadata": {},
   "source": [
    "` kubectl get replicaset `\n",
    "- `NAME` ReplicaSet 的名稱\n",
    "- `DESIRED` 目標 Replica 數量\n",
    "- `CURRENT` 目前 Replica 數量\n",
    "- `READY` 當前 Ready的 Replica 數量\n",
    "---\n"
   ]
  },
  {
   "cell_type": "code",
   "execution_count": 120,
   "id": "e03728cd-5174-42f6-8556-eb8bdcc64242",
   "metadata": {},
   "outputs": [
    {
     "name": "stdout",
     "output_type": "stream",
     "text": [
      "NAME       DESIRED   CURRENT   READY   AGE   LABELS\n",
      "hostname   3         3         3       8h    app=hostname\n"
     ]
    }
   ],
   "source": [
    "# 列印目前 rs(replicaset) 並且顯示 Labels\n",
    "! kubectl get rs --show-labels"
   ]
  },
  {
   "cell_type": "code",
   "execution_count": 121,
   "id": "b6e2479b-cdc7-4bd5-885d-024ac9123c9c",
   "metadata": {
    "tags": []
   },
   "outputs": [
    {
     "name": "stdout",
     "output_type": "stream",
     "text": [
      "NAME             READY   STATUS    RESTARTS   AGE   IP           NODE       NOMINATED NODE   READINESS GATES   LABELS\n",
      "hostname-5wdst   1/1     Running   0          8h    172.17.0.3   minikube   <none>           <none>            tier=frontend\n",
      "hostname-74c7b   1/1     Running   0          8h    172.17.0.5   minikube   <none>           <none>            tier=frontend\n",
      "hostname-dp5xn   1/1     Running   0          8h    172.17.0.4   minikube   <none>           <none>            tier=frontend\n"
     ]
    }
   ],
   "source": [
    "# 列印目前 labels 有標註 tier:frontend 的 Pods\n",
    "! kubectl get pods --selector=tier=frontend --show-labels -o wide"
   ]
  },
  {
   "cell_type": "code",
   "execution_count": 113,
   "id": "f7e1695b-9656-40d3-9ef0-51dd51da62c7",
   "metadata": {},
   "outputs": [
    {
     "name": "stdout",
     "output_type": "stream",
     "text": [
      "172.17.0.3\n",
      "172.17.0.5\n",
      "172.17.0.4\n"
     ]
    }
   ],
   "source": [
    "! kubectl get pods \\\n",
    "  --selector=tier=frontend \\\n",
    "  --no-headers \\\n",
    "  -o custom-columns=\":status.podIP\""
   ]
  },
  {
   "cell_type": "code",
   "execution_count": null,
   "id": "3e31c6a6-c7a4-4d96-b72b-a8084abe3149",
   "metadata": {},
   "outputs": [
    {
     "name": "stdout",
     "output_type": "stream",
     "text": [
      "curl: (7) Failed to connect to 172.17.0.3 port 8080 after 3062 ms: No route to host\n"
     ]
    }
   ],
   "source": [
    "# Ctrl+Shift+L\n",
    "# minikube ssh\n",
    "# ! curl 172.17.0.3:8080"
   ]
  },
  {
   "cell_type": "code",
   "execution_count": null,
   "id": "62eaea87-f7e9-4aee-8dab-c8943082e27e",
   "metadata": {},
   "outputs": [
    {
     "name": "stdout",
     "output_type": "stream",
     "text": [
      "NAME             READY   STATUS    RESTARTS   AGE    LABELS\n",
      "hostname-tfndl   1/1     Running   0          3m4s   tier=frontend\n",
      "hostname-x6bx8   1/1     Running   0          3m4s   tier=frontend\n",
      "hostname-z57gd   1/1     Running   0          3m4s   tier=frontend\n"
     ]
    }
   ],
   "source": [
    "# 列印目前 Pods 和其Labels\n",
    "! kubectl get pods --show-labels"
   ]
  },
  {
   "cell_type": "code",
   "execution_count": 122,
   "id": "d8c7cb95-a690-4f1b-b577-ae70662ecb85",
   "metadata": {},
   "outputs": [
    {
     "name": "stdout",
     "output_type": "stream",
     "text": [
      "hostname-5wdst\n",
      "hostname-74c7b\n",
      "hostname-dp5xn\n"
     ]
    }
   ],
   "source": [
    "! kubectl get pods \\\n",
    "  --selector=tier=frontend \\\n",
    "  --no-headers \\\n",
    "  -o custom-columns=\":metadata.name\""
   ]
  },
  {
   "cell_type": "code",
   "execution_count": 126,
   "id": "4b9c3920-72a0-4bd1-9723-72de64c2d2ee",
   "metadata": {},
   "outputs": [
    {
     "name": "stdout",
     "output_type": "stream",
     "text": [
      "pod \"hostname-6lz97\" deleted\n",
      "pod \"hostname-7qbgr\" deleted\n",
      "pod \"hostname-8st87\" deleted\n",
      "pod \"hostname-94nh4\" deleted\n",
      "pod \"hostname-c5j2h\" deleted\n",
      "pod \"hostname-thwf8\" deleted\n",
      "\n",
      "NAME             READY   STATUS    RESTARTS   AGE\n",
      "hostname-b72mq   1/1     Running   0          32s\n",
      "hostname-gch2c   1/1     Running   0          32s\n",
      "hostname-lfhhr   1/1     Running   0          32s\n",
      "\n"
     ]
    }
   ],
   "source": [
    "! kubectl delete pods --selector=tier=frontend\n",
    "! echo;\n",
    "! kubectl get pods --selector=tier=frontend\n",
    "! echo;"
   ]
  },
  {
   "cell_type": "code",
   "execution_count": null,
   "id": "845c3803-8931-4ece-a866-8f1ab1d160ef",
   "metadata": {},
   "outputs": [
    {
     "name": "stdout",
     "output_type": "stream",
     "text": [
      "NAME             READY   STATUS        RESTARTS   AGE\n",
      "hostname-82cwq   1/1     Running       0          11s\n",
      "hostname-dffcp   1/1     Running       0          11s\n",
      "hostname-tfndl   1/1     Terminating   0          3m22s\n",
      "hostname-thpsr   1/1     Running       0          11s\n",
      "hostname-x6bx8   1/1     Terminating   0          3m22s\n",
      "hostname-z57gd   1/1     Terminating   0          3m22s\n"
     ]
    }
   ],
   "source": [
    "! kubectl get pods --selector=tier=frontend "
   ]
  },
  {
   "cell_type": "code",
   "execution_count": 129,
   "id": "6c230968-9a25-462b-ac93-f3c947e404b8",
   "metadata": {
    "collapsed": true,
    "jupyter": {
     "outputs_hidden": true
    },
    "tags": []
   },
   "outputs": [
    {
     "name": "stdout",
     "output_type": "stream",
     "text": [
      "Set a new size for a deployment, replica set, replication controller, or\n",
      "stateful set.\n",
      "\n",
      " Scale also allows users to specify one or more preconditions for the scale\n",
      "action.\n",
      "\n",
      " If --current-replicas or --resource-version is specified, it is validated\n",
      "before the scale is attempted, and it is guaranteed that the precondition holds\n",
      "true when the scale is sent to the server.\n",
      "\n",
      "Examples:\n",
      "  # Scale a replica set named 'foo' to 3\n",
      "  kubectl scale --replicas=3 rs/foo\n",
      "  \n",
      "  # Scale a resource identified by type and name specified in \"foo.yaml\" to 3\n",
      "  kubectl scale --replicas=3 -f foo.yaml\n",
      "  \n",
      "  # If the deployment named mysql's current size is 2, scale mysql to 3\n",
      "  kubectl scale --current-replicas=2 --replicas=3 deployment/mysql\n",
      "  \n",
      "  # Scale multiple replication controllers\n",
      "  kubectl scale --replicas=5 rc/foo rc/bar rc/baz\n",
      "  \n",
      "  # Scale stateful set named 'web' to 3\n",
      "  kubectl scale --replicas=3 statefulset/web\n",
      "\n",
      "Options:\n",
      "    --all=false:\n",
      "\tSelect all resources in the namespace of the specified resource types\n",
      "\n",
      "    --allow-missing-template-keys=true:\n",
      "\tIf true, ignore any errors in templates when a field or map key is\n",
      "\tmissing in the template. Only applies to golang and jsonpath output\n",
      "\tformats.\n",
      "\n",
      "    --current-replicas=-1:\n",
      "\tPrecondition for current size. Requires that the current size of the\n",
      "\tresource match this value in order to scale. -1 (default) for no\n",
      "\tcondition.\n",
      "\n",
      "    --dry-run='none':\n",
      "\tMust be \"none\", \"server\", or \"client\". If client strategy, only print\n",
      "\tthe object that would be sent, without sending it. If server strategy,\n",
      "\tsubmit server-side request without persisting the resource.\n",
      "\n",
      "    -f, --filename=[]:\n",
      "\tFilename, directory, or URL to files identifying the resource to set a\n",
      "\tnew size\n",
      "\n",
      "    -k, --kustomize='':\n",
      "\tProcess the kustomization directory. This flag can't be used together\n",
      "\twith -f or -R.\n",
      "\n",
      "    -o, --output='':\n",
      "\tOutput format. One of: (json, yaml, name, go-template,\n",
      "\tgo-template-file, template, templatefile, jsonpath, jsonpath-as-json,\n",
      "\tjsonpath-file).\n",
      "\n",
      "    -R, --recursive=false:\n",
      "\tProcess the directory used in -f, --filename recursively. Useful when\n",
      "\tyou want to manage related manifests organized within the same\n",
      "\tdirectory.\n",
      "\n",
      "    --replicas=0:\n",
      "\tThe new desired number of replicas. Required.\n",
      "\n",
      "    --resource-version='':\n",
      "\tPrecondition for resource version. Requires that the current resource\n",
      "\tversion match this value in order to scale.\n",
      "\n",
      "    -l, --selector='':\n",
      "\tSelector (label query) to filter on, supports '=', '==', and\n",
      "\t'!='.(e.g. -l key1=value1,key2=value2). Matching objects must satisfy\n",
      "\tall of the specified label constraints.\n",
      "\n",
      "    --show-managed-fields=false:\n",
      "\tIf true, keep the managedFields when printing objects in JSON or YAML\n",
      "\tformat.\n",
      "\n",
      "    --template='':\n",
      "\tTemplate string or path to template file to use when -o=go-template,\n",
      "\t-o=go-template-file. The template format is golang templates\n",
      "\t[http://golang.org/pkg/text/template/#pkg-overview].\n",
      "\n",
      "    --timeout=0s:\n",
      "\tThe length of time to wait before giving up on a scale operation, zero\n",
      "\tmeans don't wait. Any other values should contain a corresponding time\n",
      "\tunit (e.g. 1s, 2m, 3h).\n",
      "\n",
      "Usage:\n",
      "  kubectl scale [--resource-version=version] [--current-replicas=count]\n",
      "--replicas=COUNT (-f FILENAME | TYPE NAME) [options]\n",
      "\n",
      "Use \"kubectl options\" for a list of global command-line options (applies to all\n",
      "commands).\n"
     ]
    }
   ],
   "source": [
    "! kubectl scale --help"
   ]
  },
  {
   "cell_type": "code",
   "execution_count": 143,
   "id": "391165cf-3f70-4f7b-80cb-f5d8c180f705",
   "metadata": {
    "tags": []
   },
   "outputs": [
    {
     "name": "stdout",
     "output_type": "stream",
     "text": [
      "replicaset.apps/hostname scaled\n"
     ]
    }
   ],
   "source": [
    "! kubectl scale --replicas=5 replicaset hostname"
   ]
  },
  {
   "cell_type": "code",
   "execution_count": 144,
   "id": "55623895-610e-45cc-ba2c-9b115c9157da",
   "metadata": {},
   "outputs": [
    {
     "name": "stdout",
     "output_type": "stream",
     "text": [
      "NAME             READY   STATUS    RESTARTS   AGE\n",
      "hostname-b72mq   1/1     Running   0          12m\n",
      "hostname-c4r4j   1/1     Running   0          11s\n",
      "hostname-gch2c   1/1     Running   0          12m\n",
      "hostname-knvqw   1/1     Running   0          11s\n",
      "hostname-lfhhr   1/1     Running   0          12m\n"
     ]
    }
   ],
   "source": [
    "! kubectl get pods --selector=tier=frontend "
   ]
  },
  {
   "cell_type": "code",
   "execution_count": 145,
   "id": "1b32cad5-3312-4873-8775-b2af6c867f21",
   "metadata": {},
   "outputs": [
    {
     "name": "stdout",
     "output_type": "stream",
     "text": [
      "replicaset.apps/hostname scaled\n",
      "NAME             READY   STATUS        RESTARTS   AGE\n",
      "hostname-b72mq   1/1     Running       0          12m\n",
      "hostname-c4r4j   1/1     Running       0          16s\n",
      "hostname-gch2c   1/1     Running       0          12m\n",
      "hostname-knvqw   1/1     Terminating   0          16s\n",
      "hostname-lfhhr   1/1     Running       0          12m\n"
     ]
    }
   ],
   "source": [
    "! kubectl scale --replicas=4 replicaset hostname\n",
    "! kubectl get pods --selector=tier=frontend "
   ]
  },
  {
   "cell_type": "code",
   "execution_count": 146,
   "id": "132d7334-5b46-49b8-8821-a6f7f66ad1b5",
   "metadata": {},
   "outputs": [
    {
     "name": "stdout",
     "output_type": "stream",
     "text": [
      "replicaset.apps/hostname scaled\n",
      "NAME             READY   STATUS        RESTARTS   AGE\n",
      "hostname-b72mq   1/1     Running       0          12m\n",
      "hostname-c4r4j   1/1     Terminating   0          25s\n",
      "hostname-gch2c   1/1     Terminating   0          12m\n",
      "hostname-knvqw   1/1     Terminating   0          25s\n",
      "hostname-lfhhr   1/1     Running       0          12m\n"
     ]
    }
   ],
   "source": [
    "! kubectl scale --replicas=2 replicaset hostname\n",
    "! kubectl get pods --selector=tier=frontend "
   ]
  },
  {
   "cell_type": "code",
   "execution_count": null,
   "id": "ca712095-e28f-440c-a826-41ecc3557be1",
   "metadata": {},
   "outputs": [],
   "source": [
    "#"
   ]
  },
  {
   "cell_type": "code",
   "execution_count": 149,
   "id": "9dae6a1b-ea6e-4651-9631-04a3ed457cf7",
   "metadata": {},
   "outputs": [
    {
     "name": "stdout",
     "output_type": "stream",
     "text": [
      "Error from server (AlreadyExists): horizontalpodautoscalers.autoscaling \"hostname\" already exists\n"
     ]
    }
   ],
   "source": [
    "# Autoscale\n",
    "! kubectl autoscale rs hostname --max=10 --min=2 --cpu-percent=100"
   ]
  },
  {
   "cell_type": "code",
   "execution_count": 192,
   "id": "d36bbeb2-75d1-4eea-b13e-18520e7acb08",
   "metadata": {},
   "outputs": [
    {
     "name": "stdout",
     "output_type": "stream",
     "text": [
      "NAME       REFERENCE             TARGETS         MINPODS   MAXPODS   REPLICAS   AGE\n",
      "hostname   ReplicaSet/hostname   <unknown>/50%   4         10        2          34s\n"
     ]
    }
   ],
   "source": [
    "# 可是 minikube 好像是捉不到targets 的 實際 cpu-percent \n",
    "# 所以在我們的workshop裡面，沒有用\n",
    "! kubectl get HorizontalPodAutoscaler"
   ]
  },
  {
   "cell_type": "code",
   "execution_count": 193,
   "id": "357b600e-c135-4c30-9835-9d11f6697ddc",
   "metadata": {},
   "outputs": [
    {
     "name": "stdout",
     "output_type": "stream",
     "text": [
      "NAME       REFERENCE             TARGETS         MINPODS   MAXPODS   REPLICAS   AGE\n",
      "hostname   ReplicaSet/hostname   <unknown>/50%   4         10        2          35s\n"
     ]
    }
   ],
   "source": [
    "! kubectl get hpa"
   ]
  },
  {
   "cell_type": "code",
   "execution_count": 182,
   "id": "9a418f3a-1389-4288-a92d-eb6957c61781",
   "metadata": {},
   "outputs": [
    {
     "name": "stdout",
     "output_type": "stream",
     "text": [
      "horizontalpodautoscaler.autoscaling \"hostname\" deleted\n",
      "horizontalpodautoscaler.autoscaling/hostname autoscaled\n"
     ]
    }
   ],
   "source": [
    "! kubectl delete hpa hostname\n",
    "! kubectl autoscale --max=10 --min=4 --cpu-percent=50 -f replicaset.yaml"
   ]
  },
  {
   "cell_type": "code",
   "execution_count": 197,
   "id": "a168a266-9e41-48f1-aefd-af01d60dc742",
   "metadata": {},
   "outputs": [
    {
     "name": "stdout",
     "output_type": "stream",
     "text": [
      "NAME             READY   STATUS        RESTARTS   AGE\n",
      "hostname-b72mq   1/1     Terminating   0          18m\n",
      "hostname-kcpnm   1/1     Terminating   0          29s\n",
      "hostname-lf287   1/1     Terminating   0          29s\n",
      "hostname-lfhhr   1/1     Terminating   0          18m\n"
     ]
    }
   ],
   "source": [
    "! kubectl get pods --selector=tier=frontend "
   ]
  },
  {
   "cell_type": "code",
   "execution_count": 198,
   "id": "ff60ba7d-9579-41ad-9e5c-750b6ad14cd1",
   "metadata": {},
   "outputs": [
    {
     "name": "stdout",
     "output_type": "stream",
     "text": [
      "No resources found\n"
     ]
    }
   ],
   "source": [
    "# 刪除所有 replicaset \n",
    "! kubectl delete replicaset --all"
   ]
  },
  {
   "cell_type": "code",
   "execution_count": null,
   "id": "6ebc2f6f-93f8-49d8-bd04-821a386d684a",
   "metadata": {},
   "outputs": [],
   "source": [
    "# 刪除所有 replicaset \n",
    "! kubectl delete hpa --all"
   ]
  },
  {
   "cell_type": "code",
   "execution_count": null,
   "id": "c2c99dd9-78ae-4d09-9507-42f5fd2aaf64",
   "metadata": {},
   "outputs": [],
   "source": []
  }
 ],
 "metadata": {
  "kernelspec": {
   "display_name": "Python 3 (ipykernel)",
   "language": "python",
   "name": "python3"
  },
  "language_info": {
   "codemirror_mode": {
    "name": "ipython",
    "version": 3
   },
   "file_extension": ".py",
   "mimetype": "text/x-python",
   "name": "python",
   "nbconvert_exporter": "python",
   "pygments_lexer": "ipython3",
   "version": "3.10.6"
  }
 },
 "nbformat": 4,
 "nbformat_minor": 5
}
