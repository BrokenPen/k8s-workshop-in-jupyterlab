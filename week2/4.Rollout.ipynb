{
 "cells": [
  {
   "cell_type": "markdown",
   "id": "508bf805-8a74-45e5-a08a-f5ef5199d60f",
   "metadata": {
    "tags": []
   },
   "source": [
    "# Rollout\n",
    "\n",
    "- Ref: https://learnk8s.io/kubernetes-rollbacks\n",
    "- Ref: https://ithelp.ithome.com.tw/articles/10195639\n",
    "\n",
    "滾動升級/回滾可以讓你在不終止現有服務情況下，進行升級。\n",
    "\n"
   ]
  },
  {
   "cell_type": "code",
   "execution_count": 83,
   "id": "8d79e846-1aef-4753-9867-78ee9f0ad773",
   "metadata": {},
   "outputs": [
    {
     "name": "stdout",
     "output_type": "stream",
     "text": [
      "NAME       STATUS   ROLES           AGE    VERSION\n",
      "minikube   Ready    control-plane   114m   v1.25.3\n"
     ]
    }
   ],
   "source": [
    "# 確保你的minikube有啟動\n",
    "! [[ -z $(kubectl get nodes) ]] && minikube start \n",
    "# 列印目前k8s節點\n",
    "! kubectl get nodes                    "
   ]
  },
  {
   "cell_type": "code",
   "execution_count": 84,
   "id": "b082564c-6350-4504-a61d-0f49b6302978",
   "metadata": {},
   "outputs": [
    {
     "name": "stdout",
     "output_type": "stream",
     "text": [
      "CURRENT   NAME       CLUSTER    AUTHINFO   NAMESPACE\n",
      "*         minikube   minikube   minikube   default\n"
     ]
    }
   ],
   "source": [
    "# get current contexts\n",
    "! kubectl config get-contexts"
   ]
  },
  {
   "cell_type": "code",
   "execution_count": 85,
   "id": "c97b6a51-0385-4ca9-b36b-a59fe169a9e2",
   "metadata": {},
   "outputs": [
    {
     "name": "stdout",
     "output_type": "stream",
     "text": [
      "service \"kubernetes\" deleted\n",
      "No resources found\n",
      "error: the server doesn't have a resource type \"replica\"\n",
      "No resources found\n"
     ]
    }
   ],
   "source": [
    "# delete all stuff\n",
    "! kubectl delete service --all\n",
    "! kubectl delete pods --all\n",
    "! kubectl delete replica --all\n",
    "! kubectl delete deployment --all"
   ]
  },
  {
   "cell_type": "code",
   "execution_count": null,
   "id": "e17cf374-712f-462e-8f79-b7931472532a",
   "metadata": {},
   "outputs": [],
   "source": []
  },
  {
   "cell_type": "code",
   "execution_count": 88,
   "id": "6d800b57-e113-4d46-a815-ceec532ee32c",
   "metadata": {},
   "outputs": [
    {
     "name": "stdout",
     "output_type": "stream",
     "text": [
      "deployment.apps \"hostname\" deleted\n",
      "deployment.apps/hostname created\n"
     ]
    }
   ],
   "source": [
    "# 建立一個 hostname deployment\n",
    "# replicas 為 3\n",
    "# image 為 hostname:v1\n",
    "! kubectl delete deployment --all\n",
    "! kubectl create deployment hostname --replicas=3 --image=brokenpen/hostname:v1 "
   ]
  },
  {
   "cell_type": "code",
   "execution_count": 89,
   "id": "3b638044-1fb4-4bc4-bd5e-b3fd5c281bc8",
   "metadata": {},
   "outputs": [
    {
     "name": "stdout",
     "output_type": "stream",
     "text": [
      "Manage the rollout of one or many resources.\n",
      "  \n",
      " Valid resource types include:\n",
      "\n",
      "  *  deployments\n",
      "  *  daemonsets\n",
      "  *  statefulsets\n",
      "\n",
      "Examples:\n",
      "  # Rollback to the previous deployment\n",
      "  kubectl rollout undo deployment/abc\n",
      "  \n",
      "  # Check the rollout status of a daemonset\n",
      "  kubectl rollout status daemonset/foo\n",
      "  \n",
      "  # Restart a deployment\n",
      "  kubectl rollout restart deployment/abc\n",
      "  \n",
      "  # Restart deployments with the app=nginx label\n",
      "  kubectl rollout restart deployment --selector=app=nginx\n",
      "\n",
      "Available Commands:\n",
      "  history       View rollout history\n",
      "  pause         Mark the provided resource as paused\n",
      "  restart       Restart a resource\n",
      "  resume        Resume a paused resource\n",
      "  status        Show the status of the rollout\n",
      "  undo          Undo a previous rollout\n",
      "\n",
      "Usage:\n",
      "  kubectl rollout SUBCOMMAND [options]\n",
      "\n",
      "Use \"kubectl <command> --help\" for more information about a given command.\n",
      "Use \"kubectl options\" for a list of global command-line options (applies to all\n",
      "commands).\n"
     ]
    }
   ],
   "source": [
    "! kubectl rollout --help"
   ]
  },
  {
   "cell_type": "code",
   "execution_count": 93,
   "id": "7bd42b75-8e88-44f2-b04a-ac0879017b81",
   "metadata": {},
   "outputs": [
    {
     "name": "stdout",
     "output_type": "stream",
     "text": [
      "deployment.apps/hostname \n",
      "REVISION  CHANGE-CAUSE\n",
      "1         blabla\n",
      "\n"
     ]
    }
   ],
   "source": [
    "# 查看 rollout history\n",
    "! kubectl rollout history deployment hostname"
   ]
  },
  {
   "cell_type": "code",
   "execution_count": 105,
   "id": "24e0c756-754e-4bda-bca6-9490bfa7d3aa",
   "metadata": {},
   "outputs": [
    {
     "name": "stdout",
     "output_type": "stream",
     "text": [
      "deployment.apps/hostname annotated\n"
     ]
    }
   ],
   "source": [
    "# 填寫 CHANGE-CAUSE \n",
    "! kubectl annotate deployments hostname kubernetes.io/change-cause=\"deploy created with v1 image\""
   ]
  },
  {
   "cell_type": "code",
   "execution_count": 106,
   "id": "23588ee8-70fc-4b05-a36b-efd428caf85f",
   "metadata": {},
   "outputs": [
    {
     "name": "stdout",
     "output_type": "stream",
     "text": [
      "deployment.apps/hostname \n",
      "REVISION  CHANGE-CAUSE\n",
      "1         deploy created with v1 image\n",
      "\n"
     ]
    }
   ],
   "source": [
    "! kubectl rollout history deployment hostname"
   ]
  },
  {
   "cell_type": "code",
   "execution_count": 104,
   "id": "9993485c-1832-4f2a-bab8-44f41c134c16",
   "metadata": {},
   "outputs": [
    {
     "name": "stdout",
     "output_type": "stream",
     "text": [
      "deployment.apps/hostname with revision #1\n",
      "Pod Template:\n",
      "  Labels:\tapp=hostname\n",
      "\tpod-template-hash=7c99c74d96\n",
      "  Annotations:\tkubernetes.io/change-cause: init\n",
      "  Containers:\n",
      "   hostname:\n",
      "    Image:\tbrokenpen/hostname:v1\n",
      "    Port:\t<none>\n",
      "    Host Port:\t<none>\n",
      "    Environment:\t<none>\n",
      "    Mounts:\t<none>\n",
      "  Volumes:\t<none>\n",
      "\n"
     ]
    }
   ],
   "source": [
    "! kubectl rollout history deployment hostname --revision=1"
   ]
  },
  {
   "cell_type": "code",
   "execution_count": 114,
   "id": "1264d121-de81-4d29-a0c3-e1a3569c4837",
   "metadata": {},
   "outputs": [
    {
     "name": "stdout",
     "output_type": "stream",
     "text": [
      "NAME       READY   UP-TO-DATE   AVAILABLE   AGE     CONTAINERS   IMAGES                  SELECTOR       LABELS\n",
      "hostname   3/3     3            3           5m18s   hostname     brokenpen/hostname:v1   app=hostname   app=hostname\n"
     ]
    }
   ],
   "source": [
    "# 列印這個 deployment 資訊\n",
    "! kubectl get deployment hostname --show-labels  -o wide"
   ]
  },
  {
   "cell_type": "code",
   "execution_count": 115,
   "id": "d627a8a1-5139-4765-bca6-a3e75497a02b",
   "metadata": {},
   "outputs": [
    {
     "name": "stdout",
     "output_type": "stream",
     "text": [
      "NAME                  DESIRED   CURRENT   READY   AGE     CONTAINERS   IMAGES                  SELECTOR\n",
      "hostname-7c99c74d96   3         3         3       5m19s   hostname     brokenpen/hostname:v1   app=hostname,pod-template-hash=7c99c74d96\n"
     ]
    }
   ],
   "source": [
    "# 列印目前有的 replicaset\n",
    "# 也就是這個deployment 所建立的 replicaset\n",
    "! kubectl get replicaset -o wide"
   ]
  },
  {
   "cell_type": "code",
   "execution_count": 116,
   "id": "e8f51608-f16f-41b8-91f7-f98adf7bb7da",
   "metadata": {},
   "outputs": [
    {
     "name": "stdout",
     "output_type": "stream",
     "text": [
      "NAME                        READY   STATUS    RESTARTS   AGE     IP           NODE       NOMINATED NODE   READINESS GATES\n",
      "hostname-7c99c74d96-4r5dc   1/1     Running   0          5m21s   172.17.0.7   minikube   <none>           <none>\n",
      "hostname-7c99c74d96-lvrrq   1/1     Running   0          5m21s   172.17.0.8   minikube   <none>           <none>\n",
      "hostname-7c99c74d96-sp89s   1/1     Running   0          5m21s   172.17.0.6   minikube   <none>           <none>\n"
     ]
    }
   ],
   "source": [
    "! kubectl get pod -o wide"
   ]
  },
  {
   "cell_type": "markdown",
   "id": "7a9eb8da-1c37-421d-808e-5e826e7bcf2a",
   "metadata": {},
   "source": [
    "<img class=\"img\" style=\"width:480px;\" src=\"https://learnk8s.io/a/e2d1c566c4b5cd59d9fa8e0de547344b.svg\"></img>"
   ]
  },
  {
   "cell_type": "code",
   "execution_count": 122,
   "id": "320f2f5d-1109-45ee-b332-8f05226c1987",
   "metadata": {},
   "outputs": [
    {
     "name": "stdout",
     "output_type": "stream",
     "text": [
      "deployment.apps/hostname image updated\n"
     ]
    }
   ],
   "source": [
    "# 把deployment的imgage\n",
    "# 改成 hostname:v2\n",
    "! kubectl set image deployment hostname\\\n",
    "    hostname=brokenpen/hostname:v2 "
   ]
  },
  {
   "cell_type": "code",
   "execution_count": 130,
   "id": "4065a83f-1890-4a59-a5a2-7dab6b997e55",
   "metadata": {},
   "outputs": [
    {
     "name": "stdout",
     "output_type": "stream",
     "text": [
      "deployment.apps/hostname annotated\n"
     ]
    }
   ],
   "source": [
    "# 填寫 revision 2 的 CHANGE-CAUSE\n",
    "! kubectl annotate deployment hostname kubernetes.io/change-cause=\"image changed to v2\" "
   ]
  },
  {
   "cell_type": "code",
   "execution_count": 131,
   "id": "0c38d0ba-29a0-4e52-b71d-2e89e1ddd096",
   "metadata": {},
   "outputs": [
    {
     "name": "stdout",
     "output_type": "stream",
     "text": [
      "deployment.apps/hostname \n",
      "REVISION  CHANGE-CAUSE\n",
      "1         deploy created with v1 image\n",
      "2         image changed to v2\n",
      "\n"
     ]
    }
   ],
   "source": [
    "! kubectl rollout history deployment hostname "
   ]
  },
  {
   "cell_type": "code",
   "execution_count": 132,
   "id": "b0b8e1b6-6b60-4486-8292-eb0421cfb24f",
   "metadata": {},
   "outputs": [
    {
     "name": "stdout",
     "output_type": "stream",
     "text": [
      "deployment.apps/hostname with revision #2\n",
      "Pod Template:\n",
      "  Labels:\tapp=hostname\n",
      "\tpod-template-hash=5477bcd76c\n",
      "  Annotations:\tkubernetes.io/change-cause: image changed to v2\n",
      "  Containers:\n",
      "   hostname:\n",
      "    Image:\tbrokenpen/hostname:v2\n",
      "    Port:\t<none>\n",
      "    Host Port:\t<none>\n",
      "    Environment:\t<none>\n",
      "    Mounts:\t<none>\n",
      "  Volumes:\t<none>\n",
      "\n"
     ]
    }
   ],
   "source": [
    "! kubectl rollout history deployment hostname --revision=2"
   ]
  },
  {
   "cell_type": "code",
   "execution_count": 129,
   "id": "7880a9bb-9d80-4f94-ab61-9272cf608f24",
   "metadata": {},
   "outputs": [
    {
     "name": "stdout",
     "output_type": "stream",
     "text": [
      "NAME                  DESIRED   CURRENT   READY   AGE     CONTAINERS   IMAGES                  SELECTOR\n",
      "hostname-5477bcd76c   3         3         3       47s     hostname     brokenpen/hostname:v2   app=hostname,pod-template-hash=5477bcd76c\n",
      "hostname-7c99c74d96   0         0         0       6m41s   hostname     brokenpen/hostname:v1   app=hostname,pod-template-hash=7c99c74d96\n",
      "\n",
      "\n",
      "NAME                  DESIRED   CURRENT   READY   AGE     CONTAINERS   IMAGES                  SELECTOR\n",
      "hostname-5477bcd76c   3         3         3       50s     hostname     brokenpen/hostname:v2   app=hostname,pod-template-hash=5477bcd76c\n",
      "hostname-7c99c74d96   0         0         0       6m44s   hostname     brokenpen/hostname:v1   app=hostname,pod-template-hash=7c99c74d96\n",
      "\n",
      "\n",
      "NAME                  DESIRED   CURRENT   READY   AGE     CONTAINERS   IMAGES                  SELECTOR\n",
      "hostname-5477bcd76c   3         3         3       52s     hostname     brokenpen/hostname:v2   app=hostname,pod-template-hash=5477bcd76c\n",
      "hostname-7c99c74d96   0         0         0       6m46s   hostname     brokenpen/hostname:v1   app=hostname,pod-template-hash=7c99c74d96\n",
      "\n",
      "\n",
      "NAME                  DESIRED   CURRENT   READY   AGE     CONTAINERS   IMAGES                  SELECTOR\n",
      "hostname-5477bcd76c   3         3         3       54s     hostname     brokenpen/hostname:v2   app=hostname,pod-template-hash=5477bcd76c\n",
      "hostname-7c99c74d96   0         0         0       6m48s   hostname     brokenpen/hostname:v1   app=hostname,pod-template-hash=7c99c74d96\n",
      "\n",
      "\n"
     ]
    }
   ],
   "source": [
    "! kubectl get replicaset -o wide \n",
    "! sleep 2; echo; echo;\n",
    "! kubectl get rs -o wide\n",
    "! sleep 2; echo; echo;\n",
    "! kubectl get rs -o wide\n",
    "! sleep 2; echo; echo;\n",
    "! kubectl get rs -o wide\n",
    "! sleep 2; echo; echo;"
   ]
  },
  {
   "cell_type": "markdown",
   "id": "89dcc3d5-19e0-4186-8bbe-0221ae557796",
   "metadata": {},
   "source": [
    "\n",
    "<img class=\"img\" style=\"width:480px;\" src=\"img/rollout-ready-2.png\"></img>\n",
    "\n",
    "---\n",
    "\n",
    "<img class=\"img\" style=\"width:480px;\" src=\"img/rollout-ready-3.png\"></img>\n",
    "\n",
    "---\n",
    "\n",
    "<img class=\"img\" style=\"width:480px;\" src=\"img/rollout-ready-4.png\"></img>\n",
    "\n",
    "---\n",
    "\n",
    "<img class=\"img\" style=\"width:480px;\" src=\"img/rollout-ready-5.png\"></img>\n"
   ]
  },
  {
   "cell_type": "code",
   "execution_count": 23,
   "id": "7b8da664-1c7c-496f-92cf-1cf1b25d25cc",
   "metadata": {},
   "outputs": [
    {
     "name": "stdout",
     "output_type": "stream",
     "text": [
      "deployment \"hostname\" successfully rolled out\n"
     ]
    }
   ],
   "source": [
    "! kubectl rollout status deployment/hostname"
   ]
  },
  {
   "cell_type": "code",
   "execution_count": 24,
   "id": "cc3ae609-52d1-4bdd-be36-0ab03b8b0b3e",
   "metadata": {},
   "outputs": [
    {
     "name": "stdout",
     "output_type": "stream",
     "text": [
      "NAME       READY   UP-TO-DATE   AVAILABLE   AGE    CONTAINERS   IMAGES                  SELECTOR\n",
      "hostname   3/3     3            3           100s   hostname     brokenpen/hostname:v2   app=hostname\n"
     ]
    }
   ],
   "source": [
    "! kubectl get deployments hostname -o wide"
   ]
  },
  {
   "cell_type": "code",
   "execution_count": 26,
   "id": "a2f026be-1f35-457f-9fc6-642cc8ab7d53",
   "metadata": {},
   "outputs": [
    {
     "name": "stdout",
     "output_type": "stream",
     "text": [
      "NAME                  DESIRED   CURRENT   READY   AGE     CONTAINERS   IMAGES                  SELECTOR\n",
      "hostname-5477bcd76c   3         3         3       119s    hostname     brokenpen/hostname:v2   app=hostname,pod-template-hash=5477bcd76c\n",
      "hostname-7c99c74d96   0         0         0       2m17s   hostname     brokenpen/hostname:v1   app=hostname,pod-template-hash=7c99c74d96\n"
     ]
    }
   ],
   "source": [
    "# image v2 的 replciaSet 已經建立\n",
    "# 而舊的 image v1 replicaSet 會保留著\n",
    "! kubectl get rs -o wide"
   ]
  },
  {
   "cell_type": "code",
   "execution_count": 27,
   "id": "5d456684-0083-4614-bcb0-0f89152bb442",
   "metadata": {},
   "outputs": [
    {
     "name": "stdout",
     "output_type": "stream",
     "text": [
      "NAME                        READY   STATUS    RESTARTS   AGE\n",
      "hostname-5477bcd76c-4k28c   1/1     Running   0          116s\n",
      "hostname-5477bcd76c-5f2lf   1/1     Running   0          114s\n",
      "hostname-5477bcd76c-xt7nw   1/1     Running   0          2m2s\n"
     ]
    }
   ],
   "source": [
    "! kubectl get pods "
   ]
  },
  {
   "cell_type": "code",
   "execution_count": 37,
   "id": "1618519a-c393-43c5-b574-6a9f3e1cd7e6",
   "metadata": {},
   "outputs": [
    {
     "name": "stdout",
     "output_type": "stream",
     "text": [
      "deployment.apps/hostname \n",
      "REVISION  CHANGE-CAUSE\n",
      "3         <none>\n",
      "4         kubectl set image deployment/hostname hostname=brokenpen/hostname:v2 --record=true\n",
      "\n"
     ]
    }
   ],
   "source": [
    "! kubectl rollout history deployment hostname"
   ]
  },
  {
   "cell_type": "code",
   "execution_count": 33,
   "id": "7a5ccdfc-debd-4795-81c7-70a4ef296464",
   "metadata": {},
   "outputs": [
    {
     "name": "stdout",
     "output_type": "stream",
     "text": [
      "error: unknown flag: --record\n",
      "See 'kubectl rollout undo --help' for usage.\n"
     ]
    }
   ],
   "source": [
    "! kubectl rollout undo deployment/hostname "
   ]
  },
  {
   "cell_type": "code",
   "execution_count": 34,
   "id": "bf642e4f-7b78-4c09-9945-29d8b6c01281",
   "metadata": {},
   "outputs": [
    {
     "name": "stdout",
     "output_type": "stream",
     "text": [
      "NAME                  DESIRED   CURRENT   READY   AGE     CONTAINERS   IMAGES                  SELECTOR\n",
      "hostname-5477bcd76c   0         0         0       3m28s   hostname     brokenpen/hostname:v2   app=hostname,pod-template-hash=5477bcd76c\n",
      "hostname-7c99c74d96   3         3         3       3m46s   hostname     brokenpen/hostname:v1   app=hostname,pod-template-hash=7c99c74d96\n"
     ]
    }
   ],
   "source": [
    "! kubectl get rs -o wide"
   ]
  },
  {
   "cell_type": "code",
   "execution_count": 35,
   "id": "70fef9ef-a626-4883-a7d2-23e88aff4646",
   "metadata": {},
   "outputs": [
    {
     "name": "stdout",
     "output_type": "stream",
     "text": [
      "NAME                        READY   STATUS        RESTARTS   AGE\n",
      "hostname-5477bcd76c-4k28c   1/1     Terminating   0          3m28s\n",
      "hostname-5477bcd76c-5f2lf   1/1     Terminating   0          3m26s\n",
      "hostname-5477bcd76c-xt7nw   1/1     Terminating   0          3m34s\n",
      "hostname-7c99c74d96-jmpp8   1/1     Running       0          11s\n",
      "hostname-7c99c74d96-n48wr   1/1     Running       0          9s\n",
      "hostname-7c99c74d96-z82rj   1/1     Running       0          13s\n"
     ]
    }
   ],
   "source": [
    "! kubectl get pods "
   ]
  },
  {
   "cell_type": "code",
   "execution_count": null,
   "id": "8c8775b0-9e39-4e9f-8f38-beb634e8ac5e",
   "metadata": {},
   "outputs": [],
   "source": [
    "! kubectl rollout pause deployment hostname"
   ]
  },
  {
   "cell_type": "code",
   "execution_count": null,
   "id": "ba93ac91-1531-4e11-b0cd-37a42906923b",
   "metadata": {},
   "outputs": [],
   "source": [
    "! kubectl rollout resume deployment hostname"
   ]
  }
 ],
 "metadata": {
  "kernelspec": {
   "display_name": "Python 3 (ipykernel)",
   "language": "python",
   "name": "python3"
  },
  "language_info": {
   "codemirror_mode": {
    "name": "ipython",
    "version": 3
   },
   "file_extension": ".py",
   "mimetype": "text/x-python",
   "name": "python",
   "nbconvert_exporter": "python",
   "pygments_lexer": "ipython3",
   "version": "3.10.6"
  }
 },
 "nbformat": 4,
 "nbformat_minor": 5
}
