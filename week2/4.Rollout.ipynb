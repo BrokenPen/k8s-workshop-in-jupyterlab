{
 "cells": [
  {
   "cell_type": "markdown",
   "id": "508bf805-8a74-45e5-a08a-f5ef5199d60f",
   "metadata": {
    "tags": []
   },
   "source": [
    "# Rollout\n",
    "\n",
    "- Ref: https://learnk8s.io/kubernetes-rollbacks\n",
    "- Ref: https://ithelp.ithome.com.tw/articles/10195639\n",
    "\n",
    "滾動升級/回滾可以讓你在不終止現有服務情況下，進行升級。\n",
    "\n"
   ]
  },
  {
   "cell_type": "code",
   "execution_count": null,
   "id": "8d79e846-1aef-4753-9867-78ee9f0ad773",
   "metadata": {},
   "outputs": [
    {
     "name": "stdout",
     "output_type": "stream",
     "text": [
      "😄  minikube v1.28.0 on Ubuntu 22.04 (vbox/amd64)\n",
      "✨  Using the docker driver based on existing profile\n",
      "👍  Starting control plane node minikube in cluster minikube\n",
      "🚜  Pulling base image ...\n",
      "🏃  Updating the running docker \"minikube\" container ...\n",
      "🐳  Preparing Kubernetes v1.25.3 on Docker 20.10.20 ...\u001b[K\u001b[K\u001b[K\u001b[K\u001b[K\u001b[K\u001b[K\u001b[K\u001b[K\u001b[K\u001b[K\u001b[K\u001b[K\u001b[K\u001b[K\u001b[K\u001b[K\u001b[K\u001b[K\u001b[K\u001b[K\u001b[K\u001b[K\u001b[K\u001b[K\u001b[K\u001b[K\u001b[K\u001b[K\u001b[K\u001b[K\u001b[K\u001b[K\u001b[K\u001b[K\u001b[K\u001b[K\u001b[K\u001b[K\u001b[K\u001b[K\u001b[K\u001b[K\u001b[K\u001b[K\u001b[K\u001b[K\u001b[K\u001b[K\u001b[K\u001b[K\u001b[K\u001b[K\u001b[K\u001b[K\u001b[K\u001b[K\u001b[K\u001b[K\u001b[K\u001b[K\u001b[K\u001b[K\u001b[K\u001b[K\u001b[K\u001b[K\u001b[K\u001b[K\u001b[K\u001b[K\u001b[K\u001b[K\u001b[K\u001b[K\u001b[K\u001b[K\u001b[K\u001b[K\u001b[K\u001b[K\u001b[K\u001b[K\u001b[K\u001b[K\u001b[K\u001b[K\u001b[K\u001b[K\u001b[K\u001b[K\u001b[K\u001b[K\u001b[K\u001b[K\u001b[K\u001b[K\u001b[K\u001b[K\u001b[K\u001b[K\u001b[K\u001b[K\u001b[K\u001b[K\u001b[K\u001b[K\u001b[K\u001b[K\u001b[K\u001b[K\u001b[K\u001b[K\u001b[K\u001b[K\u001b[K\u001b[K\u001b[K\u001b[K\u001b[K\u001b[K\u001b[K\u001b[K\u001b[K\u001b[K\u001b[K\u001b[K\u001b[K\u001b[K\u001b[K\u001b[K\u001b[K\u001b[K\u001b[K\u001b[K\u001b[K\u001b[K\u001b[K\u001b[K\u001b[K\u001b[K\u001b[K\u001b[K\u001b[K\u001b[K\u001b[K\u001b[K\u001b[K\u001b[K\u001b[K\u001b[K\u001b[K\u001b[K\u001b[K\u001b[K\u001b[K\u001b[K\u001b[K\u001b[K\u001b[K\u001b[K\u001b[K\u001b[K\u001b[K\u001b[K\u001b[K\u001b[K\u001b[K\u001b[K\u001b[K\u001b[K\u001b[K\u001b[K\u001b[K\u001b[K\u001b[K\u001b[K\u001b[K\u001b[K\u001b[K\u001b[K\u001b[K\u001b[K\u001b[K\u001b[K\u001b[K\u001b[K\u001b[K\u001b[K\u001b[K\u001b[K\u001b[K\u001b[K\u001b[K\u001b[K\u001b[K\u001b[K\u001b[K\u001b[K\u001b[K\u001b[K\u001b[K\u001b[K\u001b[K\u001b[K\u001b[K\u001b[K\u001b[K\u001b[K\u001b[K\u001b[K\u001b[K\u001b[K\u001b[K\u001b[K\u001b[K\u001b[K\u001b[K\u001b[K\u001b[K\u001b[K\u001b[K\u001b[K\u001b[K\u001b[K\u001b[K\u001b[K\u001b[K\u001b[K\u001b[K\u001b[K\u001b[K\u001b[K\u001b[K\u001b[K\u001b[K\u001b[K\u001b[K\u001b[K\u001b[K\u001b[K\u001b[K\u001b[K\u001b[K\u001b[K\u001b[K\u001b[K\u001b[K\u001b[K\u001b[K\u001b[K\u001b[K\u001b[K\u001b[K\u001b[K\u001b[K\u001b[K\u001b[K\u001b[K\u001b[K\u001b[K\u001b[K\u001b[K\u001b[K\u001b[K\u001b[K\u001b[K\u001b[K\u001b[K\u001b[K\u001b[K\u001b[K\u001b[K\u001b[K\u001b[K\u001b[K\u001b[K\u001b[K\u001b[K\u001b[K\u001b[K\u001b[K\u001b[K\u001b[K\u001b[K\u001b[K\u001b[K\u001b[K\u001b[K\u001b[K\u001b[K\u001b[K\u001b[K\u001b[K\u001b[K\u001b[K\u001b[K\u001b[K\u001b[K\u001b[K\u001b[K\u001b[K\u001b[K\u001b[K\u001b[K\u001b[K\u001b[K\u001b[K\u001b[K\u001b[K\u001b[K\u001b[K\u001b[K\u001b[K\u001b[K\u001b[K\u001b[K\u001b[K\u001b[K\u001b[K\u001b[K\u001b[K\u001b[K\u001b[K\u001b[K\u001b[K\u001b[K\u001b[K\u001b[K\u001b[K\u001b[K\u001b[K\u001b[K\u001b[K\u001b[K\u001b[K\u001b[K\u001b[K\u001b[K\u001b[K\u001b[K\u001b[K\u001b[K\u001b[K\u001b[K\u001b[K\u001b[K\u001b[K\u001b[K\u001b[K\u001b[K\u001b[K\u001b[K\u001b[K\u001b[K\u001b[K\u001b[K\u001b[K\u001b[K\u001b[K\u001b[K\u001b[K\u001b[K\u001b[K\u001b[K\u001b[K\u001b[K\u001b[K\u001b[K\u001b[K\u001b[K\u001b[K\u001b[K\u001b[K\u001b[K\u001b[K\u001b[K\u001b[K\u001b[K\u001b[K\u001b[K\u001b[K\u001b[K\u001b[K\u001b[K\u001b[K\u001b[K\u001b[K\u001b[K\u001b[K\u001b[K\u001b[K\u001b[K\u001b[K\u001b[K\u001b[K\u001b[K\u001b[K\u001b[K\u001b[K\u001b[K\u001b[K\u001b[K\u001b[K\u001b[K\u001b[K\u001b[K\u001b[K\u001b[K\u001b[K\u001b[K\u001b[K\u001b[K\u001b[K\u001b[K\u001b[K\u001b[K\u001b[K\u001b[K\u001b[K\u001b[K\u001b[K\u001b[K\u001b[K\u001b[K\u001b[K\u001b[K\u001b[K\u001b[K\u001b[K\u001b[K\u001b[K\u001b[K\u001b[K\u001b[K\u001b[K\u001b[K\u001b[K\u001b[K\u001b[K\u001b[K\u001b[K\u001b[K\u001b[K\u001b[K\u001b[K\u001b[K\u001b[K\u001b[K\u001b[K\u001b[K\u001b[K\u001b[K\u001b[K\u001b[K\u001b[K\u001b[K\u001b[K\u001b[K\u001b[K\u001b[K\u001b[K\u001b[K\u001b[K\u001b[K\u001b[K\u001b[K\u001b[K\u001b[K\u001b[K\u001b[K\u001b[K\u001b[K\u001b[K\u001b[K\u001b[K\u001b[K\u001b[K\u001b[K\u001b[K\u001b[K\u001b[K\u001b[K\u001b[K\u001b[K\u001b[K\u001b[K\u001b[K\u001b[K\u001b[K\u001b[K\u001b[K\u001b[K\u001b[K\u001b[K\u001b[K\u001b[K\u001b[K\u001b[K\u001b[K\u001b[K\u001b[K\u001b[K\u001b[K\u001b[K\u001b[K\u001b[K\u001b[K\u001b[K\u001b[K\u001b[K\u001b[K\u001b[K\u001b[K\u001b[K\u001b[K\u001b[K\u001b[K\u001b[K\u001b[K\u001b[K\u001b[K\n",
      "🔎  Verifying Kubernetes components...\n",
      "    ▪ Using image gcr.io/k8s-minikube/storage-provisioner:v5\n",
      "🌟  Enabled addons: storage-provisioner, default-storageclass\n",
      "🏄  Done! kubectl is now configured to use \"minikube\" cluster and \"default\" namespace by default\n"
     ]
    }
   ],
   "source": [
    "# makesure minikube is running\n",
    "! minikube start"
   ]
  },
  {
   "cell_type": "code",
   "execution_count": null,
   "id": "bfe1802b-b447-4089-89aa-8ca3288b80ba",
   "metadata": {},
   "outputs": [
    {
     "name": "stdout",
     "output_type": "stream",
     "text": [
      "NAME       STATUS   ROLES           AGE     VERSION\n",
      "minikube   Ready    control-plane   6d18h   v1.25.3\n"
     ]
    }
   ],
   "source": [
    "# get nodes\n",
    "! kubectl get nodes"
   ]
  },
  {
   "cell_type": "code",
   "execution_count": null,
   "id": "b082564c-6350-4504-a61d-0f49b6302978",
   "metadata": {},
   "outputs": [
    {
     "name": "stdout",
     "output_type": "stream",
     "text": [
      "CURRENT   NAME       CLUSTER    AUTHINFO   NAMESPACE\n",
      "*         minikube   minikube   minikube   default\n"
     ]
    }
   ],
   "source": [
    "# get current contexts\n",
    "! kubectl config get-contexts"
   ]
  },
  {
   "cell_type": "code",
   "execution_count": null,
   "id": "c97b6a51-0385-4ca9-b36b-a59fe169a9e2",
   "metadata": {},
   "outputs": [
    {
     "name": "stdout",
     "output_type": "stream",
     "text": [
      "service \"kubernetes\" deleted\n",
      "pod \"hostname-5477bcd76c-gbchf\" deleted\n",
      "pod \"hostname-5477bcd76c-l8lmk\" deleted\n",
      "pod \"hostname-5477bcd76c-th95n\" deleted\n",
      "pod \"hostname-5477bcd76c-wq4rl\" deleted\n",
      "pod \"hostname-5477bcd76c-z6bdp\" deleted\n",
      "pod \"hostname-5477bcd76c-zhd6n\" deleted\n",
      "^C\n",
      "error: the server doesn't have a resource type \"replica\"\n",
      "No resources found\n"
     ]
    }
   ],
   "source": [
    "# delete all stuff\n",
    "! kubectl delete service --all\n",
    "! kubectl delete pods --all\n",
    "! kubectl delete replica --all\n",
    "! kubectl delete deployment --all"
   ]
  },
  {
   "cell_type": "code",
   "execution_count": null,
   "id": "6d800b57-e113-4d46-a815-ceec532ee32c",
   "metadata": {},
   "outputs": [
    {
     "name": "stdout",
     "output_type": "stream",
     "text": [
      "deployment.apps \"hostname\" deleted\n",
      "deployment.apps/hostname created\n"
     ]
    }
   ],
   "source": [
    "! kubectl delete deployment --all\n",
    "! kubectl create deployment hostname --replicas=3 --image=brokenpen/hostname:v1 "
   ]
  },
  {
   "cell_type": "code",
   "execution_count": null,
   "id": "1264d121-de81-4d29-a0c3-e1a3569c4837",
   "metadata": {},
   "outputs": [
    {
     "name": "stdout",
     "output_type": "stream",
     "text": [
      "NAME       READY   UP-TO-DATE   AVAILABLE   AGE   CONTAINERS   IMAGES                  SELECTOR       LABELS\n",
      "hostname   0/3     3            0           1s    hostname     brokenpen/hostname:v1   app=hostname   app=hostname\n"
     ]
    }
   ],
   "source": [
    "! kubectl get deployment hostname --show-labels  -o wide"
   ]
  },
  {
   "cell_type": "code",
   "execution_count": null,
   "id": "d627a8a1-5139-4765-bca6-a3e75497a02b",
   "metadata": {},
   "outputs": [
    {
     "name": "stdout",
     "output_type": "stream",
     "text": [
      "NAME                  DESIRED   CURRENT   READY   AGE   CONTAINERS   IMAGES                  SELECTOR\n",
      "hostname-7c99c74d96   3         3         0       1s    hostname     brokenpen/hostname:v1   app=hostname,pod-template-hash=7c99c74d96\n"
     ]
    }
   ],
   "source": [
    "! kubectl get replicaset -o wide"
   ]
  },
  {
   "cell_type": "code",
   "execution_count": null,
   "id": "e8f51608-f16f-41b8-91f7-f98adf7bb7da",
   "metadata": {},
   "outputs": [
    {
     "name": "stdout",
     "output_type": "stream",
     "text": [
      "NAME                        READY   STATUS              RESTARTS   AGE    IP            NODE       NOMINATED NODE   READINESS GATES\n",
      "hostname-5477bcd76c-lsswh   1/1     Terminating         0          117s   172.17.0.10   minikube   <none>           <none>\n",
      "hostname-5477bcd76c-n762q   1/1     Terminating         0          115s   172.17.0.11   minikube   <none>           <none>\n",
      "hostname-5477bcd76c-sxgl9   1/1     Terminating         0          2m     172.17.0.9    minikube   <none>           <none>\n",
      "hostname-7c99c74d96-gp8jd   0/1     ContainerCreating   0          1s     <none>        minikube   <none>           <none>\n",
      "hostname-7c99c74d96-h72z2   0/1     ContainerCreating   0          1s     <none>        minikube   <none>           <none>\n",
      "hostname-7c99c74d96-rzfqx   0/1     ContainerCreating   0          1s     <none>        minikube   <none>           <none>\n",
      "hostname-7d756bf846-t7dcs   0/1     Terminating         0          66s    172.17.0.3    minikube   <none>           <none>\n"
     ]
    }
   ],
   "source": [
    "! kubectl get pod -o wide"
   ]
  },
  {
   "cell_type": "markdown",
   "id": "7a9eb8da-1c37-421d-808e-5e826e7bcf2a",
   "metadata": {},
   "source": [
    "<img class=\"img\" style=\"width:480px;\" src=\"https://learnk8s.io/a/e2d1c566c4b5cd59d9fa8e0de547344b.svg\"></img>"
   ]
  },
  {
   "cell_type": "code",
   "execution_count": null,
   "id": "320f2f5d-1109-45ee-b332-8f05226c1987",
   "metadata": {},
   "outputs": [
    {
     "name": "stdout",
     "output_type": "stream",
     "text": [
      "deployment.apps/hostname image updated\n"
     ]
    }
   ],
   "source": [
    "! kubectl set image deployment/hostname \\\n",
    "    hostname=brokenpen/hostname:v2"
   ]
  },
  {
   "cell_type": "code",
   "execution_count": null,
   "id": "7880a9bb-9d80-4f94-ab61-9272cf608f24",
   "metadata": {},
   "outputs": [
    {
     "name": "stdout",
     "output_type": "stream",
     "text": [
      "NAME                  DESIRED   CURRENT   READY   AGE   CONTAINERS   IMAGES                  SELECTOR\n",
      "hostname-5477bcd76c   1         1         0       1s    hostname     brokenpen/hostname:v2   app=hostname,pod-template-hash=5477bcd76c\n",
      "hostname-7c99c74d96   3         3         3       5s    hostname     brokenpen/hostname:v1   app=hostname,pod-template-hash=7c99c74d96\n",
      "\n",
      "\n",
      "NAME                  DESIRED   CURRENT   READY   AGE   CONTAINERS   IMAGES                  SELECTOR\n",
      "hostname-5477bcd76c   2         2         1       3s    hostname     brokenpen/hostname:v2   app=hostname,pod-template-hash=5477bcd76c\n",
      "hostname-7c99c74d96   2         2         2       7s    hostname     brokenpen/hostname:v1   app=hostname,pod-template-hash=7c99c74d96\n",
      "\n",
      "\n",
      "NAME                  DESIRED   CURRENT   READY   AGE   CONTAINERS   IMAGES                  SELECTOR\n",
      "hostname-5477bcd76c   3         3         2       5s    hostname     brokenpen/hostname:v2   app=hostname,pod-template-hash=5477bcd76c\n",
      "hostname-7c99c74d96   1         1         1       9s    hostname     brokenpen/hostname:v1   app=hostname,pod-template-hash=7c99c74d96\n",
      "\n",
      "\n",
      "NAME                  DESIRED   CURRENT   READY   AGE   CONTAINERS   IMAGES                  SELECTOR\n",
      "hostname-5477bcd76c   3         3         3       8s    hostname     brokenpen/hostname:v2   app=hostname,pod-template-hash=5477bcd76c\n",
      "hostname-7c99c74d96   0         0         0       12s   hostname     brokenpen/hostname:v1   app=hostname,pod-template-hash=7c99c74d96\n",
      "\n",
      "\n"
     ]
    }
   ],
   "source": [
    "! kubectl get rs -o wide \n",
    "! sleep 2; echo; echo;\n",
    "! kubectl get rs -o wide\n",
    "! sleep 2; echo; echo;\n",
    "! kubectl get rs -o wide\n",
    "! sleep 2; echo; echo;\n",
    "! kubectl get rs -o wide\n",
    "! sleep 2; echo; echo;"
   ]
  },
  {
   "cell_type": "markdown",
   "id": "89dcc3d5-19e0-4186-8bbe-0221ae557796",
   "metadata": {},
   "source": [
    "<img class=\"img\" style=\"width:480px;\" src=\"img/rollout-ready-2.png\"></img>\n",
    "---\n",
    "<img class=\"img\" style=\"width:480px;\" src=\"img/rollout-ready-3.png\"></img>\n",
    "---\n",
    "<img class=\"img\" style=\"width:480px;\" src=\"img/rollout-ready-4.png\"></img>\n",
    "---\n",
    "<img class=\"img\" style=\"width:480px;\" src=\"img/rollout-ready-5.png\"></img>"
   ]
  },
  {
   "cell_type": "code",
   "execution_count": null,
   "id": "7b8da664-1c7c-496f-92cf-1cf1b25d25cc",
   "metadata": {},
   "outputs": [
    {
     "name": "stdout",
     "output_type": "stream",
     "text": [
      "Waiting for deployment \"hostname\" rollout to finish: 1 out of 3 new replicas have been updated...\n"
     ]
    }
   ],
   "source": [
    "! kubectl rollout status deployment/hostname"
   ]
  },
  {
   "cell_type": "code",
   "execution_count": null,
   "id": "cc3ae609-52d1-4bdd-be36-0ab03b8b0b3e",
   "metadata": {},
   "outputs": [],
   "source": [
    "! kubectl get deployments hostname -o wide"
   ]
  },
  {
   "cell_type": "code",
   "execution_count": null,
   "id": "a2f026be-1f35-457f-9fc6-642cc8ab7d53",
   "metadata": {},
   "outputs": [
    {
     "name": "stdout",
     "output_type": "stream",
     "text": [
      "NAME                  DESIRED   CURRENT   READY   AGE    CONTAINERS   IMAGES                  SELECTOR\n",
      "hostname-5477bcd76c   3         3         3       15s    hostname     brokenpen/hostname:v2   app=hostname,pod-template-hash=5477bcd76c\n",
      "hostname-7c99c74d96   0         0         0       100s   hostname     brokenpen/hostname:v1   app=hostname,pod-template-hash=7c99c74d96\n"
     ]
    }
   ],
   "source": [
    "# image v2 的 replciaSet 已經建立\n",
    "! kubectl get rs -o wide"
   ]
  },
  {
   "cell_type": "code",
   "execution_count": null,
   "id": "5d456684-0083-4614-bcb0-0f89152bb442",
   "metadata": {},
   "outputs": [
    {
     "name": "stdout",
     "output_type": "stream",
     "text": [
      "NAME                        READY   STATUS        RESTARTS   AGE    IP           NODE       NOMINATED NODE   READINESS GATES\n",
      "hostname-5477bcd76c-9pr8x   1/1     Running       0          19s    172.17.0.6   minikube   <none>           <none>\n",
      "hostname-5477bcd76c-f6zs8   1/1     Running       0          17s    172.17.0.7   minikube   <none>           <none>\n",
      "hostname-5477bcd76c-n77px   1/1     Running       0          14s    172.17.0.8   minikube   <none>           <none>\n",
      "hostname-7c99c74d96-d6sts   1/1     Terminating   0          104s   172.17.0.3   minikube   <none>           <none>\n",
      "hostname-7c99c74d96-k4pbr   1/1     Terminating   0          104s   172.17.0.4   minikube   <none>           <none>\n",
      "hostname-7c99c74d96-pmtzt   1/1     Terminating   0          104s   172.17.0.5   minikube   <none>           <none>\n"
     ]
    }
   ],
   "source": [
    "! kubectl get pods "
   ]
  },
  {
   "cell_type": "code",
   "execution_count": null,
   "id": "1618519a-c393-43c5-b574-6a9f3e1cd7e6",
   "metadata": {},
   "outputs": [],
   "source": []
  }
 ],
 "metadata": {
  "kernelspec": {
   "display_name": "Python 3 (ipykernel)",
   "language": "python",
   "name": "python3"
  },
  "language_info": {
   "codemirror_mode": {
    "name": "ipython",
    "version": 3
   },
   "file_extension": ".py",
   "mimetype": "text/x-python",
   "name": "python",
   "nbconvert_exporter": "python",
   "pygments_lexer": "ipython3",
   "version": "3.10.6"
  }
 },
 "nbformat": 4,
 "nbformat_minor": 5
}
