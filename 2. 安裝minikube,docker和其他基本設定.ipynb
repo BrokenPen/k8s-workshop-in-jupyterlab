{
 "cells": [
  {
   "cell_type": "markdown",
   "id": "642f1155-7944-4f3a-8612-9b3ec7c3df31",
   "metadata": {
    "tags": []
   },
   "source": [
    "### 列印目前VM OS, IP"
   ]
  },
  {
   "cell_type": "code",
   "execution_count": 14,
   "id": "64618777-3f16-44a9-8a85-2874cfd12ee4",
   "metadata": {},
   "outputs": [
    {
     "name": "stdout",
     "output_type": "stream",
     "text": [
      "Linux minikube-vbvm 5.15.0-53-generic #59-Ubuntu SMP Mon Oct 17 18:53:30 UTC 2022 x86_64 x86_64 x86_64 GNU/Linux\n"
     ]
    }
   ],
   "source": [
    "! # installed OS \n",
    "! uname -a"
   ]
  },
  {
   "cell_type": "code",
   "execution_count": 15,
   "id": "19e3747e-ddee-4d4e-8db4-68089810425b",
   "metadata": {},
   "outputs": [
    {
     "name": "stdout",
     "output_type": "stream",
     "text": [
      "我的hostname是 minikube-vbvm\n"
     ]
    }
   ],
   "source": [
    "! # 列印hostname\n",
    "! echo 我的hostname是 $(hostname)"
   ]
  },
  {
   "cell_type": "code",
   "execution_count": 16,
   "id": "09d102cd-0ae5-4d2c-8636-978d8ad12257",
   "metadata": {},
   "outputs": [
    {
     "name": "stdout",
     "output_type": "stream",
     "text": [
      "我的IP是: 192.168.45.197 172.17.0.1 192.168.49.1 2001:b400:e206:38f8:a00:27ff:fe1e:bbbd\n"
     ]
    }
   ],
   "source": [
    "! # 列印IP\n",
    "! echo 我的IP是: $(hostname -I)"
   ]
  },
  {
   "cell_type": "markdown",
   "id": "92ad4ace-56ce-47d5-aab5-b0ea2fc25491",
   "metadata": {},
   "source": [
    "### 安裝 docker"
   ]
  },
  {
   "cell_type": "code",
   "execution_count": 4,
   "id": "7c2f2be9-f6c1-4783-96a8-2dd1f8390427",
   "metadata": {},
   "outputs": [
    {
     "name": "stdout",
     "output_type": "stream",
     "text": [
      "Reading package lists... Done\n",
      "Building dependency tree... Done\n",
      "Reading state information... Done\n",
      "docker.io is already the newest version (20.10.12-0ubuntu4).\n",
      "0 upgraded, 0 newly installed, 0 to remove and 32 not upgraded.\n",
      "[sudo] password for ubuntu: "
     ]
    }
   ],
   "source": [
    "! # 安裝 docker\n",
    "! echo \"ubuntu\" | sudo -S apt install docker.io\n",
    "! # 把 ubuntu 加到 docker Usergroup裏\n",
    "! echo \"ubuntu\" | sudo -S usermod -aG docker ubuntu"
   ]
  },
  {
   "cell_type": "code",
   "execution_count": 17,
   "id": "bffa5e04-ab35-44ce-bb55-f5b2046bcdb8",
   "metadata": {
    "tags": []
   },
   "outputs": [
    {
     "name": "stdout",
     "output_type": "stream",
     "text": [
      "Client:\n",
      " Version:           20.10.12\n",
      " API version:       1.41\n",
      " Go version:        go1.17.3\n",
      " Git commit:        20.10.12-0ubuntu4\n",
      " Built:             Mon Mar  7 17:10:06 2022\n",
      " OS/Arch:           linux/amd64\n",
      " Context:           default\n",
      " Experimental:      true\n",
      "\n",
      "Server:\n",
      " Engine:\n",
      "  Version:          20.10.12\n",
      "  API version:      1.41 (minimum version 1.12)\n",
      "  Go version:       go1.17.3\n",
      "  Git commit:       20.10.12-0ubuntu4\n",
      "  Built:            Mon Mar  7 15:57:50 2022\n",
      "  OS/Arch:          linux/amd64\n",
      "  Experimental:     false\n",
      " containerd:\n",
      "  Version:          1.5.9-0ubuntu3\n",
      "  GitCommit:        \n",
      " runc:\n",
      "  Version:          1.1.0-0ubuntu1\n",
      "  GitCommit:        \n",
      " docker-init:\n",
      "  Version:          0.19.0\n",
      "  GitCommit:        \n"
     ]
    }
   ],
   "source": [
    "! # 列印目前Docker 版本\n",
    "! docker version"
   ]
  },
  {
   "cell_type": "markdown",
   "id": "ebb6808e-524a-4531-810c-bcf609336107",
   "metadata": {
    "tags": []
   },
   "source": [
    "#### 安裝minikube\n",
    "\n",
    "https://minikube.sigs.k8s.io/docs/start/\n",
    "\n",
    "```\n",
    "curl -LO https://storage.googleapis.com/minikube/releases/latest/minikube-linux-amd64\n",
    "sudo install minikube-linux-amd64 /usr/local/bin/minikube\n",
    "```"
   ]
  },
  {
   "cell_type": "code",
   "execution_count": 18,
   "id": "dc7c21d8-4e08-44ec-930c-95535f4b325f",
   "metadata": {},
   "outputs": [
    {
     "name": "stdout",
     "output_type": "stream",
     "text": [
      "minikube-linux-amd64 file exist\n",
      "minikube installed path: /usr/local/bin/minikube\n"
     ]
    }
   ],
   "source": [
    "! # 下載路徑\n",
    "minikube_installer='/home/ubuntu/minikube-linux-amd64'\n",
    "\n",
    "! # 檢查是否已經下載過\n",
    "! [[ -f  $minikube_installer ]] \\\n",
    "&& echo \"minikube-linux-amd64 file exist\" \\\n",
    "|| curl -L https://storage.googleapis.com/minikube/releases/latest/minikube-linux-amd64 \\\n",
    "-o /home/ubuntu/minikube-linux-amd64\n",
    "\n",
    "! # 安裝\n",
    "! [[ ! -f $(which minikube) ]] && echo \"ubuntu\" | sudo -S install /home/ubuntu/minikube-linux-amd64 /usr/local/bin/minikube\n",
    "! echo minikube installed path: $(which minikube)"
   ]
  },
  {
   "cell_type": "code",
   "execution_count": 19,
   "id": "cabf3ed5-2bbb-4544-9838-ceee641334a5",
   "metadata": {
    "jupyter": {
     "source_hidden": true
    },
    "tags": []
   },
   "outputs": [
    {
     "name": "stdout",
     "output_type": "stream",
     "text": [
      "😄  minikube v1.28.0 on Ubuntu 22.04 (vbox/amd64)\n",
      "✨  Using the docker driver based on existing profile\n",
      "👍  Starting control plane node minikube in cluster minikube\n",
      "🚜  Pulling base image ...\n",
      "🏃  Updating the running docker \"minikube\" container ...\n",
      "🐳  Preparing Kubernetes v1.25.3 on Docker 20.10.20 ...\u001b[K\u001b[K\u001b[K\u001b[K\u001b[K\u001b[K\u001b[K\u001b[K\u001b[K\u001b[K\u001b[K\u001b[K\u001b[K\u001b[K\u001b[K\u001b[K\u001b[K\u001b[K\u001b[K\u001b[K\u001b[K\u001b[K\u001b[K\u001b[K\u001b[K\u001b[K\u001b[K\u001b[K\u001b[K\u001b[K\u001b[K\u001b[K\u001b[K\u001b[K\u001b[K\u001b[K\u001b[K\u001b[K\u001b[K\u001b[K\u001b[K\u001b[K\u001b[K\u001b[K\u001b[K\u001b[K\u001b[K\u001b[K\u001b[K\u001b[K\u001b[K\u001b[K\u001b[K\u001b[K\u001b[K\u001b[K\u001b[K\u001b[K\u001b[K\u001b[K\u001b[K\u001b[K\u001b[K\u001b[K\u001b[K\u001b[K\u001b[K\u001b[K\u001b[K\u001b[K\u001b[K\u001b[K\u001b[K\u001b[K\u001b[K\u001b[K\u001b[K\u001b[K\u001b[K\u001b[K\u001b[K\u001b[K\u001b[K\u001b[K\u001b[K\u001b[K\u001b[K\u001b[K\u001b[K\u001b[K\u001b[K\u001b[K\u001b[K\u001b[K\u001b[K\u001b[K\u001b[K\u001b[K\u001b[K\u001b[K\u001b[K\u001b[K\u001b[K\u001b[K\u001b[K\u001b[K\u001b[K\u001b[K\u001b[K\u001b[K\u001b[K\u001b[K\u001b[K\u001b[K\u001b[K\u001b[K\u001b[K\u001b[K\u001b[K\u001b[K\u001b[K\u001b[K\u001b[K\u001b[K\u001b[K\u001b[K\u001b[K\u001b[K\u001b[K\u001b[K\u001b[K\u001b[K\u001b[K\u001b[K\u001b[K\u001b[K\u001b[K\u001b[K\u001b[K\u001b[K\u001b[K\u001b[K\u001b[K\u001b[K\u001b[K\u001b[K\u001b[K\u001b[K\u001b[K\u001b[K\u001b[K\u001b[K\u001b[K\u001b[K\u001b[K\u001b[K\u001b[K\u001b[K\u001b[K\u001b[K\u001b[K\u001b[K\u001b[K\u001b[K\u001b[K\u001b[K\u001b[K\u001b[K\u001b[K\u001b[K\u001b[K\u001b[K\u001b[K\u001b[K\u001b[K\u001b[K\u001b[K\u001b[K\u001b[K\u001b[K\u001b[K\u001b[K\u001b[K\u001b[K\u001b[K\u001b[K\u001b[K\u001b[K\u001b[K\u001b[K\u001b[K\u001b[K\u001b[K\u001b[K\u001b[K\u001b[K\u001b[K\u001b[K\u001b[K\u001b[K\u001b[K\u001b[K\u001b[K\u001b[K\u001b[K\u001b[K\u001b[K\u001b[K\u001b[K\u001b[K\u001b[K\u001b[K\u001b[K\u001b[K\u001b[K\u001b[K\u001b[K\u001b[K\u001b[K\u001b[K\u001b[K\u001b[K\u001b[K\u001b[K\u001b[K\u001b[K\u001b[K\u001b[K\u001b[K\u001b[K\u001b[K\u001b[K\u001b[K\u001b[K\u001b[K\u001b[K\u001b[K\u001b[K\u001b[K\u001b[K\u001b[K\u001b[K\u001b[K\u001b[K\u001b[K\u001b[K\u001b[K\u001b[K\u001b[K\u001b[K\u001b[K\u001b[K\u001b[K\u001b[K\u001b[K\u001b[K\u001b[K\u001b[K\u001b[K\u001b[K\u001b[K\u001b[K\u001b[K\u001b[K\u001b[K\u001b[K\u001b[K\u001b[K\u001b[K\u001b[K\u001b[K\u001b[K\u001b[K\u001b[K\u001b[K\u001b[K\u001b[K\u001b[K\u001b[K\u001b[K\u001b[K\u001b[K\u001b[K\u001b[K\u001b[K\u001b[K\u001b[K\u001b[K\u001b[K\u001b[K\u001b[K\u001b[K\u001b[K\u001b[K\u001b[K\u001b[K\u001b[K\u001b[K\n",
      "🔎  Verifying Kubernetes components...\n",
      "    ▪ Using image gcr.io/k8s-minikube/storage-provisioner:v5\n",
      "🌟  Enabled addons: default-storageclass, storage-provisioner\n",
      "🏄  Done! kubectl is now configured to use \"minikube\" cluster and \"default\" namespace by default\n"
     ]
    }
   ],
   "source": [
    "!# 啟動 minikube (單一節點)\n",
    "! minikube start"
   ]
  },
  {
   "cell_type": "code",
   "execution_count": 20,
   "id": "9ce7ff21-d020-4b58-b41c-b5fe88aae87c",
   "metadata": {},
   "outputs": [
    {
     "name": "stdout",
     "output_type": "stream",
     "text": [
      "commit: 986b1ebd987211ed16f8cc10aed7d2c42fc8392f\n",
      "minikubeVersion: v1.28.0\n",
      "\n"
     ]
    }
   ],
   "source": [
    "! # 目前 minikube 版本\n",
    "! minikube version -o yaml"
   ]
  },
  {
   "cell_type": "code",
   "execution_count": 21,
   "id": "ee97c617-7e98-4c7e-9699-fd73a43429cd",
   "metadata": {},
   "outputs": [
    {
     "name": "stdout",
     "output_type": "stream",
     "text": [
      "clientVersion:\n",
      "  buildDate: \"2022-10-12T10:57:26Z\"\n",
      "  compiler: gc\n",
      "  gitCommit: 434bfd82814af038ad94d62ebe59b133fcb50506\n",
      "  gitTreeState: clean\n",
      "  gitVersion: v1.25.3\n",
      "  goVersion: go1.19.2\n",
      "  major: \"1\"\n",
      "  minor: \"25\"\n",
      "  platform: linux/amd64\n",
      "kustomizeVersion: v4.5.7\n",
      "serverVersion:\n",
      "  buildDate: \"2022-10-12T10:49:09Z\"\n",
      "  compiler: gc\n",
      "  gitCommit: 434bfd82814af038ad94d62ebe59b133fcb50506\n",
      "  gitTreeState: clean\n",
      "  gitVersion: v1.25.3\n",
      "  goVersion: go1.19.2\n",
      "  major: \"1\"\n",
      "  minor: \"25\"\n",
      "  platform: linux/amd64\n",
      "\n"
     ]
    }
   ],
   "source": [
    "! # 目前 kubectl 版本\n",
    "! minikube kubectl -- version -o yaml"
   ]
  },
  {
   "cell_type": "code",
   "execution_count": 10,
   "id": "505b6f42-3098-4009-aecb-fb052138cd8d",
   "metadata": {},
   "outputs": [
    {
     "name": "stdout",
     "output_type": "stream",
     "text": [
      "🔥  Deleting \"minikube\" in docker ...\n",
      "🔥  Deleting container \"minikube\" ...\n",
      "🔥  Removing /home/ubuntu/.minikube/machines/minikube ...\n",
      "💀  Removed all traces of the \"minikube\" cluster.\n"
     ]
    }
   ],
   "source": [
    "! # 重置 minikube\n",
    "! minikube delete"
   ]
  },
  {
   "cell_type": "markdown",
   "id": "5c9bace2-b009-4319-899b-fb4a1853b7ed",
   "metadata": {
    "tags": []
   },
   "source": [
    "### 設定短命令\n",
    "\n",
    "*alias 語法不適用與Jupyter上*"
   ]
  },
  {
   "cell_type": "code",
   "execution_count": 11,
   "id": "eace1cbd-11c9-4360-b954-2b999e649011",
   "metadata": {},
   "outputs": [],
   "source": [
    "! alias k=\"minikube kubectl --\""
   ]
  },
  {
   "cell_type": "code",
   "execution_count": 12,
   "id": "b23e8e3e-0428-434b-bed6-d7ba20201cda",
   "metadata": {},
   "outputs": [],
   "source": [
    "! alias kubectl=\"minikube kubectl --\""
   ]
  },
  {
   "cell_type": "markdown",
   "id": "190784d9-1f02-434c-a279-36749ad2b0ea",
   "metadata": {
    "tags": []
   },
   "source": [
    "### 列出目前有的docker image"
   ]
  },
  {
   "cell_type": "code",
   "execution_count": 22,
   "id": "f726e93d-70c4-476e-8bf6-cca5d2b5879a",
   "metadata": {},
   "outputs": [
    {
     "name": "stdout",
     "output_type": "stream",
     "text": [
      "REPOSITORY                    TAG       IMAGE ID       CREATED       SIZE\n",
      "brokenpen/hostname            v1        ddd5107763d6   5 days ago    660MB\n",
      "brokenpen/hostname            v2        3a8e3ae5c464   6 days ago    660MB\n",
      "brokenpen/get-hostname        v1        862cc3184fe8   3 weeks ago   660MB\n",
      "brokenpen/hostname            <none>    862cc3184fe8   3 weeks ago   660MB\n",
      "gcr.io/k8s-minikube/kicbase   v0.0.36   866c1fe4e3f2   4 weeks ago   1.11GB\n",
      "node                          7         d9aed20b68a4   5 years ago   660MB\n"
     ]
    }
   ],
   "source": [
    "! docker image ls"
   ]
  },
  {
   "cell_type": "code",
   "execution_count": null,
   "id": "9252893c-ff75-4f0c-8c2b-a865861c91d2",
   "metadata": {},
   "outputs": [],
   "source": []
  }
 ],
 "metadata": {
  "kernelspec": {
   "display_name": "Python 3 (ipykernel)",
   "language": "python",
   "name": "python3"
  },
  "language_info": {
   "codemirror_mode": {
    "name": "ipython",
    "version": 3
   },
   "file_extension": ".py",
   "mimetype": "text/x-python",
   "name": "python",
   "nbconvert_exporter": "python",
   "pygments_lexer": "ipython3",
   "version": "3.10.6"
  }
 },
 "nbformat": 4,
 "nbformat_minor": 5
}
