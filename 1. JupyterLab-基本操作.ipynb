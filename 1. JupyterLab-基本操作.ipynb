{
 "cells": [
  {
   "cell_type": "markdown",
   "id": "519188ae-6b5f-4c4b-822a-b3314c63b5a9",
   "metadata": {
    "jp-MarkdownHeadingCollapsed": true,
    "tags": []
   },
   "source": [
    "\n",
    "#### Jupyterlab 操作方法:\n",
    "    Enter: 下一行\n",
    "    Shift+Enter: 執行Cell裡的指令\n",
    "\n",
    "    JuypterLab原本是設計來執行python的，\n",
    "\n",
    "    所以當要執行code(bash script)時,\n",
    "\n",
    "    需要在Cell裡面透過!指定這是code (bash script)\n",
    "\n",
    "    例如hostname, 要變為!hostname"
   ]
  },
  {
   "cell_type": "markdown",
   "id": "2564c0b9-c2e3-44f7-b87b-f4770a452a72",
   "metadata": {
    "jp-MarkdownHeadingCollapsed": true,
    "tags": []
   },
   "source": [
    "#### 登入到本JupyterLab的方法\n",
    "\n",
    "    我已經將 JuypterLab 設定成Systemd Service方式啟動\n",
    "    你只需要開打瀏覽器，輸入以下url便可到JuypterLab\n",
    "    VM-IP:8888/?token=ubuntu\n"
   ]
  },
  {
   "cell_type": "markdown",
   "id": "16e77190-24fb-4e1e-a76f-c5ad43e71ceb",
   "metadata": {
    "jp-MarkdownHeadingCollapsed": true,
    "tags": []
   },
   "source": [
    "#### JuypterLab Restart Kernal \n",
    "    \n",
    "    JuypterLab 反應的時候，可以嘗試\n",
    "    點擊最上面的 Kernal -> Restart Kernal\n",
    "    \n"
   ]
  },
  {
   "cell_type": "markdown",
   "id": "af97b6e6-07ed-418f-9889-901389ad4c84",
   "metadata": {},
   "source": [
    "#### JuypterLab Theme\n",
    "\n",
    "    如果覺得 Default Theme JupyterLab Light 太刺眼\n",
    "    點擊最上面的 Settings -> Theme -> 選擇你想要的Theme 進行切換"
   ]
  },
  {
   "cell_type": "markdown",
   "id": "a16e12f5-1c51-4db8-93a5-6291d6bad123",
   "metadata": {
    "tags": []
   },
   "source": [
    "#### 透過pip 安裝 Jupyter Theme "
   ]
  },
  {
   "cell_type": "code",
   "execution_count": 1,
   "id": "c51ab8f3-1863-46dc-a3b9-c12a048d6079",
   "metadata": {
    "tags": []
   },
   "outputs": [
    {
     "name": "stdout",
     "output_type": "stream",
     "text": [
      "Defaulting to user installation because normal site-packages is not writeable\n",
      "Requirement already satisfied: jupyterlab_theme_hale in /home/ubuntu/.local/lib/python3.10/site-packages (0.1.3)\n",
      "Requirement already satisfied: jupyterlab==3.*,>=3.0.0rc13 in /home/ubuntu/.local/lib/python3.10/site-packages (from jupyterlab_theme_hale) (3.5.0)\n",
      "Requirement already satisfied: jupyter-core in /home/ubuntu/.local/lib/python3.10/site-packages (from jupyterlab==3.*,>=3.0.0rc13->jupyterlab_theme_hale) (5.0.0)\n",
      "Requirement already satisfied: jupyter-server<3,>=1.16.0 in /home/ubuntu/.local/lib/python3.10/site-packages (from jupyterlab==3.*,>=3.0.0rc13->jupyterlab_theme_hale) (1.23.2)\n",
      "Requirement already satisfied: notebook<7 in /home/ubuntu/.local/lib/python3.10/site-packages (from jupyterlab==3.*,>=3.0.0rc13->jupyterlab_theme_hale) (6.5.2)\n",
      "Requirement already satisfied: nbclassic in /home/ubuntu/.local/lib/python3.10/site-packages (from jupyterlab==3.*,>=3.0.0rc13->jupyterlab_theme_hale) (0.4.8)\n",
      "Requirement already satisfied: jupyterlab-server~=2.10 in /home/ubuntu/.local/lib/python3.10/site-packages (from jupyterlab==3.*,>=3.0.0rc13->jupyterlab_theme_hale) (2.16.3)\n",
      "Requirement already satisfied: tomli in /home/ubuntu/.local/lib/python3.10/site-packages (from jupyterlab==3.*,>=3.0.0rc13->jupyterlab_theme_hale) (2.0.1)\n",
      "Requirement already satisfied: tornado>=6.1.0 in /home/ubuntu/.local/lib/python3.10/site-packages (from jupyterlab==3.*,>=3.0.0rc13->jupyterlab_theme_hale) (6.2)\n",
      "Requirement already satisfied: jinja2>=2.1 in /usr/lib/python3/dist-packages (from jupyterlab==3.*,>=3.0.0rc13->jupyterlab_theme_hale) (3.0.3)\n",
      "Requirement already satisfied: ipython in /home/ubuntu/.local/lib/python3.10/site-packages (from jupyterlab==3.*,>=3.0.0rc13->jupyterlab_theme_hale) (8.6.0)\n",
      "Requirement already satisfied: packaging in /home/ubuntu/.local/lib/python3.10/site-packages (from jupyterlab==3.*,>=3.0.0rc13->jupyterlab_theme_hale) (21.3)\n",
      "Requirement already satisfied: nbconvert>=6.4.4 in /home/ubuntu/.local/lib/python3.10/site-packages (from jupyter-server<3,>=1.16.0->jupyterlab==3.*,>=3.0.0rc13->jupyterlab_theme_hale) (7.2.5)\n",
      "Requirement already satisfied: prometheus-client in /home/ubuntu/.local/lib/python3.10/site-packages (from jupyter-server<3,>=1.16.0->jupyterlab==3.*,>=3.0.0rc13->jupyterlab_theme_hale) (0.15.0)\n",
      "Requirement already satisfied: pyzmq>=17 in /home/ubuntu/.local/lib/python3.10/site-packages (from jupyter-server<3,>=1.16.0->jupyterlab==3.*,>=3.0.0rc13->jupyterlab_theme_hale) (24.0.1)\n",
      "Requirement already satisfied: Send2Trash in /home/ubuntu/.local/lib/python3.10/site-packages (from jupyter-server<3,>=1.16.0->jupyterlab==3.*,>=3.0.0rc13->jupyterlab_theme_hale) (1.8.0)\n",
      "Requirement already satisfied: terminado>=0.8.3 in /home/ubuntu/.local/lib/python3.10/site-packages (from jupyter-server<3,>=1.16.0->jupyterlab==3.*,>=3.0.0rc13->jupyterlab_theme_hale) (0.17.0)\n",
      "Requirement already satisfied: traitlets>=5.1 in /home/ubuntu/.local/lib/python3.10/site-packages (from jupyter-server<3,>=1.16.0->jupyterlab==3.*,>=3.0.0rc13->jupyterlab_theme_hale) (5.5.0)\n",
      "Requirement already satisfied: argon2-cffi in /home/ubuntu/.local/lib/python3.10/site-packages (from jupyter-server<3,>=1.16.0->jupyterlab==3.*,>=3.0.0rc13->jupyterlab_theme_hale) (21.3.0)\n",
      "Requirement already satisfied: nbformat>=5.2.0 in /home/ubuntu/.local/lib/python3.10/site-packages (from jupyter-server<3,>=1.16.0->jupyterlab==3.*,>=3.0.0rc13->jupyterlab_theme_hale) (5.7.0)\n",
      "Requirement already satisfied: anyio<4,>=3.1.0 in /home/ubuntu/.local/lib/python3.10/site-packages (from jupyter-server<3,>=1.16.0->jupyterlab==3.*,>=3.0.0rc13->jupyterlab_theme_hale) (3.6.2)\n",
      "Requirement already satisfied: websocket-client in /home/ubuntu/.local/lib/python3.10/site-packages (from jupyter-server<3,>=1.16.0->jupyterlab==3.*,>=3.0.0rc13->jupyterlab_theme_hale) (1.4.2)\n",
      "Requirement already satisfied: jupyter-client>=6.1.12 in /home/ubuntu/.local/lib/python3.10/site-packages (from jupyter-server<3,>=1.16.0->jupyterlab==3.*,>=3.0.0rc13->jupyterlab_theme_hale) (7.4.7)\n",
      "Requirement already satisfied: platformdirs in /home/ubuntu/.local/lib/python3.10/site-packages (from jupyter-core->jupyterlab==3.*,>=3.0.0rc13->jupyterlab_theme_hale) (2.5.4)\n",
      "Requirement already satisfied: json5 in /home/ubuntu/.local/lib/python3.10/site-packages (from jupyterlab-server~=2.10->jupyterlab==3.*,>=3.0.0rc13->jupyterlab_theme_hale) (0.9.10)\n",
      "Requirement already satisfied: requests in /usr/lib/python3/dist-packages (from jupyterlab-server~=2.10->jupyterlab==3.*,>=3.0.0rc13->jupyterlab_theme_hale) (2.25.1)\n",
      "Requirement already satisfied: jsonschema>=3.0.1 in /usr/lib/python3/dist-packages (from jupyterlab-server~=2.10->jupyterlab==3.*,>=3.0.0rc13->jupyterlab_theme_hale) (3.2.0)\n",
      "Requirement already satisfied: babel in /usr/lib/python3/dist-packages (from jupyterlab-server~=2.10->jupyterlab==3.*,>=3.0.0rc13->jupyterlab_theme_hale) (2.8.0)\n",
      "Requirement already satisfied: ipykernel in /home/ubuntu/.local/lib/python3.10/site-packages (from notebook<7->jupyterlab==3.*,>=3.0.0rc13->jupyterlab_theme_hale) (6.17.1)\n",
      "Requirement already satisfied: nest-asyncio>=1.5 in /home/ubuntu/.local/lib/python3.10/site-packages (from notebook<7->jupyterlab==3.*,>=3.0.0rc13->jupyterlab_theme_hale) (1.5.6)\n",
      "Requirement already satisfied: ipython-genutils in /home/ubuntu/.local/lib/python3.10/site-packages (from notebook<7->jupyterlab==3.*,>=3.0.0rc13->jupyterlab_theme_hale) (0.2.0)\n",
      "Requirement already satisfied: notebook-shim>=0.1.0 in /home/ubuntu/.local/lib/python3.10/site-packages (from nbclassic->jupyterlab==3.*,>=3.0.0rc13->jupyterlab_theme_hale) (0.2.2)\n",
      "Requirement already satisfied: stack-data in /home/ubuntu/.local/lib/python3.10/site-packages (from ipython->jupyterlab==3.*,>=3.0.0rc13->jupyterlab_theme_hale) (0.6.1)\n",
      "Requirement already satisfied: matplotlib-inline in /home/ubuntu/.local/lib/python3.10/site-packages (from ipython->jupyterlab==3.*,>=3.0.0rc13->jupyterlab_theme_hale) (0.1.6)\n",
      "Requirement already satisfied: pickleshare in /home/ubuntu/.local/lib/python3.10/site-packages (from ipython->jupyterlab==3.*,>=3.0.0rc13->jupyterlab_theme_hale) (0.7.5)\n",
      "Requirement already satisfied: pygments>=2.4.0 in /home/ubuntu/.local/lib/python3.10/site-packages (from ipython->jupyterlab==3.*,>=3.0.0rc13->jupyterlab_theme_hale) (2.13.0)\n",
      "Requirement already satisfied: prompt-toolkit<3.1.0,>3.0.1 in /home/ubuntu/.local/lib/python3.10/site-packages (from ipython->jupyterlab==3.*,>=3.0.0rc13->jupyterlab_theme_hale) (3.0.32)\n",
      "Requirement already satisfied: pexpect>4.3 in /home/ubuntu/.local/lib/python3.10/site-packages (from ipython->jupyterlab==3.*,>=3.0.0rc13->jupyterlab_theme_hale) (4.8.0)\n",
      "Requirement already satisfied: jedi>=0.16 in /home/ubuntu/.local/lib/python3.10/site-packages (from ipython->jupyterlab==3.*,>=3.0.0rc13->jupyterlab_theme_hale) (0.18.1)\n",
      "Requirement already satisfied: decorator in /home/ubuntu/.local/lib/python3.10/site-packages (from ipython->jupyterlab==3.*,>=3.0.0rc13->jupyterlab_theme_hale) (5.1.1)\n",
      "Requirement already satisfied: backcall in /home/ubuntu/.local/lib/python3.10/site-packages (from ipython->jupyterlab==3.*,>=3.0.0rc13->jupyterlab_theme_hale) (0.2.0)\n",
      "Requirement already satisfied: pyparsing!=3.0.5,>=2.0.2 in /usr/lib/python3/dist-packages (from packaging->jupyterlab==3.*,>=3.0.0rc13->jupyterlab_theme_hale) (2.4.7)\n",
      "Requirement already satisfied: sniffio>=1.1 in /home/ubuntu/.local/lib/python3.10/site-packages (from anyio<4,>=3.1.0->jupyter-server<3,>=1.16.0->jupyterlab==3.*,>=3.0.0rc13->jupyterlab_theme_hale) (1.3.0)\n",
      "Requirement already satisfied: idna>=2.8 in /usr/lib/python3/dist-packages (from anyio<4,>=3.1.0->jupyter-server<3,>=1.16.0->jupyterlab==3.*,>=3.0.0rc13->jupyterlab_theme_hale) (3.3)\n",
      "Requirement already satisfied: parso<0.9.0,>=0.8.0 in /home/ubuntu/.local/lib/python3.10/site-packages (from jedi>=0.16->ipython->jupyterlab==3.*,>=3.0.0rc13->jupyterlab_theme_hale) (0.8.3)\n",
      "Requirement already satisfied: python-dateutil>=2.8.2 in /home/ubuntu/.local/lib/python3.10/site-packages (from jupyter-client>=6.1.12->jupyter-server<3,>=1.16.0->jupyterlab==3.*,>=3.0.0rc13->jupyterlab_theme_hale) (2.8.2)\n",
      "Requirement already satisfied: entrypoints in /home/ubuntu/.local/lib/python3.10/site-packages (from jupyter-client>=6.1.12->jupyter-server<3,>=1.16.0->jupyterlab==3.*,>=3.0.0rc13->jupyterlab_theme_hale) (0.4)\n",
      "Requirement already satisfied: defusedxml in /home/ubuntu/.local/lib/python3.10/site-packages (from nbconvert>=6.4.4->jupyter-server<3,>=1.16.0->jupyterlab==3.*,>=3.0.0rc13->jupyterlab_theme_hale) (0.7.1)\n",
      "Requirement already satisfied: mistune<3,>=2.0.3 in /home/ubuntu/.local/lib/python3.10/site-packages (from nbconvert>=6.4.4->jupyter-server<3,>=1.16.0->jupyterlab==3.*,>=3.0.0rc13->jupyterlab_theme_hale) (2.0.4)\n",
      "Requirement already satisfied: pandocfilters>=1.4.1 in /home/ubuntu/.local/lib/python3.10/site-packages (from nbconvert>=6.4.4->jupyter-server<3,>=1.16.0->jupyterlab==3.*,>=3.0.0rc13->jupyterlab_theme_hale) (1.5.0)\n",
      "Requirement already satisfied: beautifulsoup4 in /home/ubuntu/.local/lib/python3.10/site-packages (from nbconvert>=6.4.4->jupyter-server<3,>=1.16.0->jupyterlab==3.*,>=3.0.0rc13->jupyterlab_theme_hale) (4.11.1)\n",
      "Requirement already satisfied: bleach in /home/ubuntu/.local/lib/python3.10/site-packages (from nbconvert>=6.4.4->jupyter-server<3,>=1.16.0->jupyterlab==3.*,>=3.0.0rc13->jupyterlab_theme_hale) (5.0.1)\n",
      "Requirement already satisfied: markupsafe>=2.0 in /usr/lib/python3/dist-packages (from nbconvert>=6.4.4->jupyter-server<3,>=1.16.0->jupyterlab==3.*,>=3.0.0rc13->jupyterlab_theme_hale) (2.0.1)\n",
      "Requirement already satisfied: tinycss2 in /home/ubuntu/.local/lib/python3.10/site-packages (from nbconvert>=6.4.4->jupyter-server<3,>=1.16.0->jupyterlab==3.*,>=3.0.0rc13->jupyterlab_theme_hale) (1.2.1)\n",
      "Requirement already satisfied: jupyterlab-pygments in /home/ubuntu/.local/lib/python3.10/site-packages (from nbconvert>=6.4.4->jupyter-server<3,>=1.16.0->jupyterlab==3.*,>=3.0.0rc13->jupyterlab_theme_hale) (0.2.2)\n",
      "Requirement already satisfied: nbclient>=0.5.0 in /home/ubuntu/.local/lib/python3.10/site-packages (from nbconvert>=6.4.4->jupyter-server<3,>=1.16.0->jupyterlab==3.*,>=3.0.0rc13->jupyterlab_theme_hale) (0.7.0)\n",
      "Requirement already satisfied: fastjsonschema in /home/ubuntu/.local/lib/python3.10/site-packages (from nbformat>=5.2.0->jupyter-server<3,>=1.16.0->jupyterlab==3.*,>=3.0.0rc13->jupyterlab_theme_hale) (2.16.2)\n",
      "Requirement already satisfied: ptyprocess>=0.5 in /home/ubuntu/.local/lib/python3.10/site-packages (from pexpect>4.3->ipython->jupyterlab==3.*,>=3.0.0rc13->jupyterlab_theme_hale) (0.7.0)\n",
      "Requirement already satisfied: wcwidth in /home/ubuntu/.local/lib/python3.10/site-packages (from prompt-toolkit<3.1.0,>3.0.1->ipython->jupyterlab==3.*,>=3.0.0rc13->jupyterlab_theme_hale) (0.2.5)\n",
      "Requirement already satisfied: argon2-cffi-bindings in /home/ubuntu/.local/lib/python3.10/site-packages (from argon2-cffi->jupyter-server<3,>=1.16.0->jupyterlab==3.*,>=3.0.0rc13->jupyterlab_theme_hale) (21.2.0)\n",
      "Requirement already satisfied: debugpy>=1.0 in /home/ubuntu/.local/lib/python3.10/site-packages (from ipykernel->notebook<7->jupyterlab==3.*,>=3.0.0rc13->jupyterlab_theme_hale) (1.6.3)\n",
      "Requirement already satisfied: psutil in /home/ubuntu/.local/lib/python3.10/site-packages (from ipykernel->notebook<7->jupyterlab==3.*,>=3.0.0rc13->jupyterlab_theme_hale) (5.9.4)\n",
      "Requirement already satisfied: asttokens>=2.1.0 in /home/ubuntu/.local/lib/python3.10/site-packages (from stack-data->ipython->jupyterlab==3.*,>=3.0.0rc13->jupyterlab_theme_hale) (2.1.0)\n",
      "Requirement already satisfied: pure-eval in /home/ubuntu/.local/lib/python3.10/site-packages (from stack-data->ipython->jupyterlab==3.*,>=3.0.0rc13->jupyterlab_theme_hale) (0.2.2)\n",
      "Requirement already satisfied: executing>=1.2.0 in /home/ubuntu/.local/lib/python3.10/site-packages (from stack-data->ipython->jupyterlab==3.*,>=3.0.0rc13->jupyterlab_theme_hale) (1.2.0)\n",
      "Requirement already satisfied: six in /usr/lib/python3/dist-packages (from asttokens>=2.1.0->stack-data->ipython->jupyterlab==3.*,>=3.0.0rc13->jupyterlab_theme_hale) (1.16.0)\n",
      "Requirement already satisfied: cffi>=1.0.1 in /home/ubuntu/.local/lib/python3.10/site-packages (from argon2-cffi-bindings->argon2-cffi->jupyter-server<3,>=1.16.0->jupyterlab==3.*,>=3.0.0rc13->jupyterlab_theme_hale) (1.15.1)\n",
      "Requirement already satisfied: soupsieve>1.2 in /home/ubuntu/.local/lib/python3.10/site-packages (from beautifulsoup4->nbconvert>=6.4.4->jupyter-server<3,>=1.16.0->jupyterlab==3.*,>=3.0.0rc13->jupyterlab_theme_hale) (2.3.2.post1)\n",
      "Requirement already satisfied: webencodings in /home/ubuntu/.local/lib/python3.10/site-packages (from bleach->nbconvert>=6.4.4->jupyter-server<3,>=1.16.0->jupyterlab==3.*,>=3.0.0rc13->jupyterlab_theme_hale) (0.5.1)\n",
      "Requirement already satisfied: pycparser in /home/ubuntu/.local/lib/python3.10/site-packages (from cffi>=1.0.1->argon2-cffi-bindings->argon2-cffi->jupyter-server<3,>=1.16.0->jupyterlab==3.*,>=3.0.0rc13->jupyterlab_theme_hale) (2.21)\n"
     ]
    }
   ],
   "source": [
    "! pip install jupyterlab_theme_hale"
   ]
  },
  {
   "cell_type": "code",
   "execution_count": 2,
   "id": "e8a225d2-06ef-4581-803d-62c0a8284ae1",
   "metadata": {
    "tags": []
   },
   "outputs": [
    {
     "name": "stdout",
     "output_type": "stream",
     "text": [
      "Defaulting to user installation because normal site-packages is not writeable\n",
      "Requirement already satisfied: jupyterlab-theme-solarized-dark in /home/ubuntu/.local/lib/python3.10/site-packages (2.1.0)\n"
     ]
    }
   ],
   "source": [
    "! pip install jupyterlab-theme-solarized-dark"
   ]
  },
  {
   "cell_type": "code",
   "execution_count": 3,
   "id": "8f6bd8bf-3258-4d0b-99f0-3c6891942996",
   "metadata": {
    "tags": []
   },
   "outputs": [
    {
     "name": "stdout",
     "output_type": "stream",
     "text": [
      "Defaulting to user installation because normal site-packages is not writeable\n",
      "Requirement already satisfied: theme-darcula in /home/ubuntu/.local/lib/python3.10/site-packages (4.0.0)\n",
      "Requirement already satisfied: jupyterlab>=3.0.0 in /home/ubuntu/.local/lib/python3.10/site-packages (from theme-darcula) (3.5.0)\n",
      "Requirement already satisfied: ipython in /home/ubuntu/.local/lib/python3.10/site-packages (from jupyterlab>=3.0.0->theme-darcula) (8.6.0)\n",
      "Requirement already satisfied: nbclassic in /home/ubuntu/.local/lib/python3.10/site-packages (from jupyterlab>=3.0.0->theme-darcula) (0.4.8)\n",
      "Requirement already satisfied: jupyter-core in /home/ubuntu/.local/lib/python3.10/site-packages (from jupyterlab>=3.0.0->theme-darcula) (5.0.0)\n",
      "Requirement already satisfied: notebook<7 in /home/ubuntu/.local/lib/python3.10/site-packages (from jupyterlab>=3.0.0->theme-darcula) (6.5.2)\n",
      "Requirement already satisfied: jupyterlab-server~=2.10 in /home/ubuntu/.local/lib/python3.10/site-packages (from jupyterlab>=3.0.0->theme-darcula) (2.16.3)\n",
      "Requirement already satisfied: tomli in /home/ubuntu/.local/lib/python3.10/site-packages (from jupyterlab>=3.0.0->theme-darcula) (2.0.1)\n",
      "Requirement already satisfied: jinja2>=2.1 in /usr/lib/python3/dist-packages (from jupyterlab>=3.0.0->theme-darcula) (3.0.3)\n",
      "Requirement already satisfied: packaging in /home/ubuntu/.local/lib/python3.10/site-packages (from jupyterlab>=3.0.0->theme-darcula) (21.3)\n",
      "Requirement already satisfied: tornado>=6.1.0 in /home/ubuntu/.local/lib/python3.10/site-packages (from jupyterlab>=3.0.0->theme-darcula) (6.2)\n",
      "Requirement already satisfied: jupyter-server<3,>=1.16.0 in /home/ubuntu/.local/lib/python3.10/site-packages (from jupyterlab>=3.0.0->theme-darcula) (1.23.2)\n",
      "Requirement already satisfied: jupyter-client>=6.1.12 in /home/ubuntu/.local/lib/python3.10/site-packages (from jupyter-server<3,>=1.16.0->jupyterlab>=3.0.0->theme-darcula) (7.4.7)\n",
      "Requirement already satisfied: terminado>=0.8.3 in /home/ubuntu/.local/lib/python3.10/site-packages (from jupyter-server<3,>=1.16.0->jupyterlab>=3.0.0->theme-darcula) (0.17.0)\n",
      "Requirement already satisfied: traitlets>=5.1 in /home/ubuntu/.local/lib/python3.10/site-packages (from jupyter-server<3,>=1.16.0->jupyterlab>=3.0.0->theme-darcula) (5.5.0)\n",
      "Requirement already satisfied: websocket-client in /home/ubuntu/.local/lib/python3.10/site-packages (from jupyter-server<3,>=1.16.0->jupyterlab>=3.0.0->theme-darcula) (1.4.2)\n",
      "Requirement already satisfied: nbconvert>=6.4.4 in /home/ubuntu/.local/lib/python3.10/site-packages (from jupyter-server<3,>=1.16.0->jupyterlab>=3.0.0->theme-darcula) (7.2.5)\n",
      "Requirement already satisfied: prometheus-client in /home/ubuntu/.local/lib/python3.10/site-packages (from jupyter-server<3,>=1.16.0->jupyterlab>=3.0.0->theme-darcula) (0.15.0)\n",
      "Requirement already satisfied: Send2Trash in /home/ubuntu/.local/lib/python3.10/site-packages (from jupyter-server<3,>=1.16.0->jupyterlab>=3.0.0->theme-darcula) (1.8.0)\n",
      "Requirement already satisfied: argon2-cffi in /home/ubuntu/.local/lib/python3.10/site-packages (from jupyter-server<3,>=1.16.0->jupyterlab>=3.0.0->theme-darcula) (21.3.0)\n",
      "Requirement already satisfied: pyzmq>=17 in /home/ubuntu/.local/lib/python3.10/site-packages (from jupyter-server<3,>=1.16.0->jupyterlab>=3.0.0->theme-darcula) (24.0.1)\n",
      "Requirement already satisfied: nbformat>=5.2.0 in /home/ubuntu/.local/lib/python3.10/site-packages (from jupyter-server<3,>=1.16.0->jupyterlab>=3.0.0->theme-darcula) (5.7.0)\n",
      "Requirement already satisfied: anyio<4,>=3.1.0 in /home/ubuntu/.local/lib/python3.10/site-packages (from jupyter-server<3,>=1.16.0->jupyterlab>=3.0.0->theme-darcula) (3.6.2)\n",
      "Requirement already satisfied: platformdirs in /home/ubuntu/.local/lib/python3.10/site-packages (from jupyter-core->jupyterlab>=3.0.0->theme-darcula) (2.5.4)\n",
      "Requirement already satisfied: babel in /usr/lib/python3/dist-packages (from jupyterlab-server~=2.10->jupyterlab>=3.0.0->theme-darcula) (2.8.0)\n",
      "Requirement already satisfied: jsonschema>=3.0.1 in /usr/lib/python3/dist-packages (from jupyterlab-server~=2.10->jupyterlab>=3.0.0->theme-darcula) (3.2.0)\n",
      "Requirement already satisfied: requests in /usr/lib/python3/dist-packages (from jupyterlab-server~=2.10->jupyterlab>=3.0.0->theme-darcula) (2.25.1)\n",
      "Requirement already satisfied: json5 in /home/ubuntu/.local/lib/python3.10/site-packages (from jupyterlab-server~=2.10->jupyterlab>=3.0.0->theme-darcula) (0.9.10)\n",
      "Requirement already satisfied: nest-asyncio>=1.5 in /home/ubuntu/.local/lib/python3.10/site-packages (from notebook<7->jupyterlab>=3.0.0->theme-darcula) (1.5.6)\n",
      "Requirement already satisfied: ipykernel in /home/ubuntu/.local/lib/python3.10/site-packages (from notebook<7->jupyterlab>=3.0.0->theme-darcula) (6.17.1)\n",
      "Requirement already satisfied: ipython-genutils in /home/ubuntu/.local/lib/python3.10/site-packages (from notebook<7->jupyterlab>=3.0.0->theme-darcula) (0.2.0)\n",
      "Requirement already satisfied: notebook-shim>=0.1.0 in /home/ubuntu/.local/lib/python3.10/site-packages (from nbclassic->jupyterlab>=3.0.0->theme-darcula) (0.2.2)\n",
      "Requirement already satisfied: decorator in /home/ubuntu/.local/lib/python3.10/site-packages (from ipython->jupyterlab>=3.0.0->theme-darcula) (5.1.1)\n",
      "Requirement already satisfied: pygments>=2.4.0 in /home/ubuntu/.local/lib/python3.10/site-packages (from ipython->jupyterlab>=3.0.0->theme-darcula) (2.13.0)\n",
      "Requirement already satisfied: jedi>=0.16 in /home/ubuntu/.local/lib/python3.10/site-packages (from ipython->jupyterlab>=3.0.0->theme-darcula) (0.18.1)\n",
      "Requirement already satisfied: stack-data in /home/ubuntu/.local/lib/python3.10/site-packages (from ipython->jupyterlab>=3.0.0->theme-darcula) (0.6.1)\n",
      "Requirement already satisfied: pickleshare in /home/ubuntu/.local/lib/python3.10/site-packages (from ipython->jupyterlab>=3.0.0->theme-darcula) (0.7.5)\n",
      "Requirement already satisfied: prompt-toolkit<3.1.0,>3.0.1 in /home/ubuntu/.local/lib/python3.10/site-packages (from ipython->jupyterlab>=3.0.0->theme-darcula) (3.0.32)\n",
      "Requirement already satisfied: pexpect>4.3 in /home/ubuntu/.local/lib/python3.10/site-packages (from ipython->jupyterlab>=3.0.0->theme-darcula) (4.8.0)\n",
      "Requirement already satisfied: matplotlib-inline in /home/ubuntu/.local/lib/python3.10/site-packages (from ipython->jupyterlab>=3.0.0->theme-darcula) (0.1.6)\n",
      "Requirement already satisfied: backcall in /home/ubuntu/.local/lib/python3.10/site-packages (from ipython->jupyterlab>=3.0.0->theme-darcula) (0.2.0)\n",
      "Requirement already satisfied: pyparsing!=3.0.5,>=2.0.2 in /usr/lib/python3/dist-packages (from packaging->jupyterlab>=3.0.0->theme-darcula) (2.4.7)\n",
      "Requirement already satisfied: idna>=2.8 in /usr/lib/python3/dist-packages (from anyio<4,>=3.1.0->jupyter-server<3,>=1.16.0->jupyterlab>=3.0.0->theme-darcula) (3.3)\n",
      "Requirement already satisfied: sniffio>=1.1 in /home/ubuntu/.local/lib/python3.10/site-packages (from anyio<4,>=3.1.0->jupyter-server<3,>=1.16.0->jupyterlab>=3.0.0->theme-darcula) (1.3.0)\n",
      "Requirement already satisfied: parso<0.9.0,>=0.8.0 in /home/ubuntu/.local/lib/python3.10/site-packages (from jedi>=0.16->ipython->jupyterlab>=3.0.0->theme-darcula) (0.8.3)\n",
      "Requirement already satisfied: entrypoints in /home/ubuntu/.local/lib/python3.10/site-packages (from jupyter-client>=6.1.12->jupyter-server<3,>=1.16.0->jupyterlab>=3.0.0->theme-darcula) (0.4)\n",
      "Requirement already satisfied: python-dateutil>=2.8.2 in /home/ubuntu/.local/lib/python3.10/site-packages (from jupyter-client>=6.1.12->jupyter-server<3,>=1.16.0->jupyterlab>=3.0.0->theme-darcula) (2.8.2)\n",
      "Requirement already satisfied: tinycss2 in /home/ubuntu/.local/lib/python3.10/site-packages (from nbconvert>=6.4.4->jupyter-server<3,>=1.16.0->jupyterlab>=3.0.0->theme-darcula) (1.2.1)\n",
      "Requirement already satisfied: nbclient>=0.5.0 in /home/ubuntu/.local/lib/python3.10/site-packages (from nbconvert>=6.4.4->jupyter-server<3,>=1.16.0->jupyterlab>=3.0.0->theme-darcula) (0.7.0)\n",
      "Requirement already satisfied: defusedxml in /home/ubuntu/.local/lib/python3.10/site-packages (from nbconvert>=6.4.4->jupyter-server<3,>=1.16.0->jupyterlab>=3.0.0->theme-darcula) (0.7.1)\n",
      "Requirement already satisfied: jupyterlab-pygments in /home/ubuntu/.local/lib/python3.10/site-packages (from nbconvert>=6.4.4->jupyter-server<3,>=1.16.0->jupyterlab>=3.0.0->theme-darcula) (0.2.2)\n",
      "Requirement already satisfied: bleach in /home/ubuntu/.local/lib/python3.10/site-packages (from nbconvert>=6.4.4->jupyter-server<3,>=1.16.0->jupyterlab>=3.0.0->theme-darcula) (5.0.1)\n",
      "Requirement already satisfied: pandocfilters>=1.4.1 in /home/ubuntu/.local/lib/python3.10/site-packages (from nbconvert>=6.4.4->jupyter-server<3,>=1.16.0->jupyterlab>=3.0.0->theme-darcula) (1.5.0)\n",
      "Requirement already satisfied: mistune<3,>=2.0.3 in /home/ubuntu/.local/lib/python3.10/site-packages (from nbconvert>=6.4.4->jupyter-server<3,>=1.16.0->jupyterlab>=3.0.0->theme-darcula) (2.0.4)\n",
      "Requirement already satisfied: beautifulsoup4 in /home/ubuntu/.local/lib/python3.10/site-packages (from nbconvert>=6.4.4->jupyter-server<3,>=1.16.0->jupyterlab>=3.0.0->theme-darcula) (4.11.1)\n",
      "Requirement already satisfied: markupsafe>=2.0 in /usr/lib/python3/dist-packages (from nbconvert>=6.4.4->jupyter-server<3,>=1.16.0->jupyterlab>=3.0.0->theme-darcula) (2.0.1)\n",
      "Requirement already satisfied: fastjsonschema in /home/ubuntu/.local/lib/python3.10/site-packages (from nbformat>=5.2.0->jupyter-server<3,>=1.16.0->jupyterlab>=3.0.0->theme-darcula) (2.16.2)\n",
      "Requirement already satisfied: ptyprocess>=0.5 in /home/ubuntu/.local/lib/python3.10/site-packages (from pexpect>4.3->ipython->jupyterlab>=3.0.0->theme-darcula) (0.7.0)\n",
      "Requirement already satisfied: wcwidth in /home/ubuntu/.local/lib/python3.10/site-packages (from prompt-toolkit<3.1.0,>3.0.1->ipython->jupyterlab>=3.0.0->theme-darcula) (0.2.5)\n",
      "Requirement already satisfied: argon2-cffi-bindings in /home/ubuntu/.local/lib/python3.10/site-packages (from argon2-cffi->jupyter-server<3,>=1.16.0->jupyterlab>=3.0.0->theme-darcula) (21.2.0)\n",
      "Requirement already satisfied: debugpy>=1.0 in /home/ubuntu/.local/lib/python3.10/site-packages (from ipykernel->notebook<7->jupyterlab>=3.0.0->theme-darcula) (1.6.3)\n",
      "Requirement already satisfied: psutil in /home/ubuntu/.local/lib/python3.10/site-packages (from ipykernel->notebook<7->jupyterlab>=3.0.0->theme-darcula) (5.9.4)\n",
      "Requirement already satisfied: asttokens>=2.1.0 in /home/ubuntu/.local/lib/python3.10/site-packages (from stack-data->ipython->jupyterlab>=3.0.0->theme-darcula) (2.1.0)\n",
      "Requirement already satisfied: pure-eval in /home/ubuntu/.local/lib/python3.10/site-packages (from stack-data->ipython->jupyterlab>=3.0.0->theme-darcula) (0.2.2)\n",
      "Requirement already satisfied: executing>=1.2.0 in /home/ubuntu/.local/lib/python3.10/site-packages (from stack-data->ipython->jupyterlab>=3.0.0->theme-darcula) (1.2.0)\n",
      "Requirement already satisfied: six in /usr/lib/python3/dist-packages (from asttokens>=2.1.0->stack-data->ipython->jupyterlab>=3.0.0->theme-darcula) (1.16.0)\n",
      "Requirement already satisfied: cffi>=1.0.1 in /home/ubuntu/.local/lib/python3.10/site-packages (from argon2-cffi-bindings->argon2-cffi->jupyter-server<3,>=1.16.0->jupyterlab>=3.0.0->theme-darcula) (1.15.1)\n",
      "Requirement already satisfied: soupsieve>1.2 in /home/ubuntu/.local/lib/python3.10/site-packages (from beautifulsoup4->nbconvert>=6.4.4->jupyter-server<3,>=1.16.0->jupyterlab>=3.0.0->theme-darcula) (2.3.2.post1)\n",
      "Requirement already satisfied: webencodings in /home/ubuntu/.local/lib/python3.10/site-packages (from bleach->nbconvert>=6.4.4->jupyter-server<3,>=1.16.0->jupyterlab>=3.0.0->theme-darcula) (0.5.1)\n",
      "Requirement already satisfied: pycparser in /home/ubuntu/.local/lib/python3.10/site-packages (from cffi>=1.0.1->argon2-cffi-bindings->argon2-cffi->jupyter-server<3,>=1.16.0->jupyterlab>=3.0.0->theme-darcula) (2.21)\n"
     ]
    }
   ],
   "source": [
    "! pip install theme-darcula"
   ]
  },
  {
   "cell_type": "code",
   "execution_count": 4,
   "id": "f5575dc6-051f-4aba-8c18-3172183e56a2",
   "metadata": {
    "tags": []
   },
   "outputs": [
    {
     "name": "stdout",
     "output_type": "stream",
     "text": [
      "Defaulting to user installation because normal site-packages is not writeable\n",
      "Requirement already satisfied: jupyterlab-material-night-eighties in /home/ubuntu/.local/lib/python3.10/site-packages (0.2.10)\n"
     ]
    }
   ],
   "source": [
    "! pip install jupyterlab-material-night-eighties"
   ]
  },
  {
   "cell_type": "markdown",
   "id": "0997ba9a-5a14-4909-8cd1-349b13308bfc",
   "metadata": {
    "tags": []
   },
   "source": [
    "#### 安裝 JupyterLab extension\n",
    "\n",
    "安裝 wxyz 方便我們修改 yaml 檔案, 建議👈左邊的extension management 進行安裝，而不是👇下面的指令"
   ]
  },
  {
   "cell_type": "code",
   "execution_count": 1,
   "id": "66c3ecfb-ab23-44de-8d0e-bc3e6858ee4d",
   "metadata": {},
   "outputs": [
    {
     "name": "stdout",
     "output_type": "stream",
     "text": [
      "Defaulting to user installation because normal site-packages is not writeable\n",
      "Collecting wxyz_yaml\n",
      "  Downloading wxyz_yaml-0.5.1-py3-none-any.whl (55 kB)\n",
      "\u001b[2K     \u001b[90m━━━━━━━━━━━━━━━━━━━━━━━━━━━━━━━━━━━━━━━\u001b[0m \u001b[32m55.3/55.3 KB\u001b[0m \u001b[31m451.1 kB/s\u001b[0m eta \u001b[36m0:00:00\u001b[0ma \u001b[36m0:00:01\u001b[0m\n",
      "\u001b[?25hRequirement already satisfied: pyyaml in /usr/lib/python3/dist-packages (from wxyz_yaml) (5.4.1)\n",
      "Collecting ipywidgets\n",
      "  Downloading ipywidgets-8.0.2-py3-none-any.whl (134 kB)\n",
      "\u001b[2K     \u001b[90m━━━━━━━━━━━━━━━━━━━━━━━━━━━━━━━━━━━━━━━\u001b[0m \u001b[32m134.4/134.4 KB\u001b[0m \u001b[31m1.3 MB/s\u001b[0m eta \u001b[36m0:00:00\u001b[0ma \u001b[36m0:00:01\u001b[0m\n",
      "\u001b[?25hCollecting jupyterlab-widgets~=3.0\n",
      "  Downloading jupyterlab_widgets-3.0.3-py3-none-any.whl (384 kB)\n",
      "\u001b[2K     \u001b[90m━━━━━━━━━━━━━━━━━━━━━━━━━━━━━━━━━━━━━━━\u001b[0m \u001b[32m384.1/384.1 KB\u001b[0m \u001b[31m2.4 MB/s\u001b[0m eta \u001b[36m0:00:00\u001b[0m00:01\u001b[0m00:01\u001b[0m\n",
      "\u001b[?25hRequirement already satisfied: ipython>=6.1.0 in /home/ubuntu/.local/lib/python3.10/site-packages (from ipywidgets->wxyz_yaml) (8.6.0)\n",
      "Collecting widgetsnbextension~=4.0\n",
      "  Downloading widgetsnbextension-4.0.3-py3-none-any.whl (2.0 MB)\n",
      "\u001b[2K     \u001b[90m━━━━━━━━━━━━━━━━━━━━━━━━━━━━━━━━━━━━━━━━\u001b[0m \u001b[32m2.0/2.0 MB\u001b[0m \u001b[31m1.5 MB/s\u001b[0m eta \u001b[36m0:00:00\u001b[0m00:01\u001b[0m00:01\u001b[0m\n",
      "\u001b[?25hRequirement already satisfied: ipykernel>=4.5.1 in /home/ubuntu/.local/lib/python3.10/site-packages (from ipywidgets->wxyz_yaml) (6.17.1)\n",
      "Requirement already satisfied: traitlets>=4.3.1 in /home/ubuntu/.local/lib/python3.10/site-packages (from ipywidgets->wxyz_yaml) (5.5.0)\n",
      "Requirement already satisfied: debugpy>=1.0 in /home/ubuntu/.local/lib/python3.10/site-packages (from ipykernel>=4.5.1->ipywidgets->wxyz_yaml) (1.6.3)\n",
      "Requirement already satisfied: packaging in /home/ubuntu/.local/lib/python3.10/site-packages (from ipykernel>=4.5.1->ipywidgets->wxyz_yaml) (21.3)\n",
      "Requirement already satisfied: psutil in /home/ubuntu/.local/lib/python3.10/site-packages (from ipykernel>=4.5.1->ipywidgets->wxyz_yaml) (5.9.4)\n",
      "Requirement already satisfied: pyzmq>=17 in /home/ubuntu/.local/lib/python3.10/site-packages (from ipykernel>=4.5.1->ipywidgets->wxyz_yaml) (24.0.1)\n",
      "Requirement already satisfied: matplotlib-inline>=0.1 in /home/ubuntu/.local/lib/python3.10/site-packages (from ipykernel>=4.5.1->ipywidgets->wxyz_yaml) (0.1.6)\n",
      "Requirement already satisfied: tornado>=6.1 in /home/ubuntu/.local/lib/python3.10/site-packages (from ipykernel>=4.5.1->ipywidgets->wxyz_yaml) (6.2)\n",
      "Requirement already satisfied: nest-asyncio in /home/ubuntu/.local/lib/python3.10/site-packages (from ipykernel>=4.5.1->ipywidgets->wxyz_yaml) (1.5.6)\n",
      "Requirement already satisfied: jupyter-client>=6.1.12 in /home/ubuntu/.local/lib/python3.10/site-packages (from ipykernel>=4.5.1->ipywidgets->wxyz_yaml) (7.4.7)\n",
      "Requirement already satisfied: pexpect>4.3 in /home/ubuntu/.local/lib/python3.10/site-packages (from ipython>=6.1.0->ipywidgets->wxyz_yaml) (4.8.0)\n",
      "Requirement already satisfied: decorator in /home/ubuntu/.local/lib/python3.10/site-packages (from ipython>=6.1.0->ipywidgets->wxyz_yaml) (5.1.1)\n",
      "Requirement already satisfied: stack-data in /home/ubuntu/.local/lib/python3.10/site-packages (from ipython>=6.1.0->ipywidgets->wxyz_yaml) (0.6.1)\n",
      "Requirement already satisfied: pickleshare in /home/ubuntu/.local/lib/python3.10/site-packages (from ipython>=6.1.0->ipywidgets->wxyz_yaml) (0.7.5)\n",
      "Requirement already satisfied: backcall in /home/ubuntu/.local/lib/python3.10/site-packages (from ipython>=6.1.0->ipywidgets->wxyz_yaml) (0.2.0)\n",
      "Requirement already satisfied: jedi>=0.16 in /home/ubuntu/.local/lib/python3.10/site-packages (from ipython>=6.1.0->ipywidgets->wxyz_yaml) (0.18.1)\n",
      "Requirement already satisfied: pygments>=2.4.0 in /home/ubuntu/.local/lib/python3.10/site-packages (from ipython>=6.1.0->ipywidgets->wxyz_yaml) (2.13.0)\n",
      "Requirement already satisfied: prompt-toolkit<3.1.0,>3.0.1 in /home/ubuntu/.local/lib/python3.10/site-packages (from ipython>=6.1.0->ipywidgets->wxyz_yaml) (3.0.32)\n",
      "Requirement already satisfied: parso<0.9.0,>=0.8.0 in /home/ubuntu/.local/lib/python3.10/site-packages (from jedi>=0.16->ipython>=6.1.0->ipywidgets->wxyz_yaml) (0.8.3)\n",
      "Requirement already satisfied: python-dateutil>=2.8.2 in /home/ubuntu/.local/lib/python3.10/site-packages (from jupyter-client>=6.1.12->ipykernel>=4.5.1->ipywidgets->wxyz_yaml) (2.8.2)\n",
      "Requirement already satisfied: entrypoints in /home/ubuntu/.local/lib/python3.10/site-packages (from jupyter-client>=6.1.12->ipykernel>=4.5.1->ipywidgets->wxyz_yaml) (0.4)\n",
      "Requirement already satisfied: jupyter-core>=4.9.2 in /home/ubuntu/.local/lib/python3.10/site-packages (from jupyter-client>=6.1.12->ipykernel>=4.5.1->ipywidgets->wxyz_yaml) (5.0.0)\n",
      "Requirement already satisfied: ptyprocess>=0.5 in /home/ubuntu/.local/lib/python3.10/site-packages (from pexpect>4.3->ipython>=6.1.0->ipywidgets->wxyz_yaml) (0.7.0)\n",
      "Requirement already satisfied: wcwidth in /home/ubuntu/.local/lib/python3.10/site-packages (from prompt-toolkit<3.1.0,>3.0.1->ipython>=6.1.0->ipywidgets->wxyz_yaml) (0.2.5)\n",
      "Requirement already satisfied: pyparsing!=3.0.5,>=2.0.2 in /usr/lib/python3/dist-packages (from packaging->ipykernel>=4.5.1->ipywidgets->wxyz_yaml) (2.4.7)\n",
      "Requirement already satisfied: asttokens>=2.1.0 in /home/ubuntu/.local/lib/python3.10/site-packages (from stack-data->ipython>=6.1.0->ipywidgets->wxyz_yaml) (2.1.0)\n",
      "Requirement already satisfied: pure-eval in /home/ubuntu/.local/lib/python3.10/site-packages (from stack-data->ipython>=6.1.0->ipywidgets->wxyz_yaml) (0.2.2)\n",
      "Requirement already satisfied: executing>=1.2.0 in /home/ubuntu/.local/lib/python3.10/site-packages (from stack-data->ipython>=6.1.0->ipywidgets->wxyz_yaml) (1.2.0)\n",
      "Requirement already satisfied: six in /usr/lib/python3/dist-packages (from asttokens>=2.1.0->stack-data->ipython>=6.1.0->ipywidgets->wxyz_yaml) (1.16.0)\n",
      "Requirement already satisfied: platformdirs in /home/ubuntu/.local/lib/python3.10/site-packages (from jupyter-core>=4.9.2->jupyter-client>=6.1.12->ipykernel>=4.5.1->ipywidgets->wxyz_yaml) (2.5.4)\n",
      "Installing collected packages: widgetsnbextension, jupyterlab-widgets, ipywidgets, wxyz_yaml\n",
      "Successfully installed ipywidgets-8.0.2 jupyterlab-widgets-3.0.3 widgetsnbextension-4.0.3 wxyz_yaml-0.5.1\n"
     ]
    }
   ],
   "source": [
    "! pip install wxyz_yaml"
   ]
  },
  {
   "cell_type": "code",
   "execution_count": 14,
   "id": "c3375547-adff-4a36-9347-378808632fe0",
   "metadata": {},
   "outputs": [
    {
     "name": "stdout",
     "output_type": "stream",
     "text": [
      "[LabBuildApp] JupyterLab 3.5.0\n",
      "[LabBuildApp] Building in /home/ubuntu/.local/share/jupyter/lab\n",
      "[LabBuildApp] Building jupyterlab assets (production, minimized)\n",
      "Build failed.\n",
      "Troubleshooting: If the build failed due to an out-of-memory error, you\n",
      "may be able to fix it by disabling the `dev_build` and/or `minimize` options.\n",
      "\n",
      "If you are building via the `jupyter lab build` command, you can disable\n",
      "these options like so:\n",
      "\n",
      "jupyter lab build --dev-build=False --minimize=False\n",
      "\n",
      "You can also disable these options for all JupyterLab builds by adding these\n",
      "lines to a Jupyter config file named `jupyter_config.py`:\n",
      "\n",
      "c.LabBuildApp.minimize = False\n",
      "c.LabBuildApp.dev_build = False\n",
      "\n",
      "If you don't already have a `jupyter_config.py` file, you can create one by\n",
      "adding a blank file of that name to any of the Jupyter config directories.\n",
      "The config directories can be listed by running:\n",
      "\n",
      "jupyter --paths\n",
      "\n",
      "Explanation:\n",
      "\n",
      "- `dev-build`: This option controls whether a `dev` or a more streamlined\n",
      "`production` build is used. This option will default to `False` (i.e., the\n",
      "`production` build) for most users. However, if you have any labextensions\n",
      "installed from local files, this option will instead default to `True`.\n",
      "Explicitly setting `dev-build` to `False` will ensure that the `production`\n",
      "build is used in all circumstances.\n",
      "\n",
      "- `minimize`: This option controls whether your JS bundle is minified\n",
      "during the Webpack build, which helps to improve JupyterLab's overall\n",
      "performance. However, the minifier plugin used by Webpack is very memory\n",
      "intensive, so turning it off may help the build finish successfully in\n",
      "low-memory environments.\n",
      "\n",
      "An error occurred.\n",
      "RuntimeError: JupyterLab failed to build\n",
      "See the log file for details:  /tmp/jupyterlab-debug-18afclzo.log\n"
     ]
    }
   ],
   "source": [
    "!# 安裝完后需要 build 一次 jupyter lab\n",
    "# ! jupyter lab build\n",
    "! /home/ubuntu/.local/bin/jupyter lab build"
   ]
  },
  {
   "cell_type": "code",
   "execution_count": 21,
   "id": "36b5d5e6-dc6c-41a1-ab3e-456ea8dcb62b",
   "metadata": {},
   "outputs": [
    {
     "name": "stdout",
     "output_type": "stream",
     "text": [
      "/usr/local/sbin:/usr/local/bin:/usr/sbin:/usr/bin:/sbin:/bin:/snap/bin\n"
     ]
    }
   ],
   "source": [
    "! echo $PATH"
   ]
  },
  {
   "cell_type": "code",
   "execution_count": 23,
   "id": "b61e3cb1-8d6a-4dcc-a2d7-c6f2359aedf9",
   "metadata": {},
   "outputs": [],
   "source": [
    "# ! export PATH=$PATH:~/.local/bin"
   ]
  },
  {
   "cell_type": "code",
   "execution_count": 18,
   "id": "9fc5f116-edc9-4b85-8b1a-ff40a4c7d3ac",
   "metadata": {},
   "outputs": [
    {
     "name": "stdout",
     "output_type": "stream",
     "text": [
      "usage: jupyter [-h] [--version] [--config-dir] [--data-dir] [--runtime-dir]\n",
      "               [--paths] [--json] [--debug]\n",
      "               [subcommand]\n",
      "\n",
      "Jupyter: Interactive Computing\n",
      "\n",
      "positional arguments:\n",
      "  subcommand     the subcommand to launch\n",
      "\n",
      "options:\n",
      "  -h, --help     show this help message and exit\n",
      "  --version      show the versions of core jupyter packages and exit\n",
      "  --config-dir   show Jupyter config dir\n",
      "  --data-dir     show Jupyter data dir\n",
      "  --runtime-dir  show Jupyter runtime dir\n",
      "  --paths        show all Jupyter paths. Add --json for machine-readable\n",
      "                 format.\n",
      "  --json         output paths as machine-readable json\n",
      "  --debug        output debug information about paths\n",
      "\n",
      "Available subcommands: bundlerextension dejavu execute kernel kernelspec lab\n",
      "labextension labhub migrate nbclassic nbconvert nbextension notebook run\n",
      "server serverextension troubleshoot trust\n",
      "\n",
      "Please specify a subcommand or one of the optional arguments.\n"
     ]
    }
   ],
   "source": [
    "# ! /home/ubuntu/.local/bin/jupyter"
   ]
  },
  {
   "cell_type": "code",
   "execution_count": 19,
   "id": "dbb73ddc-cc2c-4a87-9f91-4c7050c9a3cc",
   "metadata": {},
   "outputs": [
    {
     "name": "stdout",
     "output_type": "stream",
     "text": [
      "/bin/bash: line 1: jupyter: command not found\n"
     ]
    }
   ],
   "source": []
  },
  {
   "cell_type": "code",
   "execution_count": null,
   "id": "71fc4726-b53d-4dd8-849a-e4d8485ab9a3",
   "metadata": {},
   "outputs": [],
   "source": []
  }
 ],
 "metadata": {
  "kernelspec": {
   "display_name": "Python 3 (ipykernel)",
   "language": "python",
   "name": "python3"
  },
  "language_info": {
   "codemirror_mode": {
    "name": "ipython",
    "version": 3
   },
   "file_extension": ".py",
   "mimetype": "text/x-python",
   "name": "python",
   "nbconvert_exporter": "python",
   "pygments_lexer": "ipython3",
   "version": "3.10.6"
  }
 },
 "nbformat": 4,
 "nbformat_minor": 5
}
